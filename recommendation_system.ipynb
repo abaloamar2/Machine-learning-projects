{
 "cells": [
  {
   "cell_type": "code",
   "execution_count": 2,
   "metadata": {
    "collapsed": false
   },
   "outputs": [
   ],
   "source": [
    "import pandas as pd\n",
    "import numpy as np"
   ]
  },
  {
   "cell_type": "code",
   "execution_count": 3,
   "metadata": {
    "collapsed": false
   },
   "outputs": [
   ],
   "source": [
    "data = pd.read_csv(\"u.data\",delimiter=\"\\t\")"
   ]
  },
  {
   "cell_type": "code",
   "execution_count": 4,
   "metadata": {
    "collapsed": false
   },
   "outputs": [
    {
     "data": {
      "text/html": [
       "<div>\n",
       "<style scoped>\n",
       "    .dataframe tbody tr th:only-of-type {\n",
       "        vertical-align: middle;\n",
       "    }\n",
       "\n",
       "    .dataframe tbody tr th {\n",
       "        vertical-align: top;\n",
       "    }\n",
       "\n",
       "    .dataframe thead th {\n",
       "        text-align: right;\n",
       "    }\n",
       "</style>\n",
       "<table border=\"1\" class=\"dataframe\">\n",
       "  <thead>\n",
       "    <tr style=\"text-align: right;\">\n",
       "      <th></th>\n",
       "      <th>196</th>\n",
       "      <th>242</th>\n",
       "      <th>3</th>\n",
       "      <th>881250949</th>\n",
       "    </tr>\n",
       "  </thead>\n",
       "  <tbody>\n",
       "    <tr>\n",
       "      <th>0</th>\n",
       "      <td>186</td>\n",
       "      <td>302</td>\n",
       "      <td>3</td>\n",
       "      <td>891717742</td>\n",
       "    </tr>\n",
       "    <tr>\n",
       "      <th>1</th>\n",
       "      <td>22</td>\n",
       "      <td>377</td>\n",
       "      <td>1</td>\n",
       "      <td>878887116</td>\n",
       "    </tr>\n",
       "    <tr>\n",
       "      <th>2</th>\n",
       "      <td>244</td>\n",
       "      <td>51</td>\n",
       "      <td>2</td>\n",
       "      <td>880606923</td>\n",
       "    </tr>\n",
       "    <tr>\n",
       "      <th>3</th>\n",
       "      <td>166</td>\n",
       "      <td>346</td>\n",
       "      <td>1</td>\n",
       "      <td>886397596</td>\n",
       "    </tr>\n",
       "    <tr>\n",
       "      <th>4</th>\n",
       "      <td>298</td>\n",
       "      <td>474</td>\n",
       "      <td>4</td>\n",
       "      <td>884182806</td>\n",
       "    </tr>\n",
       "    <tr>\n",
       "      <th>...</th>\n",
       "      <td>...</td>\n",
       "      <td>...</td>\n",
       "      <td>...</td>\n",
       "      <td>...</td>\n",
       "    </tr>\n",
       "    <tr>\n",
       "      <th>99994</th>\n",
       "      <td>880</td>\n",
       "      <td>476</td>\n",
       "      <td>3</td>\n",
       "      <td>880175444</td>\n",
       "    </tr>\n",
       "    <tr>\n",
       "      <th>99995</th>\n",
       "      <td>716</td>\n",
       "      <td>204</td>\n",
       "      <td>5</td>\n",
       "      <td>879795543</td>\n",
       "    </tr>\n",
       "    <tr>\n",
       "      <th>99996</th>\n",
       "      <td>276</td>\n",
       "      <td>1090</td>\n",
       "      <td>1</td>\n",
       "      <td>874795795</td>\n",
       "    </tr>\n",
       "    <tr>\n",
       "      <th>99997</th>\n",
       "      <td>13</td>\n",
       "      <td>225</td>\n",
       "      <td>2</td>\n",
       "      <td>882399156</td>\n",
       "    </tr>\n",
       "    <tr>\n",
       "      <th>99998</th>\n",
       "      <td>12</td>\n",
       "      <td>203</td>\n",
       "      <td>3</td>\n",
       "      <td>879959583</td>\n",
       "    </tr>\n",
       "  </tbody>\n",
       "</table>\n",
       "<p>99999 rows × 4 columns</p>\n",
       "</div>"
      ],
      "text/plain": [
       "       196   242  3  881250949\n",
       "0      186   302  3  891717742\n",
       "1       22   377  1  878887116\n",
       "2      244    51  2  880606923\n",
       "3      166   346  1  886397596\n",
       "4      298   474  4  884182806\n",
       "...    ...   ... ..        ...\n",
       "99994  880   476  3  880175444\n",
       "99995  716   204  5  879795543\n",
       "99996  276  1090  1  874795795\n",
       "99997   13   225  2  882399156\n",
       "99998   12   203  3  879959583\n",
       "\n",
       "[99999 rows x 4 columns]"
      ]
     },
     "execution_count": 4,
     "metadata": {
     },
     "output_type": "execute_result"
    }
   ],
   "source": [
    "data"
   ]
  },
  {
   "cell_type": "code",
   "execution_count": 5,
   "metadata": {
    "collapsed": false
   },
   "outputs": [
   ],
   "source": [
    "genre = pd.read_csv(\"u.genre\",delimiter=\"|\")"
   ]
  },
  {
   "cell_type": "code",
   "execution_count": 6,
   "metadata": {
    "collapsed": false
   },
   "outputs": [
    {
     "data": {
      "text/html": [
       "<div>\n",
       "<style scoped>\n",
       "    .dataframe tbody tr th:only-of-type {\n",
       "        vertical-align: middle;\n",
       "    }\n",
       "\n",
       "    .dataframe tbody tr th {\n",
       "        vertical-align: top;\n",
       "    }\n",
       "\n",
       "    .dataframe thead th {\n",
       "        text-align: right;\n",
       "    }\n",
       "</style>\n",
       "<table border=\"1\" class=\"dataframe\">\n",
       "  <thead>\n",
       "    <tr style=\"text-align: right;\">\n",
       "      <th></th>\n",
       "      <th>unknown</th>\n",
       "      <th>0</th>\n",
       "    </tr>\n",
       "  </thead>\n",
       "  <tbody>\n",
       "    <tr>\n",
       "      <th>0</th>\n",
       "      <td>Action</td>\n",
       "      <td>1</td>\n",
       "    </tr>\n",
       "    <tr>\n",
       "      <th>1</th>\n",
       "      <td>Adventure</td>\n",
       "      <td>2</td>\n",
       "    </tr>\n",
       "    <tr>\n",
       "      <th>2</th>\n",
       "      <td>Animation</td>\n",
       "      <td>3</td>\n",
       "    </tr>\n",
       "    <tr>\n",
       "      <th>3</th>\n",
       "      <td>Children's</td>\n",
       "      <td>4</td>\n",
       "    </tr>\n",
       "    <tr>\n",
       "      <th>4</th>\n",
       "      <td>Comedy</td>\n",
       "      <td>5</td>\n",
       "    </tr>\n",
       "    <tr>\n",
       "      <th>5</th>\n",
       "      <td>Crime</td>\n",
       "      <td>6</td>\n",
       "    </tr>\n",
       "    <tr>\n",
       "      <th>6</th>\n",
       "      <td>Documentary</td>\n",
       "      <td>7</td>\n",
       "    </tr>\n",
       "    <tr>\n",
       "      <th>7</th>\n",
       "      <td>Drama</td>\n",
       "      <td>8</td>\n",
       "    </tr>\n",
       "    <tr>\n",
       "      <th>8</th>\n",
       "      <td>Fantasy</td>\n",
       "      <td>9</td>\n",
       "    </tr>\n",
       "    <tr>\n",
       "      <th>9</th>\n",
       "      <td>Film-Noir</td>\n",
       "      <td>10</td>\n",
       "    </tr>\n",
       "    <tr>\n",
       "      <th>10</th>\n",
       "      <td>Horror</td>\n",
       "      <td>11</td>\n",
       "    </tr>\n",
       "    <tr>\n",
       "      <th>11</th>\n",
       "      <td>Musical</td>\n",
       "      <td>12</td>\n",
       "    </tr>\n",
       "    <tr>\n",
       "      <th>12</th>\n",
       "      <td>Mystery</td>\n",
       "      <td>13</td>\n",
       "    </tr>\n",
       "    <tr>\n",
       "      <th>13</th>\n",
       "      <td>Romance</td>\n",
       "      <td>14</td>\n",
       "    </tr>\n",
       "    <tr>\n",
       "      <th>14</th>\n",
       "      <td>Sci-Fi</td>\n",
       "      <td>15</td>\n",
       "    </tr>\n",
       "    <tr>\n",
       "      <th>15</th>\n",
       "      <td>Thriller</td>\n",
       "      <td>16</td>\n",
       "    </tr>\n",
       "    <tr>\n",
       "      <th>16</th>\n",
       "      <td>War</td>\n",
       "      <td>17</td>\n",
       "    </tr>\n",
       "    <tr>\n",
       "      <th>17</th>\n",
       "      <td>Western</td>\n",
       "      <td>18</td>\n",
       "    </tr>\n",
       "  </tbody>\n",
       "</table>\n",
       "</div>"
      ],
      "text/plain": [
       "        unknown   0\n",
       "0        Action   1\n",
       "1     Adventure   2\n",
       "2     Animation   3\n",
       "3    Children's   4\n",
       "4        Comedy   5\n",
       "5         Crime   6\n",
       "6   Documentary   7\n",
       "7         Drama   8\n",
       "8       Fantasy   9\n",
       "9     Film-Noir  10\n",
       "10       Horror  11\n",
       "11      Musical  12\n",
       "12      Mystery  13\n",
       "13      Romance  14\n",
       "14       Sci-Fi  15\n",
       "15     Thriller  16\n",
       "16          War  17\n",
       "17      Western  18"
      ]
     },
     "execution_count": 6,
     "metadata": {
     },
     "output_type": "execute_result"
    }
   ],
   "source": [
    "genre"
   ]
  },
  {
   "cell_type": "code",
   "execution_count": 7,
   "metadata": {
    "collapsed": false
   },
   "outputs": [
   ],
   "source": [
    "user = pd.read_csv(\"u.user\",delimiter=\"|\")"
   ]
  },
  {
   "cell_type": "code",
   "execution_count": 8,
   "metadata": {
    "collapsed": false
   },
   "outputs": [
    {
     "data": {
      "text/html": [
       "<div>\n",
       "<style scoped>\n",
       "    .dataframe tbody tr th:only-of-type {\n",
       "        vertical-align: middle;\n",
       "    }\n",
       "\n",
       "    .dataframe tbody tr th {\n",
       "        vertical-align: top;\n",
       "    }\n",
       "\n",
       "    .dataframe thead th {\n",
       "        text-align: right;\n",
       "    }\n",
       "</style>\n",
       "<table border=\"1\" class=\"dataframe\">\n",
       "  <thead>\n",
       "    <tr style=\"text-align: right;\">\n",
       "      <th></th>\n",
       "      <th>1</th>\n",
       "      <th>24</th>\n",
       "      <th>M</th>\n",
       "      <th>technician</th>\n",
       "      <th>85711</th>\n",
       "    </tr>\n",
       "  </thead>\n",
       "  <tbody>\n",
       "    <tr>\n",
       "      <th>0</th>\n",
       "      <td>2</td>\n",
       "      <td>53</td>\n",
       "      <td>F</td>\n",
       "      <td>other</td>\n",
       "      <td>94043</td>\n",
       "    </tr>\n",
       "    <tr>\n",
       "      <th>1</th>\n",
       "      <td>3</td>\n",
       "      <td>23</td>\n",
       "      <td>M</td>\n",
       "      <td>writer</td>\n",
       "      <td>32067</td>\n",
       "    </tr>\n",
       "    <tr>\n",
       "      <th>2</th>\n",
       "      <td>4</td>\n",
       "      <td>24</td>\n",
       "      <td>M</td>\n",
       "      <td>technician</td>\n",
       "      <td>43537</td>\n",
       "    </tr>\n",
       "    <tr>\n",
       "      <th>3</th>\n",
       "      <td>5</td>\n",
       "      <td>33</td>\n",
       "      <td>F</td>\n",
       "      <td>other</td>\n",
       "      <td>15213</td>\n",
       "    </tr>\n",
       "    <tr>\n",
       "      <th>4</th>\n",
       "      <td>6</td>\n",
       "      <td>42</td>\n",
       "      <td>M</td>\n",
       "      <td>executive</td>\n",
       "      <td>98101</td>\n",
       "    </tr>\n",
       "    <tr>\n",
       "      <th>...</th>\n",
       "      <td>...</td>\n",
       "      <td>...</td>\n",
       "      <td>...</td>\n",
       "      <td>...</td>\n",
       "      <td>...</td>\n",
       "    </tr>\n",
       "    <tr>\n",
       "      <th>937</th>\n",
       "      <td>939</td>\n",
       "      <td>26</td>\n",
       "      <td>F</td>\n",
       "      <td>student</td>\n",
       "      <td>33319</td>\n",
       "    </tr>\n",
       "    <tr>\n",
       "      <th>938</th>\n",
       "      <td>940</td>\n",
       "      <td>32</td>\n",
       "      <td>M</td>\n",
       "      <td>administrator</td>\n",
       "      <td>02215</td>\n",
       "    </tr>\n",
       "    <tr>\n",
       "      <th>939</th>\n",
       "      <td>941</td>\n",
       "      <td>20</td>\n",
       "      <td>M</td>\n",
       "      <td>student</td>\n",
       "      <td>97229</td>\n",
       "    </tr>\n",
       "    <tr>\n",
       "      <th>940</th>\n",
       "      <td>942</td>\n",
       "      <td>48</td>\n",
       "      <td>F</td>\n",
       "      <td>librarian</td>\n",
       "      <td>78209</td>\n",
       "    </tr>\n",
       "    <tr>\n",
       "      <th>941</th>\n",
       "      <td>943</td>\n",
       "      <td>22</td>\n",
       "      <td>M</td>\n",
       "      <td>student</td>\n",
       "      <td>77841</td>\n",
       "    </tr>\n",
       "  </tbody>\n",
       "</table>\n",
       "<p>942 rows × 5 columns</p>\n",
       "</div>"
      ],
      "text/plain": [
       "       1  24  M     technician  85711\n",
       "0      2  53  F          other  94043\n",
       "1      3  23  M         writer  32067\n",
       "2      4  24  M     technician  43537\n",
       "3      5  33  F          other  15213\n",
       "4      6  42  M      executive  98101\n",
       "..   ...  .. ..            ...    ...\n",
       "937  939  26  F        student  33319\n",
       "938  940  32  M  administrator  02215\n",
       "939  941  20  M        student  97229\n",
       "940  942  48  F      librarian  78209\n",
       "941  943  22  M        student  77841\n",
       "\n",
       "[942 rows x 5 columns]"
      ]
     },
     "execution_count": 8,
     "metadata": {
     },
     "output_type": "execute_result"
    }
   ],
   "source": [
    "user"
   ]
  },
  {
   "cell_type": "code",
   "execution_count": 9,
   "metadata": {
    "collapsed": false
   },
   "outputs": [
   ],
   "source": [
    "u1_test = pd.read_csv(\"u1.test\",delimiter=\"\\t\")"
   ]
  },
  {
   "cell_type": "code",
   "execution_count": 10,
   "metadata": {
    "collapsed": false
   },
   "outputs": [
    {
     "data": {
      "text/html": [
       "<div>\n",
       "<style scoped>\n",
       "    .dataframe tbody tr th:only-of-type {\n",
       "        vertical-align: middle;\n",
       "    }\n",
       "\n",
       "    .dataframe tbody tr th {\n",
       "        vertical-align: top;\n",
       "    }\n",
       "\n",
       "    .dataframe thead th {\n",
       "        text-align: right;\n",
       "    }\n",
       "</style>\n",
       "<table border=\"1\" class=\"dataframe\">\n",
       "  <thead>\n",
       "    <tr style=\"text-align: right;\">\n",
       "      <th></th>\n",
       "      <th>1</th>\n",
       "      <th>6</th>\n",
       "      <th>5</th>\n",
       "      <th>887431973</th>\n",
       "    </tr>\n",
       "  </thead>\n",
       "  <tbody>\n",
       "    <tr>\n",
       "      <th>0</th>\n",
       "      <td>1</td>\n",
       "      <td>10</td>\n",
       "      <td>3</td>\n",
       "      <td>875693118</td>\n",
       "    </tr>\n",
       "    <tr>\n",
       "      <th>1</th>\n",
       "      <td>1</td>\n",
       "      <td>12</td>\n",
       "      <td>5</td>\n",
       "      <td>878542960</td>\n",
       "    </tr>\n",
       "    <tr>\n",
       "      <th>2</th>\n",
       "      <td>1</td>\n",
       "      <td>14</td>\n",
       "      <td>5</td>\n",
       "      <td>874965706</td>\n",
       "    </tr>\n",
       "    <tr>\n",
       "      <th>3</th>\n",
       "      <td>1</td>\n",
       "      <td>17</td>\n",
       "      <td>3</td>\n",
       "      <td>875073198</td>\n",
       "    </tr>\n",
       "    <tr>\n",
       "      <th>4</th>\n",
       "      <td>1</td>\n",
       "      <td>20</td>\n",
       "      <td>4</td>\n",
       "      <td>887431883</td>\n",
       "    </tr>\n",
       "    <tr>\n",
       "      <th>...</th>\n",
       "      <td>...</td>\n",
       "      <td>...</td>\n",
       "      <td>...</td>\n",
       "      <td>...</td>\n",
       "    </tr>\n",
       "    <tr>\n",
       "      <th>19994</th>\n",
       "      <td>458</td>\n",
       "      <td>648</td>\n",
       "      <td>4</td>\n",
       "      <td>886395899</td>\n",
       "    </tr>\n",
       "    <tr>\n",
       "      <th>19995</th>\n",
       "      <td>458</td>\n",
       "      <td>1101</td>\n",
       "      <td>4</td>\n",
       "      <td>886397931</td>\n",
       "    </tr>\n",
       "    <tr>\n",
       "      <th>19996</th>\n",
       "      <td>459</td>\n",
       "      <td>934</td>\n",
       "      <td>3</td>\n",
       "      <td>879563639</td>\n",
       "    </tr>\n",
       "    <tr>\n",
       "      <th>19997</th>\n",
       "      <td>460</td>\n",
       "      <td>10</td>\n",
       "      <td>3</td>\n",
       "      <td>882912371</td>\n",
       "    </tr>\n",
       "    <tr>\n",
       "      <th>19998</th>\n",
       "      <td>462</td>\n",
       "      <td>682</td>\n",
       "      <td>5</td>\n",
       "      <td>886365231</td>\n",
       "    </tr>\n",
       "  </tbody>\n",
       "</table>\n",
       "<p>19999 rows × 4 columns</p>\n",
       "</div>"
      ],
      "text/plain": [
       "         1     6  5  887431973\n",
       "0        1    10  3  875693118\n",
       "1        1    12  5  878542960\n",
       "2        1    14  5  874965706\n",
       "3        1    17  3  875073198\n",
       "4        1    20  4  887431883\n",
       "...    ...   ... ..        ...\n",
       "19994  458   648  4  886395899\n",
       "19995  458  1101  4  886397931\n",
       "19996  459   934  3  879563639\n",
       "19997  460    10  3  882912371\n",
       "19998  462   682  5  886365231\n",
       "\n",
       "[19999 rows x 4 columns]"
      ]
     },
     "execution_count": 10,
     "metadata": {
     },
     "output_type": "execute_result"
    }
   ],
   "source": [
    "u1_test"
   ]
  },
  {
   "cell_type": "code",
   "execution_count": 11,
   "metadata": {
    "collapsed": false
   },
   "outputs": [
   ],
   "source": [
    "import seaborn as sns"
   ]
  },
  {
   "cell_type": "code",
   "execution_count": 12,
   "metadata": {
    "collapsed": false
   },
   "outputs": [
   ],
   "source": [
    "import matplotlib.pyplot as plt"
   ]
  },
  {
   "cell_type": "code",
   "execution_count": 13,
   "metadata": {
    "collapsed": false
   },
   "outputs": [
   ],
   "source": [
    "noms_de_colonnes = ['UserID', 'Age', 'Gender', 'Occupation', 'ZipCode']"
   ]
  },
  {
   "cell_type": "code",
   "execution_count": 14,
   "metadata": {
    "collapsed": false
   },
   "outputs": [
   ],
   "source": [
    "user.columns = noms_de_colonnes"
   ]
  },
  {
   "cell_type": "code",
   "execution_count": 15,
   "metadata": {
    "collapsed": false
   },
   "outputs": [
    {
     "data": {
      "text/html": [
       "<div>\n",
       "<style scoped>\n",
       "    .dataframe tbody tr th:only-of-type {\n",
       "        vertical-align: middle;\n",
       "    }\n",
       "\n",
       "    .dataframe tbody tr th {\n",
       "        vertical-align: top;\n",
       "    }\n",
       "\n",
       "    .dataframe thead th {\n",
       "        text-align: right;\n",
       "    }\n",
       "</style>\n",
       "<table border=\"1\" class=\"dataframe\">\n",
       "  <thead>\n",
       "    <tr style=\"text-align: right;\">\n",
       "      <th></th>\n",
       "      <th>UserID</th>\n",
       "      <th>Age</th>\n",
       "      <th>Gender</th>\n",
       "      <th>Occupation</th>\n",
       "      <th>ZipCode</th>\n",
       "    </tr>\n",
       "  </thead>\n",
       "  <tbody>\n",
       "    <tr>\n",
       "      <th>0</th>\n",
       "      <td>2</td>\n",
       "      <td>53</td>\n",
       "      <td>F</td>\n",
       "      <td>other</td>\n",
       "      <td>94043</td>\n",
       "    </tr>\n",
       "    <tr>\n",
       "      <th>1</th>\n",
       "      <td>3</td>\n",
       "      <td>23</td>\n",
       "      <td>M</td>\n",
       "      <td>writer</td>\n",
       "      <td>32067</td>\n",
       "    </tr>\n",
       "    <tr>\n",
       "      <th>2</th>\n",
       "      <td>4</td>\n",
       "      <td>24</td>\n",
       "      <td>M</td>\n",
       "      <td>technician</td>\n",
       "      <td>43537</td>\n",
       "    </tr>\n",
       "    <tr>\n",
       "      <th>3</th>\n",
       "      <td>5</td>\n",
       "      <td>33</td>\n",
       "      <td>F</td>\n",
       "      <td>other</td>\n",
       "      <td>15213</td>\n",
       "    </tr>\n",
       "    <tr>\n",
       "      <th>4</th>\n",
       "      <td>6</td>\n",
       "      <td>42</td>\n",
       "      <td>M</td>\n",
       "      <td>executive</td>\n",
       "      <td>98101</td>\n",
       "    </tr>\n",
       "    <tr>\n",
       "      <th>...</th>\n",
       "      <td>...</td>\n",
       "      <td>...</td>\n",
       "      <td>...</td>\n",
       "      <td>...</td>\n",
       "      <td>...</td>\n",
       "    </tr>\n",
       "    <tr>\n",
       "      <th>937</th>\n",
       "      <td>939</td>\n",
       "      <td>26</td>\n",
       "      <td>F</td>\n",
       "      <td>student</td>\n",
       "      <td>33319</td>\n",
       "    </tr>\n",
       "    <tr>\n",
       "      <th>938</th>\n",
       "      <td>940</td>\n",
       "      <td>32</td>\n",
       "      <td>M</td>\n",
       "      <td>administrator</td>\n",
       "      <td>02215</td>\n",
       "    </tr>\n",
       "    <tr>\n",
       "      <th>939</th>\n",
       "      <td>941</td>\n",
       "      <td>20</td>\n",
       "      <td>M</td>\n",
       "      <td>student</td>\n",
       "      <td>97229</td>\n",
       "    </tr>\n",
       "    <tr>\n",
       "      <th>940</th>\n",
       "      <td>942</td>\n",
       "      <td>48</td>\n",
       "      <td>F</td>\n",
       "      <td>librarian</td>\n",
       "      <td>78209</td>\n",
       "    </tr>\n",
       "    <tr>\n",
       "      <th>941</th>\n",
       "      <td>943</td>\n",
       "      <td>22</td>\n",
       "      <td>M</td>\n",
       "      <td>student</td>\n",
       "      <td>77841</td>\n",
       "    </tr>\n",
       "  </tbody>\n",
       "</table>\n",
       "<p>942 rows × 5 columns</p>\n",
       "</div>"
      ],
      "text/plain": [
       "     UserID  Age Gender     Occupation ZipCode\n",
       "0         2   53      F          other   94043\n",
       "1         3   23      M         writer   32067\n",
       "2         4   24      M     technician   43537\n",
       "3         5   33      F          other   15213\n",
       "4         6   42      M      executive   98101\n",
       "..      ...  ...    ...            ...     ...\n",
       "937     939   26      F        student   33319\n",
       "938     940   32      M  administrator   02215\n",
       "939     941   20      M        student   97229\n",
       "940     942   48      F      librarian   78209\n",
       "941     943   22      M        student   77841\n",
       "\n",
       "[942 rows x 5 columns]"
      ]
     },
     "execution_count": 15,
     "metadata": {
     },
     "output_type": "execute_result"
    }
   ],
   "source": [
    "user"
   ]
  },
  {
   "cell_type": "code",
   "execution_count": 16,
   "metadata": {
    "collapsed": false
   },
   "outputs": [
   ],
   "source": [
    "na_of= ['UserID',\"FilmID\",\"Notation\",\"Timestamp\"]"
   ]
  },
  {
   "cell_type": "code",
   "execution_count": 17,
   "metadata": {
    "collapsed": false
   },
   "outputs": [
   ],
   "source": [
    "data.columns = na_of"
   ]
  },
  {
   "cell_type": "code",
   "execution_count": 18,
   "metadata": {
    "collapsed": false
   },
   "outputs": [
    {
     "data": {
      "text/html": [
       "<div>\n",
       "<style scoped>\n",
       "    .dataframe tbody tr th:only-of-type {\n",
       "        vertical-align: middle;\n",
       "    }\n",
       "\n",
       "    .dataframe tbody tr th {\n",
       "        vertical-align: top;\n",
       "    }\n",
       "\n",
       "    .dataframe thead th {\n",
       "        text-align: right;\n",
       "    }\n",
       "</style>\n",
       "<table border=\"1\" class=\"dataframe\">\n",
       "  <thead>\n",
       "    <tr style=\"text-align: right;\">\n",
       "      <th></th>\n",
       "      <th>UserID</th>\n",
       "      <th>FilmID</th>\n",
       "      <th>Notation</th>\n",
       "      <th>Timestamp</th>\n",
       "    </tr>\n",
       "  </thead>\n",
       "  <tbody>\n",
       "    <tr>\n",
       "      <th>0</th>\n",
       "      <td>186</td>\n",
       "      <td>302</td>\n",
       "      <td>3</td>\n",
       "      <td>891717742</td>\n",
       "    </tr>\n",
       "    <tr>\n",
       "      <th>1</th>\n",
       "      <td>22</td>\n",
       "      <td>377</td>\n",
       "      <td>1</td>\n",
       "      <td>878887116</td>\n",
       "    </tr>\n",
       "    <tr>\n",
       "      <th>2</th>\n",
       "      <td>244</td>\n",
       "      <td>51</td>\n",
       "      <td>2</td>\n",
       "      <td>880606923</td>\n",
       "    </tr>\n",
       "    <tr>\n",
       "      <th>3</th>\n",
       "      <td>166</td>\n",
       "      <td>346</td>\n",
       "      <td>1</td>\n",
       "      <td>886397596</td>\n",
       "    </tr>\n",
       "    <tr>\n",
       "      <th>4</th>\n",
       "      <td>298</td>\n",
       "      <td>474</td>\n",
       "      <td>4</td>\n",
       "      <td>884182806</td>\n",
       "    </tr>\n",
       "    <tr>\n",
       "      <th>...</th>\n",
       "      <td>...</td>\n",
       "      <td>...</td>\n",
       "      <td>...</td>\n",
       "      <td>...</td>\n",
       "    </tr>\n",
       "    <tr>\n",
       "      <th>99994</th>\n",
       "      <td>880</td>\n",
       "      <td>476</td>\n",
       "      <td>3</td>\n",
       "      <td>880175444</td>\n",
       "    </tr>\n",
       "    <tr>\n",
       "      <th>99995</th>\n",
       "      <td>716</td>\n",
       "      <td>204</td>\n",
       "      <td>5</td>\n",
       "      <td>879795543</td>\n",
       "    </tr>\n",
       "    <tr>\n",
       "      <th>99996</th>\n",
       "      <td>276</td>\n",
       "      <td>1090</td>\n",
       "      <td>1</td>\n",
       "      <td>874795795</td>\n",
       "    </tr>\n",
       "    <tr>\n",
       "      <th>99997</th>\n",
       "      <td>13</td>\n",
       "      <td>225</td>\n",
       "      <td>2</td>\n",
       "      <td>882399156</td>\n",
       "    </tr>\n",
       "    <tr>\n",
       "      <th>99998</th>\n",
       "      <td>12</td>\n",
       "      <td>203</td>\n",
       "      <td>3</td>\n",
       "      <td>879959583</td>\n",
       "    </tr>\n",
       "  </tbody>\n",
       "</table>\n",
       "<p>99999 rows × 4 columns</p>\n",
       "</div>"
      ],
      "text/plain": [
       "       UserID  FilmID  Notation  Timestamp\n",
       "0         186     302         3  891717742\n",
       "1          22     377         1  878887116\n",
       "2         244      51         2  880606923\n",
       "3         166     346         1  886397596\n",
       "4         298     474         4  884182806\n",
       "...       ...     ...       ...        ...\n",
       "99994     880     476         3  880175444\n",
       "99995     716     204         5  879795543\n",
       "99996     276    1090         1  874795795\n",
       "99997      13     225         2  882399156\n",
       "99998      12     203         3  879959583\n",
       "\n",
       "[99999 rows x 4 columns]"
      ]
     },
     "execution_count": 18,
     "metadata": {
     },
     "output_type": "execute_result"
    }
   ],
   "source": [
    "data"
   ]
  },
  {
   "cell_type": "code",
   "execution_count": 19,
   "metadata": {
    "collapsed": false
   },
   "outputs": [
    {
     "data": {
      "text/plain": [
       "Notation\n",
       "4    0.341743\n",
       "3    0.271443\n",
       "5    0.212012\n",
       "2    0.113701\n",
       "1    0.061101\n",
       "Name: proportion, dtype: float64"
      ]
     },
     "execution_count": 19,
     "metadata": {
     },
     "output_type": "execute_result"
    }
   ],
   "source": [
    "data[\"Notation\"].value_counts(normalize=True)"
   ]
  },
  {
   "cell_type": "code",
   "execution_count": 20,
   "metadata": {
    "collapsed": false
   },
   "outputs": [
    {
     "data": {
      "text/plain": [
       "<Axes: xlabel='Notation', ylabel='count'>"
      ]
     },
     "execution_count": 20,
     "metadata": {
     },
     "output_type": "execute_result"
    },
    {
     "data": {
      "image/png": "[encoded data removed]",
      "text/plain": [
       "<Figure size 864x504 with 1 Axes>"
      ]
     },
     "execution_count": 20,
     "metadata": {
      "image/png": {
       "height": 424,
       "width": 736
      },
      "needs_background": "light"
     },
     "output_type": "execute_result"
    }
   ],
   "source": [
    "sns.countplot(data=data,x=\"Notation\")"
   ]
  },
  {
   "cell_type": "code",
   "execution_count": 21,
   "metadata": {
    "collapsed": false
   },
   "outputs": [
    {
     "data": {
      "text/plain": [
       "<seaborn.axisgrid.FacetGrid at 0x7f6da33b9240>"
      ]
     },
     "execution_count": 21,
     "metadata": {
     },
     "output_type": "execute_result"
    },
    {
     "data": {
      "image/png": "[encoded data removed]",
      "text/plain": [
       "<Figure size 412.875x360 with 1 Axes>"
      ]
     },
     "execution_count": 21,
     "metadata": {
      "image/png": {
       "height": 351,
       "width": 404
      },
      "needs_background": "light"
     },
     "output_type": "execute_result"
    }
   ],
   "source": [
    "sns.relplot(data=user,x=\"UserID\",y=\"Age\",style=\"Gender\",size=\"Age\")"
   ]
  },
  {
   "cell_type": "code",
   "execution_count": 22,
   "metadata": {
    "collapsed": false
   },
   "outputs": [
    {
     "data": {
      "text/plain": [
       "Gender\n",
       "M    0.710191\n",
       "F    0.289809\n",
       "Name: proportion, dtype: float64"
      ]
     },
     "execution_count": 22,
     "metadata": {
     },
     "output_type": "execute_result"
    }
   ],
   "source": [
    "user[\"Gender\"].value_counts(normalize=True)"
   ]
  },
  {
   "cell_type": "code",
   "execution_count": 23,
   "metadata": {
    "collapsed": false
   },
   "outputs": [
    {
     "data": {
      "text/plain": [
       "<Axes: xlabel='Gender', ylabel='count'>"
      ]
     },
     "execution_count": 23,
     "metadata": {
     },
     "output_type": "execute_result"
    },
    {
     "data": {
      "image/png": "[encoded data removed]",
      "text/plain": [
       "<Figure size 864x504 with 1 Axes>"
      ]
     },
     "execution_count": 23,
     "metadata": {
      "image/png": {
       "height": 427,
       "width": 723
      },
      "needs_background": "light"
     },
     "output_type": "execute_result"
    }
   ],
   "source": [
    "sns.countplot(data=user,x=\"Gender\")"
   ]
  },
  {
   "cell_type": "code",
   "execution_count": 24,
   "metadata": {
    "collapsed": false
   },
   "outputs": [
    {
     "data": {
      "text/html": [
       "<div>\n",
       "<style scoped>\n",
       "    .dataframe tbody tr th:only-of-type {\n",
       "        vertical-align: middle;\n",
       "    }\n",
       "\n",
       "    .dataframe tbody tr th {\n",
       "        vertical-align: top;\n",
       "    }\n",
       "\n",
       "    .dataframe thead th {\n",
       "        text-align: right;\n",
       "    }\n",
       "</style>\n",
       "<table border=\"1\" class=\"dataframe\">\n",
       "  <thead>\n",
       "    <tr style=\"text-align: right;\">\n",
       "      <th></th>\n",
       "      <th>UserID</th>\n",
       "      <th>FilmID</th>\n",
       "      <th>Notation</th>\n",
       "      <th>Timestamp</th>\n",
       "    </tr>\n",
       "  </thead>\n",
       "  <tbody>\n",
       "    <tr>\n",
       "      <th>count</th>\n",
       "      <td>99999.000000</td>\n",
       "      <td>99999.000000</td>\n",
       "      <td>99999.000000</td>\n",
       "      <td>9.999900e+04</td>\n",
       "    </tr>\n",
       "    <tr>\n",
       "      <th>mean</th>\n",
       "      <td>462.487415</td>\n",
       "      <td>425.531965</td>\n",
       "      <td>3.529865</td>\n",
       "      <td>8.835289e+08</td>\n",
       "    </tr>\n",
       "    <tr>\n",
       "      <th>std</th>\n",
       "      <td>266.614421</td>\n",
       "      <td>330.799501</td>\n",
       "      <td>1.125678</td>\n",
       "      <td>5.343878e+06</td>\n",
       "    </tr>\n",
       "    <tr>\n",
       "      <th>min</th>\n",
       "      <td>1.000000</td>\n",
       "      <td>1.000000</td>\n",
       "      <td>1.000000</td>\n",
       "      <td>8.747247e+08</td>\n",
       "    </tr>\n",
       "    <tr>\n",
       "      <th>25%</th>\n",
       "      <td>254.000000</td>\n",
       "      <td>175.000000</td>\n",
       "      <td>3.000000</td>\n",
       "      <td>8.794487e+08</td>\n",
       "    </tr>\n",
       "    <tr>\n",
       "      <th>50%</th>\n",
       "      <td>447.000000</td>\n",
       "      <td>322.000000</td>\n",
       "      <td>4.000000</td>\n",
       "      <td>8.828269e+08</td>\n",
       "    </tr>\n",
       "    <tr>\n",
       "      <th>75%</th>\n",
       "      <td>682.000000</td>\n",
       "      <td>631.000000</td>\n",
       "      <td>4.000000</td>\n",
       "      <td>8.882600e+08</td>\n",
       "    </tr>\n",
       "    <tr>\n",
       "      <th>max</th>\n",
       "      <td>943.000000</td>\n",
       "      <td>1682.000000</td>\n",
       "      <td>5.000000</td>\n",
       "      <td>8.932866e+08</td>\n",
       "    </tr>\n",
       "  </tbody>\n",
       "</table>\n",
       "</div>"
      ],
      "text/plain": [
       "             UserID        FilmID      Notation     Timestamp\n",
       "count  99999.000000  99999.000000  99999.000000  9.999900e+04\n",
       "mean     462.487415    425.531965      3.529865  8.835289e+08\n",
       "std      266.614421    330.799501      1.125678  5.343878e+06\n",
       "min        1.000000      1.000000      1.000000  8.747247e+08\n",
       "25%      254.000000    175.000000      3.000000  8.794487e+08\n",
       "50%      447.000000    322.000000      4.000000  8.828269e+08\n",
       "75%      682.000000    631.000000      4.000000  8.882600e+08\n",
       "max      943.000000   1682.000000      5.000000  8.932866e+08"
      ]
     },
     "execution_count": 24,
     "metadata": {
     },
     "output_type": "execute_result"
    }
   ],
   "source": [
    "data.describe()"
   ]
  },
  {
   "cell_type": "code",
   "execution_count": 25,
   "metadata": {
    "collapsed": false
   },
   "outputs": [
    {
     "data": {
      "text/html": [
       "<div>\n",
       "<style scoped>\n",
       "    .dataframe tbody tr th:only-of-type {\n",
       "        vertical-align: middle;\n",
       "    }\n",
       "\n",
       "    .dataframe tbody tr th {\n",
       "        vertical-align: top;\n",
       "    }\n",
       "\n",
       "    .dataframe thead th {\n",
       "        text-align: right;\n",
       "    }\n",
       "</style>\n",
       "<table border=\"1\" class=\"dataframe\">\n",
       "  <thead>\n",
       "    <tr style=\"text-align: right;\">\n",
       "      <th></th>\n",
       "      <th>UserID</th>\n",
       "      <th>Age</th>\n",
       "    </tr>\n",
       "  </thead>\n",
       "  <tbody>\n",
       "    <tr>\n",
       "      <th>count</th>\n",
       "      <td>942.000000</td>\n",
       "      <td>942.000000</td>\n",
       "    </tr>\n",
       "    <tr>\n",
       "      <th>mean</th>\n",
       "      <td>472.500000</td>\n",
       "      <td>34.062633</td>\n",
       "    </tr>\n",
       "    <tr>\n",
       "      <th>std</th>\n",
       "      <td>272.076276</td>\n",
       "      <td>12.194810</td>\n",
       "    </tr>\n",
       "    <tr>\n",
       "      <th>min</th>\n",
       "      <td>2.000000</td>\n",
       "      <td>7.000000</td>\n",
       "    </tr>\n",
       "    <tr>\n",
       "      <th>25%</th>\n",
       "      <td>237.250000</td>\n",
       "      <td>25.000000</td>\n",
       "    </tr>\n",
       "    <tr>\n",
       "      <th>50%</th>\n",
       "      <td>472.500000</td>\n",
       "      <td>31.000000</td>\n",
       "    </tr>\n",
       "    <tr>\n",
       "      <th>75%</th>\n",
       "      <td>707.750000</td>\n",
       "      <td>43.000000</td>\n",
       "    </tr>\n",
       "    <tr>\n",
       "      <th>max</th>\n",
       "      <td>943.000000</td>\n",
       "      <td>73.000000</td>\n",
       "    </tr>\n",
       "  </tbody>\n",
       "</table>\n",
       "</div>"
      ],
      "text/plain": [
       "           UserID         Age\n",
       "count  942.000000  942.000000\n",
       "mean   472.500000   34.062633\n",
       "std    272.076276   12.194810\n",
       "min      2.000000    7.000000\n",
       "25%    237.250000   25.000000\n",
       "50%    472.500000   31.000000\n",
       "75%    707.750000   43.000000\n",
       "max    943.000000   73.000000"
      ]
     },
     "execution_count": 25,
     "metadata": {
     },
     "output_type": "execute_result"
    }
   ],
   "source": [
    "user.describe()"
   ]
  },
  {
   "cell_type": "code",
   "execution_count": 26,
   "metadata": {
    "collapsed": false
   },
   "outputs": [
    {
     "data": {
      "text/plain": [
       "UserID       0\n",
       "FilmID       0\n",
       "Notation     0\n",
       "Timestamp    0\n",
       "dtype: int64"
      ]
     },
     "execution_count": 26,
     "metadata": {
     },
     "output_type": "execute_result"
    }
   ],
   "source": [
    "data.isna().sum()"
   ]
  },
  {
   "cell_type": "code",
   "execution_count": 27,
   "metadata": {
    "collapsed": false
   },
   "outputs": [
    {
     "data": {
      "text/plain": [
       "UserID        0\n",
       "Age           0\n",
       "Gender        0\n",
       "Occupation    0\n",
       "ZipCode       0\n",
       "dtype: int64"
      ]
     },
     "execution_count": 27,
     "metadata": {
     },
     "output_type": "execute_result"
    }
   ],
   "source": [
    "user.isna().sum()"
   ]
  },
  {
   "cell_type": "code",
   "execution_count": 28,
   "metadata": {
    "collapsed": false
   },
   "outputs": [
    {
     "data": {
      "text/html": [
       "<div>\n",
       "<style scoped>\n",
       "    .dataframe tbody tr th:only-of-type {\n",
       "        vertical-align: middle;\n",
       "    }\n",
       "\n",
       "    .dataframe tbody tr th {\n",
       "        vertical-align: top;\n",
       "    }\n",
       "\n",
       "    .dataframe thead th {\n",
       "        text-align: right;\n",
       "    }\n",
       "</style>\n",
       "<table border=\"1\" class=\"dataframe\">\n",
       "  <thead>\n",
       "    <tr style=\"text-align: right;\">\n",
       "      <th></th>\n",
       "      <th>UserID</th>\n",
       "      <th>Age</th>\n",
       "      <th>Gender</th>\n",
       "      <th>Occupation</th>\n",
       "      <th>ZipCode</th>\n",
       "    </tr>\n",
       "  </thead>\n",
       "  <tbody>\n",
       "    <tr>\n",
       "      <th>0</th>\n",
       "      <td>2</td>\n",
       "      <td>53</td>\n",
       "      <td>F</td>\n",
       "      <td>other</td>\n",
       "      <td>94043</td>\n",
       "    </tr>\n",
       "    <tr>\n",
       "      <th>1</th>\n",
       "      <td>3</td>\n",
       "      <td>23</td>\n",
       "      <td>M</td>\n",
       "      <td>writer</td>\n",
       "      <td>32067</td>\n",
       "    </tr>\n",
       "    <tr>\n",
       "      <th>2</th>\n",
       "      <td>4</td>\n",
       "      <td>24</td>\n",
       "      <td>M</td>\n",
       "      <td>technician</td>\n",
       "      <td>43537</td>\n",
       "    </tr>\n",
       "    <tr>\n",
       "      <th>3</th>\n",
       "      <td>5</td>\n",
       "      <td>33</td>\n",
       "      <td>F</td>\n",
       "      <td>other</td>\n",
       "      <td>15213</td>\n",
       "    </tr>\n",
       "    <tr>\n",
       "      <th>4</th>\n",
       "      <td>6</td>\n",
       "      <td>42</td>\n",
       "      <td>M</td>\n",
       "      <td>executive</td>\n",
       "      <td>98101</td>\n",
       "    </tr>\n",
       "  </tbody>\n",
       "</table>\n",
       "</div>"
      ],
      "text/plain": [
       "   UserID  Age Gender  Occupation ZipCode\n",
       "0       2   53      F       other   94043\n",
       "1       3   23      M      writer   32067\n",
       "2       4   24      M  technician   43537\n",
       "3       5   33      F       other   15213\n",
       "4       6   42      M   executive   98101"
      ]
     },
     "execution_count": 28,
     "metadata": {
     },
     "output_type": "execute_result"
    }
   ],
   "source": [
    "user.head()"
   ]
  },
  {
   "cell_type": "code",
   "execution_count": 29,
   "metadata": {
    "collapsed": false
   },
   "outputs": [
    {
     "data": {
      "text/html": [
       "<div>\n",
       "<style scoped>\n",
       "    .dataframe tbody tr th:only-of-type {\n",
       "        vertical-align: middle;\n",
       "    }\n",
       "\n",
       "    .dataframe tbody tr th {\n",
       "        vertical-align: top;\n",
       "    }\n",
       "\n",
       "    .dataframe thead th {\n",
       "        text-align: right;\n",
       "    }\n",
       "</style>\n",
       "<table border=\"1\" class=\"dataframe\">\n",
       "  <thead>\n",
       "    <tr style=\"text-align: right;\">\n",
       "      <th></th>\n",
       "      <th>UserID</th>\n",
       "      <th>FilmID</th>\n",
       "      <th>Notation</th>\n",
       "      <th>Timestamp</th>\n",
       "    </tr>\n",
       "  </thead>\n",
       "  <tbody>\n",
       "    <tr>\n",
       "      <th>0</th>\n",
       "      <td>186</td>\n",
       "      <td>302</td>\n",
       "      <td>3</td>\n",
       "      <td>891717742</td>\n",
       "    </tr>\n",
       "    <tr>\n",
       "      <th>1</th>\n",
       "      <td>22</td>\n",
       "      <td>377</td>\n",
       "      <td>1</td>\n",
       "      <td>878887116</td>\n",
       "    </tr>\n",
       "    <tr>\n",
       "      <th>2</th>\n",
       "      <td>244</td>\n",
       "      <td>51</td>\n",
       "      <td>2</td>\n",
       "      <td>880606923</td>\n",
       "    </tr>\n",
       "    <tr>\n",
       "      <th>3</th>\n",
       "      <td>166</td>\n",
       "      <td>346</td>\n",
       "      <td>1</td>\n",
       "      <td>886397596</td>\n",
       "    </tr>\n",
       "    <tr>\n",
       "      <th>4</th>\n",
       "      <td>298</td>\n",
       "      <td>474</td>\n",
       "      <td>4</td>\n",
       "      <td>884182806</td>\n",
       "    </tr>\n",
       "  </tbody>\n",
       "</table>\n",
       "</div>"
      ],
      "text/plain": [
       "   UserID  FilmID  Notation  Timestamp\n",
       "0     186     302         3  891717742\n",
       "1      22     377         1  878887116\n",
       "2     244      51         2  880606923\n",
       "3     166     346         1  886397596\n",
       "4     298     474         4  884182806"
      ]
     },
     "execution_count": 29,
     "metadata": {
     },
     "output_type": "execute_result"
    }
   ],
   "source": [
    "data.head()"
   ]
  },
  {
   "cell_type": "code",
   "execution_count": 30,
   "metadata": {
    "collapsed": false
   },
   "outputs": [
   ],
   "source": [
    "data = data.merge(user,on='UserID')"
   ]
  },
  {
   "cell_type": "code",
   "execution_count": 31,
   "metadata": {
    "collapsed": false
   },
   "outputs": [
   ],
   "source": [
    "data = data[[\"UserID\",\"FilmID\",\"Notation\"]]"
   ]
  },
  {
   "cell_type": "code",
   "execution_count": 0,
   "metadata": {
    "collapsed": false
   },
   "outputs": [
   ],
   "source": [
   ]
  },
  {
   "cell_type": "code",
   "execution_count": 32,
   "metadata": {
    "collapsed": false
   },
   "outputs": [
    {
     "data": {
      "text/plain": [
       "UserID      0\n",
       "FilmID      0\n",
       "Notation    0\n",
       "dtype: int64"
      ]
     },
     "execution_count": 32,
     "metadata": {
     },
     "output_type": "execute_result"
    }
   ],
   "source": [
    "data.isna().sum()"
   ]
  },
  {
   "cell_type": "code",
   "execution_count": 33,
   "metadata": {
    "collapsed": false
   },
   "outputs": [
    {
     "data": {
      "text/plain": [
       "<Axes: ylabel='Frequency'>"
      ]
     },
     "execution_count": 33,
     "metadata": {
     },
     "output_type": "execute_result"
    },
    {
     "data": {
      "image/png": "[encoded data removed]",
      "text/plain": [
       "<Figure size 864x504 with 1 Axes>"
      ]
     },
     "execution_count": 33,
     "metadata": {
      "image/png": {
       "height": 411,
       "width": 750
      },
      "needs_background": "light"
     },
     "output_type": "execute_result"
    }
   ],
   "source": [
    "data.describe()\n",
    "data.plot(kind='hist')"
   ]
  },
  {
   "cell_type": "code",
   "execution_count": 34,
   "metadata": {
    "collapsed": false
   },
   "outputs": [
   ],
   "source": [
    "from sklearn.model_selection import train_test_split\n",
    "from sklearn.metrics import accuracy_score"
   ]
  },
  {
   "cell_type": "code",
   "execution_count": 35,
   "metadata": {
    "collapsed": false
   },
   "outputs": [
    {
     "name": "stdout",
     "output_type": "stream",
     "text": [
      "RMSE: 0.9403\n",
      "RMSE: 0.9402913673799157\n"
     ]
    }
   ],
   "source": [
    "from surprise import Reader, Dataset, SVD\n",
    "from surprise.model_selection import train_test_split\n",
    "from surprise import accuracy\n",
    "reader = Reader(rating_scale=(1, 5))\n",
    "\n",
    "\n",
    "data = Dataset.load_from_df(data[['UserID', 'FilmID', 'Notation']], reader)\n",
    "\n",
    "\n",
    "trainset, testset = train_test_split(data, test_size=0.2, random_state=42)\n",
    "\n",
    "\n",
    "model = SVD()\n",
    "model.fit(trainset)\n",
    "\n",
    "\n",
    "predictions = model.test(testset)\n",
    "\n",
    "\n",
    "rmse = accuracy.rmse(predictions)\n",
    "print('RMSE:', rmse)"
   ]
  },
  {
   "cell_type": "code",
   "execution_count": 36,
   "metadata": {
    "collapsed": false
   },
   "outputs": [
    {
     "data": {
      "text/plain": [
       "[Prediction(uid=3, iid=5, r_ui=2, est=2.8646196801123254, details={'was_impossible': False})]"
      ]
     },
     "execution_count": 36,
     "metadata": {
     },
     "output_type": "execute_result"
    }
   ],
   "source": [
    "model.test([[3,5,2]])\n"
   ]
  },
  {
   "cell_type": "code",
   "execution_count": 37,
   "metadata": {
    "collapsed": false
   },
   "outputs": [
    {
     "data": {
      "text/plain": [
       "[Prediction(uid=3, iid=5, r_ui=0, est=2.8646196801123254, details={'was_impossible': False}),\n",
       " Prediction(uid=4, iid=6, r_ui=0, est=4.732151828443518, details={'was_impossible': False}),\n",
       " Prediction(uid=1, iid=2, r_ui=0, est=3.4196763067563314, details={'was_impossible': False})]"
      ]
     },
     "execution_count": 37,
     "metadata": {
     },
     "output_type": "execute_result"
    }
   ],
   "source": [
    "predictions = model.test([\n",
    "    (3, 5, 0),  \n",
    "    (4, 6, 0),  \n",
    "    (1, 2, 0)   \n",
    "])\n",
    "predictions"
   ]
  },
  {
   "cell_type": "code",
   "execution_count": 38,
   "metadata": {
    "collapsed": false
   },
   "outputs": [
    {
     "name": "stdout",
     "output_type": "stream",
     "text": [
      "L'UTILISATEUR 3,FILM 5 2.8646196801123254\n"
     ]
    }
   ],
   "source": [
    "est_values = [prediction.est for prediction in predictions]\n",
    "\n",
    "# Afficher la liste des notations prédites\n",
    "print(\"L'UTILISATEUR 3,FILM 5\",est_values[0])"
   ]
  },
  {
   "cell_type": "code",
   "execution_count": 39,
   "metadata": {
    "collapsed": false
   },
   "outputs": [
   ],
   "source": [
    "films = pd.read_csv(\"u.item\",delimiter=\"|\",encoding=\"latin1\")"
   ]
  },
  {
   "cell_type": "code",
   "execution_count": 40,
   "metadata": {
    "collapsed": false
   },
   "outputs": [
    {
     "data": {
      "text/html": [
       "<div>\n",
       "<style scoped>\n",
       "    .dataframe tbody tr th:only-of-type {\n",
       "        vertical-align: middle;\n",
       "    }\n",
       "\n",
       "    .dataframe tbody tr th {\n",
       "        vertical-align: top;\n",
       "    }\n",
       "\n",
       "    .dataframe thead th {\n",
       "        text-align: right;\n",
       "    }\n",
       "</style>\n",
       "<table border=\"1\" class=\"dataframe\">\n",
       "  <thead>\n",
       "    <tr style=\"text-align: right;\">\n",
       "      <th></th>\n",
       "      <th>1</th>\n",
       "      <th>Toy Story (1995)</th>\n",
       "      <th>01-Jan-1995</th>\n",
       "      <th>Unnamed: 3</th>\n",
       "      <th>http://us.imdb.com/M/title-exact?Toy%20Story%20(1995)</th>\n",
       "      <th>0</th>\n",
       "      <th>0.1</th>\n",
       "      <th>0.2</th>\n",
       "      <th>1.1</th>\n",
       "      <th>1.2</th>\n",
       "      <th>...</th>\n",
       "      <th>0.6</th>\n",
       "      <th>0.7</th>\n",
       "      <th>0.8</th>\n",
       "      <th>0.9</th>\n",
       "      <th>0.10</th>\n",
       "      <th>0.11</th>\n",
       "      <th>0.12</th>\n",
       "      <th>0.13</th>\n",
       "      <th>0.14</th>\n",
       "      <th>0.15</th>\n",
       "    </tr>\n",
       "  </thead>\n",
       "  <tbody>\n",
       "    <tr>\n",
       "      <th>0</th>\n",
       "      <td>2</td>\n",
       "      <td>GoldenEye (1995)</td>\n",
       "      <td>01-Jan-1995</td>\n",
       "      <td>NaN</td>\n",
       "      <td>http://us.imdb.com/M/title-exact?GoldenEye%20(...</td>\n",
       "      <td>0</td>\n",
       "      <td>1</td>\n",
       "      <td>1</td>\n",
       "      <td>0</td>\n",
       "      <td>0</td>\n",
       "      <td>...</td>\n",
       "      <td>0</td>\n",
       "      <td>0</td>\n",
       "      <td>0</td>\n",
       "      <td>0</td>\n",
       "      <td>0</td>\n",
       "      <td>0</td>\n",
       "      <td>0</td>\n",
       "      <td>1</td>\n",
       "      <td>0</td>\n",
       "      <td>0</td>\n",
       "    </tr>\n",
       "    <tr>\n",
       "      <th>1</th>\n",
       "      <td>3</td>\n",
       "      <td>Four Rooms (1995)</td>\n",
       "      <td>01-Jan-1995</td>\n",
       "      <td>NaN</td>\n",
       "      <td>http://us.imdb.com/M/title-exact?Four%20Rooms%...</td>\n",
       "      <td>0</td>\n",
       "      <td>0</td>\n",
       "      <td>0</td>\n",
       "      <td>0</td>\n",
       "      <td>0</td>\n",
       "      <td>...</td>\n",
       "      <td>0</td>\n",
       "      <td>0</td>\n",
       "      <td>0</td>\n",
       "      <td>0</td>\n",
       "      <td>0</td>\n",
       "      <td>0</td>\n",
       "      <td>0</td>\n",
       "      <td>1</td>\n",
       "      <td>0</td>\n",
       "      <td>0</td>\n",
       "    </tr>\n",
       "    <tr>\n",
       "      <th>2</th>\n",
       "      <td>4</td>\n",
       "      <td>Get Shorty (1995)</td>\n",
       "      <td>01-Jan-1995</td>\n",
       "      <td>NaN</td>\n",
       "      <td>http://us.imdb.com/M/title-exact?Get%20Shorty%...</td>\n",
       "      <td>0</td>\n",
       "      <td>1</td>\n",
       "      <td>0</td>\n",
       "      <td>0</td>\n",
       "      <td>0</td>\n",
       "      <td>...</td>\n",
       "      <td>0</td>\n",
       "      <td>0</td>\n",
       "      <td>0</td>\n",
       "      <td>0</td>\n",
       "      <td>0</td>\n",
       "      <td>0</td>\n",
       "      <td>0</td>\n",
       "      <td>0</td>\n",
       "      <td>0</td>\n",
       "      <td>0</td>\n",
       "    </tr>\n",
       "    <tr>\n",
       "      <th>3</th>\n",
       "      <td>5</td>\n",
       "      <td>Copycat (1995)</td>\n",
       "      <td>01-Jan-1995</td>\n",
       "      <td>NaN</td>\n",
       "      <td>http://us.imdb.com/M/title-exact?Copycat%20(1995)</td>\n",
       "      <td>0</td>\n",
       "      <td>0</td>\n",
       "      <td>0</td>\n",
       "      <td>0</td>\n",
       "      <td>0</td>\n",
       "      <td>...</td>\n",
       "      <td>0</td>\n",
       "      <td>0</td>\n",
       "      <td>0</td>\n",
       "      <td>0</td>\n",
       "      <td>0</td>\n",
       "      <td>0</td>\n",
       "      <td>0</td>\n",
       "      <td>1</td>\n",
       "      <td>0</td>\n",
       "      <td>0</td>\n",
       "    </tr>\n",
       "    <tr>\n",
       "      <th>4</th>\n",
       "      <td>6</td>\n",
       "      <td>Shanghai Triad (Yao a yao yao dao waipo qiao) ...</td>\n",
       "      <td>01-Jan-1995</td>\n",
       "      <td>NaN</td>\n",
       "      <td>http://us.imdb.com/Title?Yao+a+yao+yao+dao+wai...</td>\n",
       "      <td>0</td>\n",
       "      <td>0</td>\n",
       "      <td>0</td>\n",
       "      <td>0</td>\n",
       "      <td>0</td>\n",
       "      <td>...</td>\n",
       "      <td>0</td>\n",
       "      <td>0</td>\n",
       "      <td>0</td>\n",
       "      <td>0</td>\n",
       "      <td>0</td>\n",
       "      <td>0</td>\n",
       "      <td>0</td>\n",
       "      <td>0</td>\n",
       "      <td>0</td>\n",
       "      <td>0</td>\n",
       "    </tr>\n",
       "  </tbody>\n",
       "</table>\n",
       "<p>5 rows × 24 columns</p>\n",
       "</div>"
      ],
      "text/plain": [
       "   1                                   Toy Story (1995)  01-Jan-1995  \\\n",
       "0  2                                   GoldenEye (1995)  01-Jan-1995   \n",
       "1  3                                  Four Rooms (1995)  01-Jan-1995   \n",
       "2  4                                  Get Shorty (1995)  01-Jan-1995   \n",
       "3  5                                     Copycat (1995)  01-Jan-1995   \n",
       "4  6  Shanghai Triad (Yao a yao yao dao waipo qiao) ...  01-Jan-1995   \n",
       "\n",
       "   Unnamed: 3 http://us.imdb.com/M/title-exact?Toy%20Story%20(1995)  0  0.1  \\\n",
       "0         NaN  http://us.imdb.com/M/title-exact?GoldenEye%20(...     0    1   \n",
       "1         NaN  http://us.imdb.com/M/title-exact?Four%20Rooms%...     0    0   \n",
       "2         NaN  http://us.imdb.com/M/title-exact?Get%20Shorty%...     0    1   \n",
       "3         NaN  http://us.imdb.com/M/title-exact?Copycat%20(1995)     0    0   \n",
       "4         NaN  http://us.imdb.com/Title?Yao+a+yao+yao+dao+wai...     0    0   \n",
       "\n",
       "   0.2  1.1  1.2  ...  0.6  0.7  0.8  0.9  0.10  0.11  0.12  0.13  0.14  0.15  \n",
       "0    1    0    0  ...    0    0    0    0     0     0     0     1     0     0  \n",
       "1    0    0    0  ...    0    0    0    0     0     0     0     1     0     0  \n",
       "2    0    0    0  ...    0    0    0    0     0     0     0     0     0     0  \n",
       "3    0    0    0  ...    0    0    0    0     0     0     0     1     0     0  \n",
       "4    0    0    0  ...    0    0    0    0     0     0     0     0     0     0  \n",
       "\n",
       "[5 rows x 24 columns]"
      ]
     },
     "execution_count": 40,
     "metadata": {
     },
     "output_type": "execute_result"
    }
   ],
   "source": [
    "films.head()"
   ]
  },
  {
   "cell_type": "code",
   "execution_count": 41,
   "metadata": {
    "collapsed": false
   },
   "outputs": [
   ],
   "source": [
    "films_data = films.iloc[:, [0, 1]]"
   ]
  },
  {
   "cell_type": "code",
   "execution_count": 42,
   "metadata": {
    "collapsed": false
   },
   "outputs": [
    {
     "data": {
      "text/html": [
       "<div>\n",
       "<style scoped>\n",
       "    .dataframe tbody tr th:only-of-type {\n",
       "        vertical-align: middle;\n",
       "    }\n",
       "\n",
       "    .dataframe tbody tr th {\n",
       "        vertical-align: top;\n",
       "    }\n",
       "\n",
       "    .dataframe thead th {\n",
       "        text-align: right;\n",
       "    }\n",
       "</style>\n",
       "<table border=\"1\" class=\"dataframe\">\n",
       "  <thead>\n",
       "    <tr style=\"text-align: right;\">\n",
       "      <th></th>\n",
       "      <th>1</th>\n",
       "      <th>Toy Story (1995)</th>\n",
       "    </tr>\n",
       "  </thead>\n",
       "  <tbody>\n",
       "    <tr>\n",
       "      <th>0</th>\n",
       "      <td>2</td>\n",
       "      <td>GoldenEye (1995)</td>\n",
       "    </tr>\n",
       "    <tr>\n",
       "      <th>1</th>\n",
       "      <td>3</td>\n",
       "      <td>Four Rooms (1995)</td>\n",
       "    </tr>\n",
       "    <tr>\n",
       "      <th>2</th>\n",
       "      <td>4</td>\n",
       "      <td>Get Shorty (1995)</td>\n",
       "    </tr>\n",
       "    <tr>\n",
       "      <th>3</th>\n",
       "      <td>5</td>\n",
       "      <td>Copycat (1995)</td>\n",
       "    </tr>\n",
       "    <tr>\n",
       "      <th>4</th>\n",
       "      <td>6</td>\n",
       "      <td>Shanghai Triad (Yao a yao yao dao waipo qiao) ...</td>\n",
       "    </tr>\n",
       "    <tr>\n",
       "      <th>...</th>\n",
       "      <td>...</td>\n",
       "      <td>...</td>\n",
       "    </tr>\n",
       "    <tr>\n",
       "      <th>1676</th>\n",
       "      <td>1678</td>\n",
       "      <td>Mat' i syn (1997)</td>\n",
       "    </tr>\n",
       "    <tr>\n",
       "      <th>1677</th>\n",
       "      <td>1679</td>\n",
       "      <td>B. Monkey (1998)</td>\n",
       "    </tr>\n",
       "    <tr>\n",
       "      <th>1678</th>\n",
       "      <td>1680</td>\n",
       "      <td>Sliding Doors (1998)</td>\n",
       "    </tr>\n",
       "    <tr>\n",
       "      <th>1679</th>\n",
       "      <td>1681</td>\n",
       "      <td>You So Crazy (1994)</td>\n",
       "    </tr>\n",
       "    <tr>\n",
       "      <th>1680</th>\n",
       "      <td>1682</td>\n",
       "      <td>Scream of Stone (Schrei aus Stein) (1991)</td>\n",
       "    </tr>\n",
       "  </tbody>\n",
       "</table>\n",
       "<p>1681 rows × 2 columns</p>\n",
       "</div>"
      ],
      "text/plain": [
       "         1                                   Toy Story (1995)\n",
       "0        2                                   GoldenEye (1995)\n",
       "1        3                                  Four Rooms (1995)\n",
       "2        4                                  Get Shorty (1995)\n",
       "3        5                                     Copycat (1995)\n",
       "4        6  Shanghai Triad (Yao a yao yao dao waipo qiao) ...\n",
       "...    ...                                                ...\n",
       "1676  1678                                  Mat' i syn (1997)\n",
       "1677  1679                                   B. Monkey (1998)\n",
       "1678  1680                               Sliding Doors (1998)\n",
       "1679  1681                                You So Crazy (1994)\n",
       "1680  1682          Scream of Stone (Schrei aus Stein) (1991)\n",
       "\n",
       "[1681 rows x 2 columns]"
      ]
     },
     "execution_count": 42,
     "metadata": {
     },
     "output_type": "execute_result"
    }
   ],
   "source": [
    "films_data"
   ]
  },
  {
   "cell_type": "code",
   "execution_count": 43,
   "metadata": {
    "collapsed": false
   },
   "outputs": [
   ],
   "source": [
    "columns = [\"FilmID\",\"Films\"]\n",
    "films_data.columns = columns"
   ]
  },
  {
   "cell_type": "code",
   "execution_count": 44,
   "metadata": {
    "collapsed": false
   },
   "outputs": [
    {
     "data": {
      "text/html": [
       "<div>\n",
       "<style scoped>\n",
       "    .dataframe tbody tr th:only-of-type {\n",
       "        vertical-align: middle;\n",
       "    }\n",
       "\n",
       "    .dataframe tbody tr th {\n",
       "        vertical-align: top;\n",
       "    }\n",
       "\n",
       "    .dataframe thead th {\n",
       "        text-align: right;\n",
       "    }\n",
       "</style>\n",
       "<table border=\"1\" class=\"dataframe\">\n",
       "  <thead>\n",
       "    <tr style=\"text-align: right;\">\n",
       "      <th></th>\n",
       "      <th>FilmID</th>\n",
       "      <th>Films</th>\n",
       "    </tr>\n",
       "  </thead>\n",
       "  <tbody>\n",
       "    <tr>\n",
       "      <th>0</th>\n",
       "      <td>2</td>\n",
       "      <td>GoldenEye (1995)</td>\n",
       "    </tr>\n",
       "    <tr>\n",
       "      <th>1</th>\n",
       "      <td>3</td>\n",
       "      <td>Four Rooms (1995)</td>\n",
       "    </tr>\n",
       "    <tr>\n",
       "      <th>2</th>\n",
       "      <td>4</td>\n",
       "      <td>Get Shorty (1995)</td>\n",
       "    </tr>\n",
       "    <tr>\n",
       "      <th>3</th>\n",
       "      <td>5</td>\n",
       "      <td>Copycat (1995)</td>\n",
       "    </tr>\n",
       "    <tr>\n",
       "      <th>4</th>\n",
       "      <td>6</td>\n",
       "      <td>Shanghai Triad (Yao a yao yao dao waipo qiao) ...</td>\n",
       "    </tr>\n",
       "    <tr>\n",
       "      <th>...</th>\n",
       "      <td>...</td>\n",
       "      <td>...</td>\n",
       "    </tr>\n",
       "    <tr>\n",
       "      <th>1676</th>\n",
       "      <td>1678</td>\n",
       "      <td>Mat' i syn (1997)</td>\n",
       "    </tr>\n",
       "    <tr>\n",
       "      <th>1677</th>\n",
       "      <td>1679</td>\n",
       "      <td>B. Monkey (1998)</td>\n",
       "    </tr>\n",
       "    <tr>\n",
       "      <th>1678</th>\n",
       "      <td>1680</td>\n",
       "      <td>Sliding Doors (1998)</td>\n",
       "    </tr>\n",
       "    <tr>\n",
       "      <th>1679</th>\n",
       "      <td>1681</td>\n",
       "      <td>You So Crazy (1994)</td>\n",
       "    </tr>\n",
       "    <tr>\n",
       "      <th>1680</th>\n",
       "      <td>1682</td>\n",
       "      <td>Scream of Stone (Schrei aus Stein) (1991)</td>\n",
       "    </tr>\n",
       "  </tbody>\n",
       "</table>\n",
       "<p>1681 rows × 2 columns</p>\n",
       "</div>"
      ],
      "text/plain": [
       "      FilmID                                              Films\n",
       "0          2                                   GoldenEye (1995)\n",
       "1          3                                  Four Rooms (1995)\n",
       "2          4                                  Get Shorty (1995)\n",
       "3          5                                     Copycat (1995)\n",
       "4          6  Shanghai Triad (Yao a yao yao dao waipo qiao) ...\n",
       "...      ...                                                ...\n",
       "1676    1678                                  Mat' i syn (1997)\n",
       "1677    1679                                   B. Monkey (1998)\n",
       "1678    1680                               Sliding Doors (1998)\n",
       "1679    1681                                You So Crazy (1994)\n",
       "1680    1682          Scream of Stone (Schrei aus Stein) (1991)\n",
       "\n",
       "[1681 rows x 2 columns]"
      ]
     },
     "execution_count": 44,
     "metadata": {
     },
     "output_type": "execute_result"
    }
   ],
   "source": [
    "films_data"
   ]
  },
  {
   "cell_type": "code",
   "execution_count": 45,
   "metadata": {
    "collapsed": false
   },
   "outputs": [
    {
     "data": {
      "text/plain": [
       "[Prediction(uid=196, iid=242, r_ui=0, est=3.7970810318256305, details={'was_impossible': False}),\n",
       " Prediction(uid=200, iid=222, r_ui=0, est=4.47947249451189, details={'was_impossible': False})]"
      ]
     },
     "execution_count": 45,
     "metadata": {
     },
     "output_type": "execute_result"
    }
   ],
   "source": [
    "model.test([\n",
    "        (196,242,0),\n",
    "        (200,222,0)\n",
    "    ])"
   ]
  },
  {
   "cell_type": "code",
   "execution_count": 46,
   "metadata": {
    "collapsed": false
   },
   "outputs": [
   ],
   "source": [
    "user_id = 186 \n",
    "top_n = 5"
   ]
  },
  {
   "cell_type": "code",
   "execution_count": 47,
   "metadata": {
    "collapsed": false
   },
   "outputs": [
   ],
   "source": [
    "nombre_total_de_films = max(films_data['FilmID'])\n",
    "user_ratings = [(user_id, str(film_id), 0) for film_id in range(1, int(nombre_total_de_films) + 1)]"
   ]
  },
  {
   "cell_type": "code",
   "execution_count": 48,
   "metadata": {
    "collapsed": false
   },
   "outputs": [
    {
     "data": {
      "text/plain": [
       "[(186, '1', 0),\n",
       " (186, '2', 0),\n",
       " (186, '3', 0),\n",
       " (186, '4', 0),\n",
       " (186, '5', 0),\n",
       " (186, '6', 0),\n",
       " (186, '7', 0),\n",
       " (186, '8', 0),\n",
       " (186, '9', 0),\n",
       " (186, '10', 0)]"
      ]
     },
     "execution_count": 48,
     "metadata": {
     },
     "output_type": "execute_result"
    }
   ],
   "source": [
    "user_ratings[:10]"
   ]
  },
  {
   "cell_type": "code",
   "execution_count": 66,
   "metadata": {
    "collapsed": false
   },
   "outputs": [
   ],
   "source": [
    "user_id = 1\n",
    "all_movie_ids = range(1, nombre_total_de_films)  \n",
    "predicted_ratings = [model.predict(user_id, movie_id).est for movie_id in all_movie_ids]\n",
    "\n",
    "recommended_movie_ids = [movie_id for _, movie_id in sorted(zip(predicted_ratings, all_movie_ids), reverse=True)]"
   ]
  },
  {
   "cell_type": "code",
   "execution_count": 67,
   "metadata": {
    "collapsed": false
   },
   "outputs": [
    {
     "data": {
      "text/plain": [
       "[408, 169, 483, 318, 64, 114, 12, 603, 178, 480]"
      ]
     },
     "execution_count": 67,
     "metadata": {
     },
     "output_type": "execute_result"
    }
   ],
   "source": [
    "recommended_movie_ids[:10]"
   ]
  },
  {
   "cell_type": "code",
   "execution_count": 70,
   "metadata": {
    "collapsed": false
   },
   "outputs": [
    {
     "name": "stdout",
     "output_type": "stream",
     "text": [
      "Top 10 films recommandés pour id  1\n",
      "Close Shave, A (1995)\n",
      "Wrong Trousers, The (1993)\n",
      "Casablanca (1942)\n",
      "Schindler's List (1993)\n",
      "Shawshank Redemption, The (1994)\n",
      "Wallace & Gromit: The Best of Aardman Animation (1996)\n",
      "Usual Suspects, The (1995)\n",
      "Rear Window (1954)\n",
      "12 Angry Men (1957)\n",
      "North by Northwest (1959)\n"
     ]
    }
   ],
   "source": [
    "film_id_to_name = dict(zip(films_data['FilmID'], films_data['Films']))\n",
    "\n",
    "recommended_movie_names = [film_id_to_name.get(movie_id, 'Unknown') for movie_id in recommended_movie_ids]\n",
    "\n",
    "print(\"Top 10 films recommandés pour id \",user_id)\n",
    "for movie_name in recommended_movie_names[:10]:\n",
    "    print(movie_name)"
   ]
  },
  {
   "cell_type": "code",
   "execution_count": 52,
   "metadata": {
    "collapsed": false,
    "scrolled": true
   },
   "outputs": [
   ],
   "source": [
    "from sklearn.model_selection import cross_val_score"
   ]
  },
  {
   "cell_type": "code",
   "execution_count": 53,
   "metadata": {
    "collapsed": false
   },
   "outputs": [
    {
     "name": "stdout",
     "output_type": "stream",
     "text": [
      "Computing the msd similarity matrix...\n"
     ]
    },
    {
     "name": "stdout",
     "output_type": "stream",
     "text": [
      "Done computing similarity matrix.\n"
     ]
    },
    {
     "data": {
      "text/plain": [
       "<surprise.prediction_algorithms.knns.KNNBasic at 0x7f6d946acb20>"
      ]
     },
     "execution_count": 53,
     "metadata": {
     },
     "output_type": "execute_result"
    }
   ],
   "source": [
    "from surprise import KNNBasic\n",
    "d = KNNBasic()\n",
    "d.fit(trainset)\n"
   ]
  },
  {
   "cell_type": "code",
   "execution_count": 54,
   "metadata": {
    "collapsed": false
   },
   "outputs": [
    {
     "data": {
      "text/plain": [
       "[Prediction(uid=196, iid=242, r_ui=0, est=4.198704429368456, details={'actual_k': 40, 'was_impossible': False}),\n",
       " Prediction(uid=200, iid=222, r_ui=0, est=4.229787789306888, details={'actual_k': 40, 'was_impossible': False})]"
      ]
     },
     "execution_count": 54,
     "metadata": {
     },
     "output_type": "execute_result"
    }
   ],
   "source": [
    "d.test([\n",
    "        (196,242,0),\n",
    "        (200,222,0)\n",
    "    ])"
   ]
  },
  {
   "cell_type": "code",
   "execution_count": 55,
   "metadata": {
    "collapsed": false
   },
   "outputs": [
    {
     "data": {
      "text/plain": [
       "[Prediction(uid=298, iid=474, r_ui=0, est=4.363420168568415, details={'was_impossible': False})]"
      ]
     },
     "execution_count": 55,
     "metadata": {
     },
     "output_type": "execute_result"
    }
   ],
   "source": [
    "model.test([(298,474,0)])"
   ]
  },
  {
   "cell_type": "code",
   "execution_count": 56,
   "metadata": {
    "collapsed": false
   },
   "outputs": [
    {
     "data": {
      "text/plain": [
       "[Prediction(uid=298, iid=474, r_ui=0, est=4.191196224473261, details={'actual_k': 40, 'was_impossible': False})]"
      ]
     },
     "execution_count": 56,
     "metadata": {
     },
     "output_type": "execute_result"
    }
   ],
   "source": [
    "d.test([(298,474,0)])"
   ]
  },
  {
   "cell_type": "code",
   "execution_count": 57,
   "metadata": {
    "collapsed": false,
    "scrolled": true
   },
   "outputs": [
    {
     "data": {
      "text/plain": [
       "[Prediction(uid=387, iid=513, r_ui=5.0, est=3.711774051680679, details={'was_impossible': False}),\n",
       " Prediction(uid=320, iid=763, r_ui=4.0, est=3.5118867165958543, details={'was_impossible': False}),\n",
       " Prediction(uid=643, iid=1101, r_ui=3.0, est=4.074553057123637, details={'was_impossible': False}),\n",
       " Prediction(uid=115, iid=92, r_ui=4.0, est=3.762451984368021, details={'was_impossible': False}),\n",
       " Prediction(uid=201, iid=176, r_ui=4.0, est=3.659105332146138, details={'was_impossible': False}),\n",
       " Prediction(uid=354, iid=464, r_ui=4.0, est=3.8209557941972445, details={'was_impossible': False}),\n",
       " Prediction(uid=181, iid=758, r_ui=1.0, est=1, details={'was_impossible': False}),\n",
       " Prediction(uid=638, iid=550, r_ui=5.0, est=3.5493403123999885, details={'was_impossible': False}),\n",
       " Prediction(uid=768, iid=300, r_ui=5.0, est=3.380267072203296, details={'was_impossible': False}),\n",
       " Prediction(uid=209, iid=688, r_ui=1.0, est=1.9646901860774906, details={'was_impossible': False}),\n",
       " Prediction(uid=868, iid=132, r_ui=4.0, est=3.4199683188550907, details={'was_impossible': False}),\n",
       " Prediction(uid=291, iid=244, r_ui=2.0, est=3.4452029961002344, details={'was_impossible': False}),\n",
       " Prediction(uid=527, iid=431, r_ui=3.0, est=3.628746650974916, details={'was_impossible': False}),\n",
       " Prediction(uid=548, iid=326, r_ui=4.0, est=3.6886147024745193, details={'was_impossible': False}),\n",
       " Prediction(uid=207, iid=156, r_ui=2.0, est=3.1574467279429994, details={'was_impossible': False}),\n",
       " Prediction(uid=378, iid=55, r_ui=4.0, est=3.4663593317122037, details={'was_impossible': False}),\n",
       " Prediction(uid=215, iid=421, r_ui=4.0, est=3.3645662745024376, details={'was_impossible': False}),\n",
       " Prediction(uid=347, iid=245, r_ui=5.0, est=3.291703909314395, details={'was_impossible': False}),\n",
       " Prediction(uid=876, iid=288, r_ui=3.0, est=3.6864093717223296, details={'was_impossible': False}),\n",
       " Prediction(uid=246, iid=196, r_ui=3.0, est=3.5515134869772123, details={'was_impossible': False}),\n",
       " Prediction(uid=760, iid=25, r_ui=2.0, est=3.1636056173551754, details={'was_impossible': False}),\n",
       " Prediction(uid=413, iid=258, r_ui=4.0, est=3.663047087039976, details={'was_impossible': False}),\n",
       " Prediction(uid=621, iid=4, r_ui=4.0, est=4.083978492360244, details={'was_impossible': False}),\n",
       " Prediction(uid=361, iid=258, r_ui=3.0, est=3.881588712012062, details={'was_impossible': False}),\n",
       " Prediction(uid=798, iid=210, r_ui=4.0, est=4.388439212391753, details={'was_impossible': False}),\n",
       " Prediction(uid=378, iid=508, r_ui=4.0, est=3.403653475871003, details={'was_impossible': False}),\n",
       " Prediction(uid=648, iid=633, r_ui=3.0, est=3.841771211080363, details={'was_impossible': False}),\n",
       " Prediction(uid=488, iid=180, r_ui=2.0, est=3.3544020796836582, details={'was_impossible': False}),\n",
       " Prediction(uid=280, iid=729, r_ui=2.0, est=3.621624322533315, details={'was_impossible': False}),\n",
       " Prediction(uid=184, iid=368, r_ui=1.0, est=2.1912175262233564, details={'was_impossible': False}),\n",
       " Prediction(uid=363, iid=176, r_ui=4.0, est=3.678917060370994, details={'was_impossible': False}),\n",
       " Prediction(uid=406, iid=629, r_ui=3.0, est=2.829585102205966, details={'was_impossible': False}),\n",
       " Prediction(uid=13, iid=689, r_ui=2.0, est=2.2577285620747256, details={'was_impossible': False}),\n",
       " Prediction(uid=125, iid=290, r_ui=4.0, est=3.0211665845580296, details={'was_impossible': False}),\n",
       " Prediction(uid=321, iid=173, r_ui=4.0, est=3.754606429676346, details={'was_impossible': False}),\n",
       " Prediction(uid=805, iid=771, r_ui=5.0, est=2.3872761607441015, details={'was_impossible': False}),\n",
       " Prediction(uid=306, iid=744, r_ui=4.0, est=3.461810132367859, details={'was_impossible': False}),\n",
       " Prediction(uid=474, iid=521, r_ui=5.0, est=4.113674176655483, details={'was_impossible': False}),\n",
       " Prediction(uid=283, iid=71, r_ui=4.0, est=4.211592274970303, details={'was_impossible': False}),\n",
       " Prediction(uid=855, iid=855, r_ui=4.0, est=3.4963794489691273, details={'was_impossible': False}),\n",
       " Prediction(uid=712, iid=1503, r_ui=4.0, est=3.5329162293076406, details={'was_impossible': False}),\n",
       " Prediction(uid=669, iid=1, r_ui=5.0, est=3.2774411158072922, details={'was_impossible': False}),\n",
       " Prediction(uid=437, iid=14, r_ui=5.0, est=3.9635694890358875, details={'was_impossible': False}),\n",
       " Prediction(uid=497, iid=101, r_ui=4.0, est=3.333449690497552, details={'was_impossible': False}),\n",
       " Prediction(uid=844, iid=181, r_ui=5.0, est=3.714414049764747, details={'was_impossible': False}),\n",
       " Prediction(uid=264, iid=443, r_ui=5.0, est=4.127376650180608, details={'was_impossible': False}),\n",
       " Prediction(uid=655, iid=1629, r_ui=3.0, est=3.017693299986924, details={'was_impossible': False}),\n",
       " Prediction(uid=459, iid=333, r_ui=3.0, est=3.7614481187557045, details={'was_impossible': False}),\n",
       " Prediction(uid=415, iid=479, r_ui=4.0, est=4.53856255094883, details={'was_impossible': False}),\n",
       " Prediction(uid=224, iid=748, r_ui=3.0, est=2.8917147620305497, details={'was_impossible': False}),\n",
       " Prediction(uid=289, iid=125, r_ui=2.0, est=3.2297773856582315, details={'was_impossible': False}),\n",
       " Prediction(uid=498, iid=486, r_ui=2.0, est=3.375222633191905, details={'was_impossible': False}),\n",
       " Prediction(uid=233, iid=644, r_ui=5.0, est=4.139820263912178, details={'was_impossible': False}),\n",
       " Prediction(uid=276, iid=871, r_ui=2.0, est=2.5224334122497307, details={'was_impossible': False}),\n",
       " Prediction(uid=493, iid=188, r_ui=5.0, est=3.5754204331591977, details={'was_impossible': False}),\n",
       " Prediction(uid=271, iid=269, r_ui=4.0, est=4.176222992898411, details={'was_impossible': False}),\n",
       " Prediction(uid=342, iid=123, r_ui=5.0, est=3.188461051982454, details={'was_impossible': False}),\n",
       " Prediction(uid=712, iid=1220, r_ui=5.0, est=3.416690446742774, details={'was_impossible': False}),\n",
       " Prediction(uid=699, iid=1093, r_ui=3.0, est=3.166798984768115, details={'was_impossible': False}),\n",
       " Prediction(uid=724, iid=342, r_ui=3.0, est=1.705273510895498, details={'was_impossible': False}),\n",
       " Prediction(uid=436, iid=763, r_ui=4.0, est=3.850146780812166, details={'was_impossible': False}),\n",
       " Prediction(uid=661, iid=357, r_ui=4.0, est=4.004625030551548, details={'was_impossible': False}),\n",
       " Prediction(uid=49, iid=49, r_ui=2.0, est=2.5929282370744966, details={'was_impossible': False}),\n",
       " Prediction(uid=932, iid=498, r_ui=5.0, est=4.407279602835568, details={'was_impossible': False}),\n",
       " Prediction(uid=401, iid=302, r_ui=3.0, est=3.6063870314795032, details={'was_impossible': False}),\n",
       " Prediction(uid=222, iid=186, r_ui=5.0, est=4.061381616417784, details={'was_impossible': False}),\n",
       " Prediction(uid=666, iid=11, r_ui=4.0, est=3.9180029171525965, details={'was_impossible': False}),\n",
       " Prediction(uid=493, iid=886, r_ui=2.0, est=3.06287747633253, details={'was_impossible': False}),\n",
       " Prediction(uid=6, iid=117, r_ui=2.0, est=2.904228232274083, details={'was_impossible': False}),\n",
       " Prediction(uid=804, iid=1244, r_ui=2.0, est=3.3269255999769864, details={'was_impossible': False}),\n",
       " Prediction(uid=307, iid=402, r_ui=2.0, est=3.4863962123534624, details={'was_impossible': False}),\n",
       " Prediction(uid=253, iid=527, r_ui=5.0, est=4.164285263040349, details={'was_impossible': False}),\n",
       " Prediction(uid=573, iid=183, r_ui=3.0, est=3.820354015062141, details={'was_impossible': False}),\n",
       " Prediction(uid=104, iid=287, r_ui=2.0, est=3.006530694566959, details={'was_impossible': False}),\n",
       " Prediction(uid=850, iid=95, r_ui=5.0, est=4.5320804342091865, details={'was_impossible': False}),\n",
       " Prediction(uid=457, iid=631, r_ui=4.0, est=4.023153994091176, details={'was_impossible': False}),\n",
       " Prediction(uid=222, iid=223, r_ui=4.0, est=4.172130367751963, details={'was_impossible': False}),\n",
       " Prediction(uid=279, iid=804, r_ui=4.0, est=3.218175492468677, details={'was_impossible': False}),\n",
       " Prediction(uid=928, iid=358, r_ui=5.0, est=3.5008090160768335, details={'was_impossible': False}),\n",
       " Prediction(uid=682, iid=756, r_ui=2.0, est=2.781655451697347, details={'was_impossible': False}),\n",
       " Prediction(uid=222, iid=288, r_ui=4.0, est=3.158858873201038, details={'was_impossible': False}),\n",
       " Prediction(uid=430, iid=124, r_ui=5.0, est=3.694036054888737, details={'was_impossible': False}),\n",
       " Prediction(uid=447, iid=582, r_ui=4.0, est=3.320419528538284, details={'was_impossible': False}),\n",
       " Prediction(uid=334, iid=287, r_ui=3.0, est=3.147921283807573, details={'was_impossible': False}),\n",
       " Prediction(uid=867, iid=603, r_ui=5.0, est=4.893023895613693, details={'was_impossible': False}),\n",
       " Prediction(uid=533, iid=483, r_ui=4.0, est=3.90214720234449, details={'was_impossible': False}),\n",
       " Prediction(uid=314, iid=215, r_ui=4.0, est=3.9275311935242683, details={'was_impossible': False}),\n",
       " Prediction(uid=458, iid=273, r_ui=4.0, est=3.4263436521081903, details={'was_impossible': False}),\n",
       " Prediction(uid=780, iid=208, r_ui=3.0, est=3.503387998116048, details={'was_impossible': False}),\n",
       " Prediction(uid=472, iid=400, r_ui=5.0, est=3.923555450747382, details={'was_impossible': False}),\n",
       " Prediction(uid=881, iid=63, r_ui=4.0, est=3.0313871171858437, details={'was_impossible': False}),\n",
       " Prediction(uid=487, iid=783, r_ui=4.0, est=2.8988413209909454, details={'was_impossible': False}),\n",
       " Prediction(uid=85, iid=136, r_ui=4.0, est=3.73030332535018, details={'was_impossible': False}),\n",
       " Prediction(uid=85, iid=208, r_ui=5.0, est=3.700913288651117, details={'was_impossible': False}),\n",
       " Prediction(uid=684, iid=781, r_ui=3.0, est=3.422110545355894, details={'was_impossible': False}),\n",
       " Prediction(uid=851, iid=1016, r_ui=5.0, est=3.736627432386977, details={'was_impossible': False}),\n",
       " Prediction(uid=682, iid=50, r_ui=5.0, est=4.439640154983194, details={'was_impossible': False}),\n",
       " Prediction(uid=891, iid=15, r_ui=4.0, est=4.2231996255462505, details={'was_impossible': False}),\n",
       " Prediction(uid=294, iid=334, r_ui=4.0, est=3.4180188890083443, details={'was_impossible': False}),\n",
       " Prediction(uid=168, iid=225, r_ui=5.0, est=2.977252127636462, details={'was_impossible': False}),\n",
       " Prediction(uid=632, iid=423, r_ui=4.0, est=3.7602032393189186, details={'was_impossible': False}),\n",
       " Prediction(uid=815, iid=647, r_ui=5.0, est=4.00794168592243, details={'was_impossible': False}),\n",
       " Prediction(uid=193, iid=177, r_ui=4.0, est=3.8156373361152642, details={'was_impossible': False}),\n",
       " Prediction(uid=458, iid=86, r_ui=5.0, est=3.8356628752810766, details={'was_impossible': False}),\n",
       " Prediction(uid=774, iid=228, r_ui=4.0, est=2.4675450324660333, details={'was_impossible': False}),\n",
       " Prediction(uid=548, iid=887, r_ui=4.0, est=3.5846603965238053, details={'was_impossible': False}),\n",
       " Prediction(uid=326, iid=510, r_ui=5.0, est=3.6104067952914907, details={'was_impossible': False}),\n",
       " Prediction(uid=774, iid=22, r_ui=2.0, est=2.67286809945289, details={'was_impossible': False}),\n",
       " Prediction(uid=328, iid=511, r_ui=4.0, est=4.1778463962031696, details={'was_impossible': False}),\n",
       " Prediction(uid=297, iid=1016, r_ui=3.0, est=2.7420008758683476, details={'was_impossible': False}),\n",
       " Prediction(uid=435, iid=697, r_ui=4.0, est=3.0711310778200263, details={'was_impossible': False}),\n",
       " Prediction(uid=788, iid=566, r_ui=4.0, est=3.303324312547705, details={'was_impossible': False}),\n",
       " Prediction(uid=429, iid=66, r_ui=2.0, est=2.9370853609667433, details={'was_impossible': False}),\n",
       " Prediction(uid=472, iid=366, r_ui=4.0, est=4.388630570945634, details={'was_impossible': False}),\n",
       " Prediction(uid=712, iid=755, r_ui=4.0, est=3.536664843300028, details={'was_impossible': False}),\n",
       " Prediction(uid=193, iid=33, r_ui=3.0, est=3.4758276446007343, details={'was_impossible': False}),\n",
       " Prediction(uid=758, iid=172, r_ui=4.0, est=4.330836709195083, details={'was_impossible': False}),\n",
       " Prediction(uid=6, iid=274, r_ui=4.0, est=3.053239725134769, details={'was_impossible': False}),\n",
       " Prediction(uid=715, iid=743, r_ui=2.0, est=1.9604621105972864, details={'was_impossible': False}),\n",
       " Prediction(uid=104, iid=628, r_ui=4.0, est=2.5663662940365484, details={'was_impossible': False}),\n",
       " Prediction(uid=649, iid=1283, r_ui=2.0, est=3.4337756151319017, details={'was_impossible': False}),\n",
       " Prediction(uid=920, iid=346, r_ui=4.0, est=3.2447614259966744, details={'was_impossible': False}),\n",
       " Prediction(uid=19, iid=887, r_ui=4.0, est=3.996074684242568, details={'was_impossible': False}),\n",
       " Prediction(uid=548, iid=659, r_ui=4.0, est=4.356138933142329, details={'was_impossible': False}),\n",
       " Prediction(uid=782, iid=1609, r_ui=1.0, est=2.652733080324225, details={'was_impossible': False}),\n",
       " Prediction(uid=919, iid=1109, r_ui=3.0, est=3.287117512934908, details={'was_impossible': False}),\n",
       " Prediction(uid=489, iid=875, r_ui=2.0, est=3.262100521534301, details={'was_impossible': False}),\n",
       " Prediction(uid=532, iid=357, r_ui=5.0, est=4.901350545178109, details={'was_impossible': False}),\n",
       " Prediction(uid=300, iid=1012, r_ui=4.0, est=4.189550587068489, details={'was_impossible': False}),\n",
       " Prediction(uid=650, iid=136, r_ui=4.0, est=3.9061729596541426, details={'was_impossible': False}),\n",
       " Prediction(uid=227, iid=1010, r_ui=3.0, est=3.513807200603685, details={'was_impossible': False}),\n",
       " Prediction(uid=756, iid=123, r_ui=2.0, est=2.869930033171609, details={'was_impossible': False}),\n",
       " Prediction(uid=305, iid=204, r_ui=2.0, est=3.1053700877807042, details={'was_impossible': False}),\n",
       " Prediction(uid=186, iid=770, r_ui=2.0, est=3.6646009303019316, details={'was_impossible': False}),\n",
       " Prediction(uid=532, iid=496, r_ui=5.0, est=4.562047666457053, details={'was_impossible': False}),\n",
       " Prediction(uid=499, iid=100, r_ui=4.0, est=4.260439501872952, details={'was_impossible': False}),\n",
       " Prediction(uid=303, iid=1135, r_ui=2.0, est=3.2803767713536933, details={'was_impossible': False}),\n",
       " Prediction(uid=24, iid=71, r_ui=5.0, est=4.301942953815171, details={'was_impossible': False}),\n",
       " Prediction(uid=468, iid=56, r_ui=5.0, est=4.370920435770519, details={'was_impossible': False}),\n",
       " Prediction(uid=412, iid=117, r_ui=4.0, est=3.812079634790279, details={'was_impossible': False}),\n",
       " Prediction(uid=592, iid=183, r_ui=5.0, est=4.587486426221043, details={'was_impossible': False}),\n",
       " Prediction(uid=915, iid=321, r_ui=3.0, est=2.7832496154060653, details={'was_impossible': False}),\n",
       " Prediction(uid=151, iid=197, r_ui=5.0, est=4.482676867062144, details={'was_impossible': False}),\n",
       " Prediction(uid=10, iid=174, r_ui=4.0, est=4.730611888561166, details={'was_impossible': False}),\n",
       " Prediction(uid=868, iid=1183, r_ui=1.0, est=1.577535391397005, details={'was_impossible': False}),\n",
       " Prediction(uid=587, iid=355, r_ui=3.0, est=2.7085397137606386, details={'was_impossible': False}),\n",
       " Prediction(uid=506, iid=274, r_ui=4.0, est=3.8521548200897433, details={'was_impossible': False}),\n",
       " Prediction(uid=796, iid=516, r_ui=4.0, est=3.8984264223799983, details={'was_impossible': False}),\n",
       " Prediction(uid=421, iid=653, r_ui=3.0, est=3.870047832153533, details={'was_impossible': False}),\n",
       " Prediction(uid=864, iid=1047, r_ui=3.0, est=3.3435396301917204, details={'was_impossible': False}),\n",
       " Prediction(uid=711, iid=923, r_ui=5.0, est=4.783764904112887, details={'was_impossible': False}),\n",
       " Prediction(uid=922, iid=82, r_ui=3.0, est=3.6292156256895507, details={'was_impossible': False}),\n",
       " Prediction(uid=655, iid=503, r_ui=3.0, est=3.1237700231472716, details={'was_impossible': False}),\n",
       " Prediction(uid=240, iid=748, r_ui=3.0, est=3.234962326843374, details={'was_impossible': False}),\n",
       " Prediction(uid=490, iid=257, r_ui=3.0, est=2.9748621752857445, details={'was_impossible': False}),\n",
       " Prediction(uid=592, iid=1059, r_ui=3.0, est=3.1383034511609638, details={'was_impossible': False}),\n",
       " Prediction(uid=320, iid=433, r_ui=4.0, est=3.9845104663383024, details={'was_impossible': False}),\n",
       " Prediction(uid=317, iid=683, r_ui=2.0, est=2.8627551724244724, details={'was_impossible': False}),\n",
       " Prediction(uid=532, iid=482, r_ui=5.0, est=4.434836894228311, details={'was_impossible': False}),\n",
       " Prediction(uid=305, iid=2, r_ui=2.0, est=2.7968600313650263, details={'was_impossible': False}),\n",
       " Prediction(uid=13, iid=589, r_ui=3.0, est=3.324497937735035, details={'was_impossible': False}),\n",
       " Prediction(uid=659, iid=739, r_ui=4.0, est=3.576701532079052, details={'was_impossible': False}),\n",
       " Prediction(uid=405, iid=1074, r_ui=3.0, est=1.780370853766725, details={'was_impossible': False}),\n",
       " Prediction(uid=790, iid=250, r_ui=5.0, est=2.9105982303690983, details={'was_impossible': False}),\n",
       " Prediction(uid=506, iid=578, r_ui=3.0, est=3.22725452875289, details={'was_impossible': False}),\n",
       " Prediction(uid=190, iid=326, r_ui=4.0, est=3.1948885046154603, details={'was_impossible': False}),\n",
       " Prediction(uid=756, iid=275, r_ui=3.0, est=3.5945366459628745, details={'was_impossible': False}),\n",
       " Prediction(uid=233, iid=371, r_ui=5.0, est=3.8131664306244275, details={'was_impossible': False}),\n",
       " Prediction(uid=890, iid=451, r_ui=2.0, est=3.31399526261793, details={'was_impossible': False}),\n",
       " Prediction(uid=848, iid=154, r_ui=5.0, est=4.058627848770574, details={'was_impossible': False}),\n",
       " Prediction(uid=420, iid=179, r_ui=5.0, est=3.9230558695994575, details={'was_impossible': False}),\n",
       " Prediction(uid=337, iid=67, r_ui=4.0, est=3.258308752341847, details={'was_impossible': False}),\n",
       " Prediction(uid=805, iid=411, r_ui=2.0, est=2.86534053924396, details={'was_impossible': False}),\n",
       " Prediction(uid=85, iid=172, r_ui=4.0, est=3.970641287761507, details={'was_impossible': False}),\n",
       " Prediction(uid=788, iid=98, r_ui=5.0, est=4.2864669631801755, details={'was_impossible': False}),\n",
       " Prediction(uid=303, iid=480, r_ui=4.0, est=4.532006271624188, details={'was_impossible': False}),\n",
       " Prediction(uid=716, iid=202, r_ui=4.0, est=3.8645223091987164, details={'was_impossible': False}),\n",
       " Prediction(uid=505, iid=117, r_ui=4.0, est=3.4587415719172165, details={'was_impossible': False}),\n",
       " Prediction(uid=363, iid=317, r_ui=5.0, est=3.1414743764701325, details={'was_impossible': False}),\n",
       " Prediction(uid=378, iid=932, r_ui=2.0, est=2.7835166666872695, details={'was_impossible': False}),\n",
       " Prediction(uid=883, iid=286, r_ui=3.0, est=4.206273083177781, details={'was_impossible': False}),\n",
       " Prediction(uid=896, iid=129, r_ui=4.0, est=2.960460631469912, details={'was_impossible': False}),\n",
       " Prediction(uid=71, iid=257, r_ui=5.0, est=3.5397776154725173, details={'was_impossible': False}),\n",
       " Prediction(uid=443, iid=323, r_ui=2.0, est=3.0404608911785607, details={'was_impossible': False}),\n",
       " Prediction(uid=642, iid=432, r_ui=2.0, est=4.406229890621198, details={'was_impossible': False}),\n",
       " Prediction(uid=334, iid=607, r_ui=3.0, est=3.9490531905495856, details={'was_impossible': False}),\n",
       " Prediction(uid=90, iid=356, r_ui=4.0, est=3.6636630481099592, details={'was_impossible': False}),\n",
       " Prediction(uid=435, iid=665, r_ui=3.0, est=2.8065024604112523, details={'was_impossible': False}),\n",
       " Prediction(uid=279, iid=990, r_ui=1.0, est=2.79177858033876, details={'was_impossible': False}),\n",
       " Prediction(uid=861, iid=321, r_ui=1.0, est=3.2980070945053996, details={'was_impossible': False}),\n",
       " Prediction(uid=497, iid=24, r_ui=4.0, est=3.07797584089055, details={'was_impossible': False}),\n",
       " Prediction(uid=896, iid=386, r_ui=3.0, est=2.614416879546684, details={'was_impossible': False}),\n",
       " Prediction(uid=659, iid=56, r_ui=5.0, est=3.7693583280716307, details={'was_impossible': False}),\n",
       " Prediction(uid=43, iid=382, r_ui=5.0, est=3.653804170620397, details={'was_impossible': False}),\n",
       " Prediction(uid=447, iid=202, r_ui=3.0, est=3.717015934157738, details={'was_impossible': False}),\n",
       " Prediction(uid=385, iid=425, r_ui=3.0, est=4.007163882185732, details={'was_impossible': False}),\n",
       " Prediction(uid=627, iid=177, r_ui=5.0, est=3.768585660836033, details={'was_impossible': False}),\n",
       " Prediction(uid=262, iid=235, r_ui=2.0, est=2.7043957059089125, details={'was_impossible': False}),\n",
       " Prediction(uid=450, iid=502, r_ui=5.0, est=3.8257717555409485, details={'was_impossible': False}),\n",
       " Prediction(uid=274, iid=50, r_ui=5.0, est=4.878338430867063, details={'was_impossible': False}),\n",
       " Prediction(uid=178, iid=763, r_ui=4.0, est=3.204639605395365, details={'was_impossible': False}),\n",
       " Prediction(uid=2, iid=269, r_ui=4.0, est=4.109536489832016, details={'was_impossible': False}),\n",
       " Prediction(uid=592, iid=408, r_ui=5.0, est=4.984243662156107, details={'was_impossible': False}),\n",
       " Prediction(uid=447, iid=27, r_ui=3.0, est=3.2001301415563628, details={'was_impossible': False}),\n",
       " Prediction(uid=605, iid=408, r_ui=5.0, est=4.641756439553287, details={'was_impossible': False}),\n",
       " Prediction(uid=173, iid=286, r_ui=5.0, est=4.411269907783756, details={'was_impossible': False}),\n",
       " Prediction(uid=339, iid=101, r_ui=3.0, est=4.0660580963969055, details={'was_impossible': False}),\n",
       " Prediction(uid=622, iid=1419, r_ui=2.0, est=2.64808911760223, details={'was_impossible': False}),\n",
       " Prediction(uid=345, iid=772, r_ui=4.0, est=3.3257637171437398, details={'was_impossible': False}),\n",
       " Prediction(uid=11, iid=51, r_ui=4.0, est=3.446331793024327, details={'was_impossible': False}),\n",
       " Prediction(uid=201, iid=271, r_ui=4.0, est=2.7630774863246166, details={'was_impossible': False}),\n",
       " Prediction(uid=642, iid=401, r_ui=4.0, est=3.276640482939918, details={'was_impossible': False}),\n",
       " Prediction(uid=846, iid=510, r_ui=4.0, est=4.531170518889942, details={'was_impossible': False}),\n",
       " Prediction(uid=279, iid=1500, r_ui=5.0, est=3.816491988105956, details={'was_impossible': False}),\n",
       " Prediction(uid=741, iid=79, r_ui=4.0, est=3.9611822471409193, details={'was_impossible': False}),\n",
       " Prediction(uid=207, iid=13, r_ui=3.0, est=3.359875041962041, details={'was_impossible': False}),\n",
       " Prediction(uid=657, iid=269, r_ui=5.0, est=3.7952490952537854, details={'was_impossible': False}),\n",
       " Prediction(uid=456, iid=197, r_ui=4.0, est=4.227713886937858, details={'was_impossible': False}),\n",
       " Prediction(uid=378, iid=423, r_ui=4.0, est=3.9169387578192505, details={'was_impossible': False}),\n",
       " Prediction(uid=614, iid=1009, r_ui=3.0, est=3.1158304512044546, details={'was_impossible': False}),\n",
       " Prediction(uid=405, iid=452, r_ui=5.0, est=1.534739320021559, details={'was_impossible': False}),\n",
       " Prediction(uid=128, iid=633, r_ui=4.0, est=4.067079668661934, details={'was_impossible': False}),\n",
       " Prediction(uid=398, iid=58, r_ui=4.0, est=3.5162017314242684, details={'was_impossible': False}),\n",
       " Prediction(uid=280, iid=203, r_ui=4.0, est=4.096695865446373, details={'was_impossible': False}),\n",
       " Prediction(uid=880, iid=11, r_ui=4.0, est=3.7913780552934813, details={'was_impossible': False}),\n",
       " Prediction(uid=537, iid=492, r_ui=3.0, est=3.0094300643582317, details={'was_impossible': False}),\n",
       " Prediction(uid=883, iid=14, r_ui=3.0, est=4.492155248369292, details={'was_impossible': False}),\n",
       " Prediction(uid=584, iid=25, r_ui=3.0, est=3.8326024081821704, details={'was_impossible': False}),\n",
       " Prediction(uid=336, iid=999, r_ui=2.0, est=3.1040702092374066, details={'was_impossible': False}),\n",
       " Prediction(uid=72, iid=2, r_ui=3.0, est=3.542660193112707, details={'was_impossible': False}),\n",
       " Prediction(uid=99, iid=265, r_ui=3.0, est=3.8180148460939813, details={'was_impossible': False}),\n",
       " Prediction(uid=454, iid=76, r_ui=1.0, est=3.131030022010469, details={'was_impossible': False}),\n",
       " Prediction(uid=593, iid=288, r_ui=4.0, est=3.6967326883882476, details={'was_impossible': False}),\n",
       " Prediction(uid=868, iid=100, r_ui=5.0, est=3.895966894731924, details={'was_impossible': False}),\n",
       " Prediction(uid=940, iid=354, r_ui=5.0, est=3.172869981626981, details={'was_impossible': False}),\n",
       " Prediction(uid=44, iid=237, r_ui=3.0, est=3.9394459106662745, details={'was_impossible': False}),\n",
       " Prediction(uid=642, iid=133, r_ui=5.0, est=4.979489538117492, details={'was_impossible': False}),\n",
       " Prediction(uid=654, iid=255, r_ui=2.0, est=3.5218947819350124, details={'was_impossible': False}),\n",
       " Prediction(uid=617, iid=567, r_ui=2.0, est=1.8253589639993641, details={'was_impossible': False}),\n",
       " Prediction(uid=843, iid=173, r_ui=2.0, est=3.435517299263429, details={'was_impossible': False}),\n",
       " Prediction(uid=833, iid=56, r_ui=4.0, est=3.987952557335348, details={'was_impossible': False}),\n",
       " Prediction(uid=183, iid=229, r_ui=3.0, est=2.8500489168024865, details={'was_impossible': False}),\n",
       " Prediction(uid=94, iid=100, r_ui=5.0, est=4.670102046670555, details={'was_impossible': False}),\n",
       " Prediction(uid=280, iid=66, r_ui=5.0, est=3.5230834539079705, details={'was_impossible': False}),\n",
       " Prediction(uid=643, iid=276, r_ui=5.0, est=3.8061607285942687, details={'was_impossible': False}),\n",
       " Prediction(uid=869, iid=412, r_ui=5.0, est=2.1063816766535215, details={'was_impossible': False}),\n",
       " Prediction(uid=186, iid=1399, r_ui=2.0, est=3.0173360988313283, details={'was_impossible': False}),\n",
       " Prediction(uid=216, iid=423, r_ui=4.0, est=3.7490580266972637, details={'was_impossible': False}),\n",
       " Prediction(uid=639, iid=88, r_ui=3.0, est=2.4779250170675984, details={'was_impossible': False}),\n",
       " Prediction(uid=664, iid=321, r_ui=3.0, est=3.1281780978587084, details={'was_impossible': False}),\n",
       " Prediction(uid=630, iid=300, r_ui=4.0, est=3.9014827889507804, details={'was_impossible': False}),\n",
       " Prediction(uid=747, iid=9, r_ui=5.0, est=4.784996904818902, details={'was_impossible': False}),\n",
       " Prediction(uid=699, iid=989, r_ui=4.0, est=2.730622526144446, details={'was_impossible': False}),\n",
       " Prediction(uid=393, iid=710, r_ui=4.0, est=3.5853264001185314, details={'was_impossible': False}),\n",
       " Prediction(uid=619, iid=187, r_ui=5.0, est=4.093035429721115, details={'was_impossible': False}),\n",
       " Prediction(uid=389, iid=196, r_ui=3.0, est=3.6509249695514754, details={'was_impossible': False}),\n",
       " Prediction(uid=96, iid=216, r_ui=4.0, est=3.961734802827046, details={'was_impossible': False}),\n",
       " Prediction(uid=716, iid=185, r_ui=5.0, est=4.140557277826439, details={'was_impossible': False}),\n",
       " Prediction(uid=267, iid=926, r_ui=2.0, est=2.741264788720697, details={'was_impossible': False}),\n",
       " Prediction(uid=81, iid=273, r_ui=4.0, est=3.5962720683756486, details={'was_impossible': False}),\n",
       " Prediction(uid=129, iid=242, r_ui=4.0, est=3.2976363220010785, details={'was_impossible': False}),\n",
       " Prediction(uid=254, iid=1033, r_ui=3.0, est=2.4846278361654495, details={'was_impossible': False}),\n",
       " Prediction(uid=924, iid=849, r_ui=3.0, est=2.9276571876960475, details={'was_impossible': False}),\n",
       " Prediction(uid=211, iid=199, r_ui=5.0, est=3.860701059037442, details={'was_impossible': False}),\n",
       " Prediction(uid=815, iid=945, r_ui=4.0, est=3.979637718078338, details={'was_impossible': False}),\n",
       " Prediction(uid=87, iid=161, r_ui=5.0, est=4.097454478922102, details={'was_impossible': False}),\n",
       " Prediction(uid=887, iid=1063, r_ui=1.0, est=4.175592536893458, details={'was_impossible': False}),\n",
       " Prediction(uid=655, iid=770, r_ui=2.0, est=2.944745229893483, details={'was_impossible': False}),\n",
       " Prediction(uid=622, iid=95, r_ui=4.0, est=3.6042971249806177, details={'was_impossible': False}),\n",
       " Prediction(uid=385, iid=217, r_ui=2.0, est=2.9286531987468285, details={'was_impossible': False}),\n",
       " Prediction(uid=556, iid=170, r_ui=4.0, est=4.428461432605485, details={'was_impossible': False}),\n",
       " Prediction(uid=125, iid=369, r_ui=3.0, est=2.776270438452863, details={'was_impossible': False}),\n",
       " Prediction(uid=495, iid=176, r_ui=5.0, est=4.705813615679605, details={'was_impossible': False}),\n",
       " Prediction(uid=58, iid=310, r_ui=4.0, est=3.4816699553184938, details={'was_impossible': False}),\n",
       " Prediction(uid=450, iid=395, r_ui=3.0, est=3.180711631007232, details={'was_impossible': False}),\n",
       " Prediction(uid=494, iid=194, r_ui=4.0, est=4.217591310031584, details={'was_impossible': False}),\n",
       " Prediction(uid=592, iid=544, r_ui=4.0, est=4.012521102776309, details={'was_impossible': False}),\n",
       " Prediction(uid=916, iid=640, r_ui=4.0, est=2.9828803323737616, details={'was_impossible': False}),\n",
       " Prediction(uid=671, iid=864, r_ui=3.0, est=3.227242358863233, details={'was_impossible': False}),\n",
       " Prediction(uid=174, iid=381, r_ui=5.0, est=3.383366168511107, details={'was_impossible': False}),\n",
       " Prediction(uid=10, iid=98, r_ui=4.0, est=4.835789047988319, details={'was_impossible': False}),\n",
       " Prediction(uid=846, iid=648, r_ui=5.0, est=4.1625144883895455, details={'was_impossible': False}),\n",
       " Prediction(uid=319, iid=307, r_ui=4.0, est=3.4916697466396287, details={'was_impossible': False}),\n",
       " Prediction(uid=101, iid=50, r_ui=4.0, est=3.971456103290469, details={'was_impossible': False}),\n",
       " Prediction(uid=308, iid=641, r_ui=4.0, est=4.447287605450597, details={'was_impossible': False}),\n",
       " Prediction(uid=642, iid=56, r_ui=4.0, est=3.561894040623746, details={'was_impossible': False}),\n",
       " Prediction(uid=815, iid=443, r_ui=3.0, est=3.6143876236054027, details={'was_impossible': False}),\n",
       " Prediction(uid=831, iid=150, r_ui=3.0, est=3.6738894262366926, details={'was_impossible': False}),\n",
       " Prediction(uid=447, iid=144, r_ui=5.0, est=3.905222338884447, details={'was_impossible': False}),\n",
       " Prediction(uid=378, iid=176, r_ui=4.0, est=3.700910613866761, details={'was_impossible': False}),\n",
       " Prediction(uid=176, iid=327, r_ui=3.0, est=3.864501873509734, details={'was_impossible': False}),\n",
       " Prediction(uid=768, iid=310, r_ui=4.0, est=3.4444015392500797, details={'was_impossible': False}),\n",
       " Prediction(uid=275, iid=679, r_ui=3.0, est=2.843522596807221, details={'was_impossible': False}),\n",
       " Prediction(uid=622, iid=153, r_ui=4.0, est=3.9374857412397914, details={'was_impossible': False}),\n",
       " Prediction(uid=263, iid=498, r_ui=5.0, est=4.4527651005962525, details={'was_impossible': False}),\n",
       " Prediction(uid=900, iid=186, r_ui=2.0, est=2.982543435568133, details={'was_impossible': False}),\n",
       " Prediction(uid=592, iid=988, r_ui=1.0, est=2.041853247031186, details={'was_impossible': False}),\n",
       " Prediction(uid=753, iid=79, r_ui=4.0, est=3.7262829484101907, details={'was_impossible': False}),\n",
       " Prediction(uid=17, iid=245, r_ui=2.0, est=2.78559562933724, details={'was_impossible': False}),\n",
       " Prediction(uid=274, iid=1060, r_ui=4.0, est=3.5146326693901777, details={'was_impossible': False}),\n",
       " Prediction(uid=311, iid=754, r_ui=3.0, est=3.6563707611909795, details={'was_impossible': False}),\n",
       " Prediction(uid=495, iid=184, r_ui=5.0, est=3.582647102323946, details={'was_impossible': False}),\n",
       " Prediction(uid=2, iid=13, r_ui=4.0, est=3.554262377537725, details={'was_impossible': False}),\n",
       " Prediction(uid=472, iid=758, r_ui=1.0, est=3.0560721506780992, details={'was_impossible': False}),\n",
       " Prediction(uid=919, iid=878, r_ui=2.0, est=2.6784587621669016, details={'was_impossible': False}),\n",
       " Prediction(uid=881, iid=1046, r_ui=3.0, est=3.0710687714905376, details={'was_impossible': False}),\n",
       " Prediction(uid=788, iid=174, r_ui=2.0, est=3.8527474288441703, details={'was_impossible': False}),\n",
       " Prediction(uid=721, iid=196, r_ui=5.0, est=3.607294326110396, details={'was_impossible': False}),\n",
       " Prediction(uid=297, iid=79, r_ui=3.0, est=3.704214792183168, details={'was_impossible': False}),\n",
       " Prediction(uid=884, iid=258, r_ui=5.0, est=3.8023406827693043, details={'was_impossible': False}),\n",
       " Prediction(uid=474, iid=286, r_ui=5.0, est=3.6715559067179147, details={'was_impossible': False}),\n",
       " Prediction(uid=245, iid=94, r_ui=2.0, est=3.247020849320321, details={'was_impossible': False}),\n",
       " Prediction(uid=715, iid=595, r_ui=3.0, est=2.9044203732474356, details={'was_impossible': False}),\n",
       " Prediction(uid=896, iid=472, r_ui=2.0, est=2.3255655775880175, details={'was_impossible': False}),\n",
       " Prediction(uid=610, iid=195, r_ui=3.0, est=4.183024691109459, details={'was_impossible': False}),\n",
       " Prediction(uid=323, iid=332, r_ui=3.0, est=3.710052553255098, details={'was_impossible': False}),\n",
       " Prediction(uid=101, iid=122, r_ui=1.0, est=2.0845921782539896, details={'was_impossible': False}),\n",
       " Prediction(uid=896, iid=480, r_ui=3.0, est=3.8731162220505992, details={'was_impossible': False}),\n",
       " Prediction(uid=479, iid=148, r_ui=2.0, est=2.653068740917645, details={'was_impossible': False}),\n",
       " Prediction(uid=303, iid=402, r_ui=4.0, est=3.7235367471710354, details={'was_impossible': False}),\n",
       " Prediction(uid=91, iid=527, r_ui=4.0, est=4.05058144937248, details={'was_impossible': False}),\n",
       " Prediction(uid=222, iid=651, r_ui=4.0, est=3.70996579583587, details={'was_impossible': False}),\n",
       " Prediction(uid=768, iid=14, r_ui=5.0, est=3.6980829549184144, details={'was_impossible': False}),\n",
       " Prediction(uid=655, iid=1169, r_ui=3.0, est=3.1544337628700267, details={'was_impossible': False}),\n",
       " Prediction(uid=81, iid=717, r_ui=2.0, est=2.7546319231374863, details={'was_impossible': False}),\n",
       " Prediction(uid=881, iid=1057, r_ui=1.0, est=2.427995636417301, details={'was_impossible': False}),\n",
       " Prediction(uid=179, iid=272, r_ui=5.0, est=3.9538137731773513, details={'was_impossible': False}),\n",
       " Prediction(uid=303, iid=88, r_ui=4.0, est=3.6102649898436407, details={'was_impossible': False}),\n",
       " Prediction(uid=798, iid=602, r_ui=3.0, est=3.4031321422467453, details={'was_impossible': False}),\n",
       " Prediction(uid=610, iid=313, r_ui=4.0, est=4.597647756995467, details={'was_impossible': False}),\n",
       " Prediction(uid=22, iid=110, r_ui=1.0, est=2.7512914438437868, details={'was_impossible': False}),\n",
       " Prediction(uid=389, iid=285, r_ui=5.0, est=4.388454188921038, details={'was_impossible': False}),\n",
       " Prediction(uid=314, iid=731, r_ui=4.0, est=3.4049128802163304, details={'was_impossible': False}),\n",
       " Prediction(uid=897, iid=227, r_ui=3.0, est=3.889264658505588, details={'was_impossible': False}),\n",
       " Prediction(uid=615, iid=660, r_ui=4.0, est=3.4331369995964023, details={'was_impossible': False}),\n",
       " Prediction(uid=393, iid=42, r_ui=4.0, est=3.611853988546875, details={'was_impossible': False}),\n",
       " Prediction(uid=326, iid=435, r_ui=3.0, est=4.043146236030843, details={'was_impossible': False}),\n",
       " Prediction(uid=425, iid=343, r_ui=3.0, est=2.825828424381207, details={'was_impossible': False}),\n",
       " Prediction(uid=664, iid=531, r_ui=2.0, est=4.067846723495372, details={'was_impossible': False}),\n",
       " Prediction(uid=886, iid=95, r_ui=5.0, est=3.6700089265417315, details={'was_impossible': False}),\n",
       " Prediction(uid=533, iid=28, r_ui=4.0, est=4.0515617859946795, details={'was_impossible': False}),\n",
       " Prediction(uid=510, iid=259, r_ui=2.0, est=2.0945696191003367, details={'was_impossible': False}),\n",
       " Prediction(uid=354, iid=660, r_ui=3.0, est=3.6250068933666086, details={'was_impossible': False}),\n",
       " Prediction(uid=308, iid=609, r_ui=4.0, est=3.4630799638945162, details={'was_impossible': False}),\n",
       " Prediction(uid=833, iid=1274, r_ui=1.0, est=2.2209935519621538, details={'was_impossible': False}),\n",
       " Prediction(uid=917, iid=879, r_ui=2.0, est=3.1709055111284834, details={'was_impossible': False}),\n",
       " Prediction(uid=216, iid=202, r_ui=4.0, est=3.7821639609654416, details={'was_impossible': False}),\n",
       " Prediction(uid=288, iid=632, r_ui=4.0, est=4.017859737675981, details={'was_impossible': False}),\n",
       " Prediction(uid=850, iid=648, r_ui=5.0, est=4.305330998898717, details={'was_impossible': False}),\n",
       " Prediction(uid=880, iid=1423, r_ui=3.0, est=3.3258396120622877, details={'was_impossible': False}),\n",
       " Prediction(uid=449, iid=86, r_ui=4.0, est=4.342316078230198, details={'was_impossible': False}),\n",
       " Prediction(uid=314, iid=764, r_ui=3.0, est=3.633591824283994, details={'was_impossible': False}),\n",
       " Prediction(uid=843, iid=447, r_ui=2.0, est=2.896763832835581, details={'was_impossible': False}),\n",
       " Prediction(uid=201, iid=660, r_ui=3.0, est=2.8965322289100217, details={'was_impossible': False}),\n",
       " Prediction(uid=234, iid=472, r_ui=2.0, est=2.256194469416067, details={'was_impossible': False}),\n",
       " Prediction(uid=362, iid=333, r_ui=5.0, est=3.4497283331515343, details={'was_impossible': False}),\n",
       " Prediction(uid=178, iid=781, r_ui=4.0, est=3.614465036618075, details={'was_impossible': False}),\n",
       " Prediction(uid=460, iid=1142, r_ui=4.0, est=3.8847097148027054, details={'was_impossible': False}),\n",
       " Prediction(uid=435, iid=288, r_ui=4.0, est=3.753627461644495, details={'was_impossible': False}),\n",
       " Prediction(uid=872, iid=476, r_ui=4.0, est=3.2876185402474776, details={'was_impossible': False}),\n",
       " Prediction(uid=194, iid=402, r_ui=3.0, est=2.623851954110942, details={'was_impossible': False}),\n",
       " Prediction(uid=466, iid=300, r_ui=3.0, est=3.7444673073955057, details={'was_impossible': False}),\n",
       " Prediction(uid=627, iid=740, r_ui=1.0, est=3.213450990523944, details={'was_impossible': False}),\n",
       " Prediction(uid=693, iid=230, r_ui=2.0, est=2.8272657878818004, details={'was_impossible': False}),\n",
       " Prediction(uid=830, iid=29, r_ui=1.0, est=2.7326769204589625, details={'was_impossible': False}),\n",
       " Prediction(uid=756, iid=409, r_ui=2.0, est=2.884514668632986, details={'was_impossible': False}),\n",
       " Prediction(uid=204, iid=9, r_ui=5.0, est=4.193464931608543, details={'was_impossible': False}),\n",
       " Prediction(uid=843, iid=158, r_ui=2.0, est=1.8965408885551593, details={'was_impossible': False}),\n",
       " Prediction(uid=59, iid=529, r_ui=4.0, est=4.114512463525581, details={'was_impossible': False}),\n",
       " Prediction(uid=198, iid=568, r_ui=3.0, est=2.9514725337140044, details={'was_impossible': False}),\n",
       " Prediction(uid=456, iid=462, r_ui=3.0, est=3.9773748291868296, details={'was_impossible': False}),\n",
       " Prediction(uid=275, iid=636, r_ui=3.0, est=2.7926077658902564, details={'was_impossible': False}),\n",
       " Prediction(uid=295, iid=67, r_ui=4.0, est=3.47064715539814, details={'was_impossible': False}),\n",
       " Prediction(uid=188, iid=148, r_ui=4.0, est=3.551436475526669, details={'was_impossible': False}),\n",
       " Prediction(uid=567, iid=589, r_ui=5.0, est=3.8183096482530403, details={'was_impossible': False}),\n",
       " Prediction(uid=550, iid=275, r_ui=4.0, est=4.326677881120453, details={'was_impossible': False}),\n",
       " Prediction(uid=933, iid=42, r_ui=1.0, est=3.5817760087891757, details={'was_impossible': False}),\n",
       " Prediction(uid=492, iid=1147, r_ui=1.0, est=3.697959388001162, details={'was_impossible': False}),\n",
       " Prediction(uid=139, iid=222, r_ui=3.0, est=3.808256929934034, details={'was_impossible': False}),\n",
       " Prediction(uid=746, iid=208, r_ui=4.0, est=4.331375440058324, details={'was_impossible': False}),\n",
       " Prediction(uid=409, iid=520, r_ui=2.0, est=4.000901744603497, details={'was_impossible': False}),\n",
       " Prediction(uid=389, iid=95, r_ui=3.0, est=3.5766664456435358, details={'was_impossible': False}),\n",
       " Prediction(uid=23, iid=269, r_ui=5.0, est=4.472510742658136, details={'was_impossible': False}),\n",
       " Prediction(uid=884, iid=213, r_ui=4.0, est=3.9257432167103894, details={'was_impossible': False}),\n",
       " Prediction(uid=795, iid=1199, r_ui=3.0, est=2.689314879121822, details={'was_impossible': False}),\n",
       " Prediction(uid=847, iid=82, r_ui=4.0, est=3.27412057516606, details={'was_impossible': False}),\n",
       " Prediction(uid=298, iid=186, r_ui=4.0, est=4.031172915609673, details={'was_impossible': False}),\n",
       " Prediction(uid=363, iid=216, r_ui=3.0, est=3.403113396478424, details={'was_impossible': False}),\n",
       " Prediction(uid=405, iid=951, r_ui=1.0, est=1.2236149970886858, details={'was_impossible': False}),\n",
       " Prediction(uid=347, iid=806, r_ui=3.0, est=3.3956255764792167, details={'was_impossible': False}),\n",
       " Prediction(uid=269, iid=661, r_ui=4.0, est=4.043132375251745, details={'was_impossible': False}),\n",
       " Prediction(uid=678, iid=127, r_ui=5.0, est=4.2967992867662455, details={'was_impossible': False}),\n",
       " Prediction(uid=881, iid=180, r_ui=5.0, est=3.443821501679621, details={'was_impossible': False}),\n",
       " Prediction(uid=788, iid=742, r_ui=3.0, est=3.516970790379996, details={'was_impossible': False}),\n",
       " Prediction(uid=709, iid=209, r_ui=3.0, est=3.765230795665628, details={'was_impossible': False}),\n",
       " Prediction(uid=664, iid=497, r_ui=3.0, est=4.115627186579075, details={'was_impossible': False}),\n",
       " Prediction(uid=237, iid=423, r_ui=4.0, est=4.149363951298218, details={'was_impossible': False}),\n",
       " Prediction(uid=748, iid=517, r_ui=3.0, est=3.623033146720341, details={'was_impossible': False}),\n",
       " Prediction(uid=532, iid=259, r_ui=3.0, est=3.3336031357278193, details={'was_impossible': False}),\n",
       " Prediction(uid=406, iid=418, r_ui=5.0, est=3.431026616317654, details={'was_impossible': False}),\n",
       " Prediction(uid=87, iid=186, r_ui=5.0, est=4.280072162396871, details={'was_impossible': False}),\n",
       " Prediction(uid=653, iid=620, r_ui=3.0, est=2.2564503486634218, details={'was_impossible': False}),\n",
       " Prediction(uid=650, iid=98, r_ui=4.0, est=3.9284768484723203, details={'was_impossible': False}),\n",
       " Prediction(uid=886, iid=1324, r_ui=2.0, est=2.8515629754659746, details={'was_impossible': False}),\n",
       " Prediction(uid=244, iid=1119, r_ui=5.0, est=3.621880978865938, details={'was_impossible': False}),\n",
       " Prediction(uid=607, iid=100, r_ui=4.0, est=4.029911606526342, details={'was_impossible': False}),\n",
       " Prediction(uid=436, iid=81, r_ui=3.0, est=3.5898278066309577, details={'was_impossible': False}),\n",
       " Prediction(uid=561, iid=356, r_ui=1.0, est=2.466179932106165, details={'was_impossible': False}),\n",
       " Prediction(uid=655, iid=607, r_ui=4.0, est=3.4507060692234037, details={'was_impossible': False}),\n",
       " Prediction(uid=328, iid=1126, r_ui=3.0, est=3.6076385680117116, details={'was_impossible': False}),\n",
       " Prediction(uid=445, iid=591, r_ui=2.0, est=2.1928358303310476, details={'was_impossible': False}),\n",
       " Prediction(uid=279, iid=1012, r_ui=5.0, est=3.6572316445155155, details={'was_impossible': False}),\n",
       " Prediction(uid=249, iid=7, r_ui=5.0, est=4.607727114686622, details={'was_impossible': False}),\n",
       " Prediction(uid=796, iid=578, r_ui=4.0, est=3.453709355355725, details={'was_impossible': False}),\n",
       " Prediction(uid=246, iid=260, r_ui=5.0, est=2.425610697865404, details={'was_impossible': False}),\n",
       " Prediction(uid=669, iid=511, r_ui=5.0, est=3.9996676687297374, details={'was_impossible': False}),\n",
       " Prediction(uid=577, iid=819, r_ui=3.0, est=3.2614248628278673, details={'was_impossible': False}),\n",
       " Prediction(uid=840, iid=519, r_ui=5.0, est=4.377875032987995, details={'was_impossible': False}),\n",
       " Prediction(uid=618, iid=9, r_ui=3.0, est=3.559804019518351, details={'was_impossible': False}),\n",
       " Prediction(uid=704, iid=679, r_ui=2.0, est=2.537508050384427, details={'was_impossible': False}),\n",
       " Prediction(uid=459, iid=455, r_ui=2.0, est=3.4102306903298154, details={'was_impossible': False}),\n",
       " Prediction(uid=757, iid=17, r_ui=3.0, est=3.1083966453975864, details={'was_impossible': False}),\n",
       " Prediction(uid=841, iid=751, r_ui=3.0, est=3.9904466215159173, details={'was_impossible': False}),\n",
       " Prediction(uid=48, iid=661, r_ui=5.0, est=4.064848542897631, details={'was_impossible': False}),\n",
       " Prediction(uid=361, iid=435, r_ui=5.0, est=3.771562284328468, details={'was_impossible': False}),\n",
       " Prediction(uid=942, iid=892, r_ui=3.0, est=3.4124328225909166, details={'was_impossible': False}),\n",
       " Prediction(uid=60, iid=665, r_ui=4.0, est=3.1718608583066303, details={'was_impossible': False}),\n",
       " Prediction(uid=38, iid=1032, r_ui=4.0, est=3.251830760492645, details={'was_impossible': False}),\n",
       " Prediction(uid=137, iid=260, r_ui=3.0, est=3.5626693724040113, details={'was_impossible': False}),\n",
       " Prediction(uid=699, iid=597, r_ui=3.0, est=2.8293819994718317, details={'was_impossible': False}),\n",
       " Prediction(uid=210, iid=40, r_ui=3.0, est=3.1990964535430813, details={'was_impossible': False}),\n",
       " Prediction(uid=207, iid=298, r_ui=3.0, est=3.6352265149252636, details={'was_impossible': False}),\n",
       " Prediction(uid=63, iid=1137, r_ui=5.0, est=3.6102900102056505, details={'was_impossible': False}),\n",
       " Prediction(uid=43, iid=11, r_ui=5.0, est=4.1494058519568355, details={'was_impossible': False}),\n",
       " Prediction(uid=276, iid=40, r_ui=3.0, est=3.1293173316084504, details={'was_impossible': False}),\n",
       " Prediction(uid=307, iid=173, r_ui=5.0, est=4.263207258119102, details={'was_impossible': False}),\n",
       " Prediction(uid=353, iid=258, r_ui=5.0, est=3.5402452174483923, details={'was_impossible': False}),\n",
       " Prediction(uid=540, iid=310, r_ui=4.0, est=3.8543453220664596, details={'was_impossible': False}),\n",
       " Prediction(uid=840, iid=210, r_ui=3.0, est=3.8923709160775206, details={'was_impossible': False}),\n",
       " Prediction(uid=48, iid=174, r_ui=5.0, est=4.244698032037903, details={'was_impossible': False}),\n",
       " Prediction(uid=682, iid=318, r_ui=4.0, est=3.8939281302451394, details={'was_impossible': False}),\n",
       " Prediction(uid=96, iid=479, r_ui=4.0, est=4.554054736088101, details={'was_impossible': False}),\n",
       " Prediction(uid=299, iid=514, r_ui=5.0, est=3.9911328518111495, details={'was_impossible': False}),\n",
       " Prediction(uid=294, iid=347, r_ui=5.0, est=3.5426689222657965, details={'was_impossible': False}),\n",
       " Prediction(uid=82, iid=660, r_ui=5.0, est=3.234248573029224, details={'was_impossible': False}),\n",
       " Prediction(uid=561, iid=751, r_ui=3.0, est=2.6104204788100605, details={'was_impossible': False}),\n",
       " Prediction(uid=615, iid=22, r_ui=4.0, est=4.424888349349059, details={'was_impossible': False}),\n",
       " Prediction(uid=378, iid=195, r_ui=3.0, est=3.7770413132308613, details={'was_impossible': False}),\n",
       " Prediction(uid=435, iid=5, r_ui=2.0, est=3.1566151915115355, details={'was_impossible': False}),\n",
       " Prediction(uid=836, iid=496, r_ui=4.0, est=4.306506394867609, details={'was_impossible': False}),\n",
       " Prediction(uid=830, iid=424, r_ui=1.0, est=2.2210270916032897, details={'was_impossible': False}),\n",
       " Prediction(uid=59, iid=523, r_ui=4.0, est=4.346383681432907, details={'was_impossible': False}),\n",
       " Prediction(uid=885, iid=154, r_ui=3.0, est=3.336891627013297, details={'was_impossible': False}),\n",
       " Prediction(uid=690, iid=1185, r_ui=1.0, est=2.6747956235933024, details={'was_impossible': False}),\n",
       " Prediction(uid=807, iid=422, r_ui=4.0, est=3.358759447215014, details={'was_impossible': False}),\n",
       " Prediction(uid=201, iid=473, r_ui=3.0, est=2.7127351458050937, details={'was_impossible': False}),\n",
       " Prediction(uid=766, iid=89, r_ui=4.0, est=3.652587352106774, details={'was_impossible': False}),\n",
       " Prediction(uid=391, iid=479, r_ui=4.0, est=4.242529432636234, details={'was_impossible': False}),\n",
       " Prediction(uid=537, iid=1006, r_ui=2.0, est=2.591973533033543, details={'was_impossible': False}),\n",
       " Prediction(uid=921, iid=392, r_ui=4.0, est=3.6531495717376097, details={'was_impossible': False}),\n",
       " Prediction(uid=637, iid=926, r_ui=2.0, est=2.2261467714694727, details={'was_impossible': False}),\n",
       " Prediction(uid=393, iid=290, r_ui=3.0, est=2.884298408305903, details={'was_impossible': False}),\n",
       " Prediction(uid=416, iid=433, r_ui=4.0, est=4.181750389999833, details={'was_impossible': False}),\n",
       " Prediction(uid=296, iid=528, r_ui=5.0, est=4.633318652103812, details={'was_impossible': False}),\n",
       " Prediction(uid=354, iid=136, r_ui=5.0, est=4.078582697345729, details={'was_impossible': False}),\n",
       " Prediction(uid=128, iid=742, r_ui=3.0, est=3.9056368420167855, details={'was_impossible': False}),\n",
       " Prediction(uid=378, iid=684, r_ui=3.0, est=3.777163749817283, details={'was_impossible': False}),\n",
       " Prediction(uid=128, iid=284, r_ui=3.0, est=3.4775280370631267, details={'was_impossible': False}),\n",
       " Prediction(uid=290, iid=239, r_ui=2.0, est=3.3441665636576756, details={'was_impossible': False}),\n",
       " Prediction(uid=596, iid=682, r_ui=4.0, est=2.834157989308596, details={'was_impossible': False}),\n",
       " Prediction(uid=303, iid=720, r_ui=2.0, est=3.0824757908380445, details={'was_impossible': False}),\n",
       " Prediction(uid=517, iid=538, r_ui=4.0, est=3.4472276141384532, details={'was_impossible': False}),\n",
       " Prediction(uid=897, iid=23, r_ui=3.0, est=4.390534113715401, details={'was_impossible': False}),\n",
       " Prediction(uid=534, iid=475, r_ui=4.0, est=4.576226933947627, details={'was_impossible': False}),\n",
       " Prediction(uid=882, iid=357, r_ui=4.0, est=4.522975038782105, details={'was_impossible': False}),\n",
       " Prediction(uid=684, iid=94, r_ui=3.0, est=3.2200878683735987, details={'was_impossible': False}),\n",
       " Prediction(uid=593, iid=761, r_ui=2.0, est=3.1632292270188436, details={'was_impossible': False}),\n",
       " Prediction(uid=267, iid=578, r_ui=3.0, est=3.6939679487234103, details={'was_impossible': False}),\n",
       " Prediction(uid=795, iid=201, r_ui=4.0, est=3.2103295838792096, details={'was_impossible': False}),\n",
       " Prediction(uid=413, iid=181, r_ui=5.0, est=3.7967947723131186, details={'was_impossible': False}),\n",
       " Prediction(uid=655, iid=1650, r_ui=4.0, est=2.829520670578046, details={'was_impossible': False}),\n",
       " Prediction(uid=42, iid=506, r_ui=3.0, est=3.7836180212663817, details={'was_impossible': False}),\n",
       " Prediction(uid=472, iid=73, r_ui=4.0, est=4.7212364724418565, details={'was_impossible': False}),\n",
       " Prediction(uid=479, iid=732, r_ui=4.0, est=3.618192553111339, details={'was_impossible': False}),\n",
       " Prediction(uid=682, iid=475, r_ui=3.0, est=3.302020862296926, details={'was_impossible': False}),\n",
       " Prediction(uid=417, iid=250, r_ui=4.0, est=3.2390670006850715, details={'was_impossible': False}),\n",
       " Prediction(uid=226, iid=275, r_ui=3.0, est=4.142981448935238, details={'was_impossible': False}),\n",
       " Prediction(uid=897, iid=429, r_ui=5.0, est=4.100311433133722, details={'was_impossible': False}),\n",
       " Prediction(uid=663, iid=98, r_ui=5.0, est=4.447046116497705, details={'was_impossible': False}),\n",
       " Prediction(uid=256, iid=227, r_ui=4.0, est=3.544051009399329, details={'was_impossible': False}),\n",
       " Prediction(uid=892, iid=68, r_ui=4.0, est=3.6252964277947166, details={'was_impossible': False}),\n",
       " Prediction(uid=437, iid=99, r_ui=4.0, est=3.7216292250453806, details={'was_impossible': False}),\n",
       " Prediction(uid=344, iid=151, r_ui=5.0, est=3.8860087633926006, details={'was_impossible': False}),\n",
       " Prediction(uid=601, iid=154, r_ui=5.0, est=3.444221750289983, details={'was_impossible': False}),\n",
       " Prediction(uid=151, iid=420, r_ui=5.0, est=3.4996574536800162, details={'was_impossible': False}),\n",
       " Prediction(uid=314, iid=365, r_ui=3.0, est=3.888948180518353, details={'was_impossible': False}),\n",
       " Prediction(uid=116, iid=322, r_ui=2.0, est=2.5115475318841387, details={'was_impossible': False}),\n",
       " Prediction(uid=21, iid=872, r_ui=2.0, est=2.708220271360792, details={'was_impossible': False}),\n",
       " Prediction(uid=452, iid=947, r_ui=5.0, est=3.228291096599928, details={'was_impossible': False}),\n",
       " Prediction(uid=660, iid=404, r_ui=2.0, est=2.7986318297404464, details={'was_impossible': False}),\n",
       " Prediction(uid=715, iid=222, r_ui=3.0, est=3.56355017832812, details={'was_impossible': False}),\n",
       " Prediction(uid=457, iid=458, r_ui=3.0, est=3.812800564636249, details={'was_impossible': False}),\n",
       " Prediction(uid=787, iid=359, r_ui=3.0, est=3.0771491616746958, details={'was_impossible': False}),\n",
       " Prediction(uid=660, iid=17, r_ui=1.0, est=2.2456523063340783, details={'was_impossible': False}),\n",
       " Prediction(uid=91, iid=331, r_ui=5.0, est=3.438946004641697, details={'was_impossible': False}),\n",
       " Prediction(uid=852, iid=546, r_ui=4.0, est=3.563865864784607, details={'was_impossible': False}),\n",
       " Prediction(uid=864, iid=239, r_ui=4.0, est=3.860598916697861, details={'was_impossible': False}),\n",
       " Prediction(uid=787, iid=259, r_ui=4.0, est=2.3653593781810023, details={'was_impossible': False}),\n",
       " Prediction(uid=194, iid=199, r_ui=4.0, est=3.7870263965505435, details={'was_impossible': False}),\n",
       " Prediction(uid=450, iid=39, r_ui=4.0, est=3.7989789629808173, details={'was_impossible': False}),\n",
       " Prediction(uid=336, iid=738, r_ui=1.0, est=2.6895081246157795, details={'was_impossible': False}),\n",
       " Prediction(uid=632, iid=164, r_ui=4.0, est=3.4311557421317462, details={'was_impossible': False}),\n",
       " Prediction(uid=84, iid=543, r_ui=5.0, est=3.821976932345717, details={'was_impossible': False}),\n",
       " Prediction(uid=7, iid=503, r_ui=4.0, est=3.958023023619919, details={'was_impossible': False}),\n",
       " Prediction(uid=456, iid=414, r_ui=3.0, est=3.4479014167628184, details={'was_impossible': False}),\n",
       " Prediction(uid=835, iid=134, r_ui=3.0, est=4.544417266454861, details={'was_impossible': False}),\n",
       " Prediction(uid=519, iid=887, r_ui=5.0, est=4.4511949304531555, details={'was_impossible': False}),\n",
       " Prediction(uid=495, iid=200, r_ui=5.0, est=4.156770235730319, details={'was_impossible': False}),\n",
       " Prediction(uid=705, iid=228, r_ui=3.0, est=3.9707053675449133, details={'was_impossible': False}),\n",
       " Prediction(uid=555, iid=274, r_ui=4.0, est=4.126522444858158, details={'was_impossible': False}),\n",
       " Prediction(uid=660, iid=742, r_ui=2.0, est=2.5378994818731417, details={'was_impossible': False}),\n",
       " Prediction(uid=870, iid=401, r_ui=3.0, est=2.855773993115568, details={'was_impossible': False}),\n",
       " Prediction(uid=313, iid=157, r_ui=3.0, est=3.7947865105293, details={'was_impossible': False}),\n",
       " Prediction(uid=254, iid=125, r_ui=3.0, est=3.5733673647801476, details={'was_impossible': False}),\n",
       " Prediction(uid=276, iid=1172, r_ui=4.0, est=3.9052271603779016, details={'was_impossible': False}),\n",
       " Prediction(uid=292, iid=499, r_ui=5.0, est=4.2241540576104795, details={'was_impossible': False}),\n",
       " Prediction(uid=599, iid=237, r_ui=5.0, est=4.436722699073333, details={'was_impossible': False}),\n",
       " Prediction(uid=725, iid=328, r_ui=4.0, est=3.4598346021533084, details={'was_impossible': False}),\n",
       " Prediction(uid=841, iid=316, r_ui=4.0, est=4.6115238632751865, details={'was_impossible': False}),\n",
       " Prediction(uid=63, iid=300, r_ui=4.0, est=3.129014571745245, details={'was_impossible': False}),\n",
       " Prediction(uid=43, iid=792, r_ui=1.0, est=3.949941408613069, details={'was_impossible': False}),\n",
       " Prediction(uid=94, iid=508, r_ui=5.0, est=3.845161380816963, details={'was_impossible': False}),\n",
       " Prediction(uid=156, iid=641, r_ui=5.0, est=3.593725949478178, details={'was_impossible': False}),\n",
       " Prediction(uid=7, iid=139, r_ui=3.0, est=3.2814573962850706, details={'was_impossible': False}),\n",
       " Prediction(uid=164, iid=748, r_ui=5.0, est=4.05136981787196, details={'was_impossible': False}),\n",
       " Prediction(uid=626, iid=330, r_ui=3.0, est=2.502232709069413, details={'was_impossible': False}),\n",
       " Prediction(uid=265, iid=975, r_ui=4.0, est=3.3352607461198183, details={'was_impossible': False}),\n",
       " Prediction(uid=405, iid=450, r_ui=1.0, est=1.1056589627641573, details={'was_impossible': False}),\n",
       " Prediction(uid=894, iid=279, r_ui=4.0, est=3.5431698796643056, details={'was_impossible': False}),\n",
       " Prediction(uid=361, iid=203, r_ui=5.0, est=4.080058365184921, details={'was_impossible': False}),\n",
       " Prediction(uid=933, iid=52, r_ui=3.0, est=3.0273327864076065, details={'was_impossible': False}),\n",
       " Prediction(uid=323, iid=535, r_ui=3.0, est=3.362974176109984, details={'was_impossible': False}),\n",
       " Prediction(uid=210, iid=160, r_ui=4.0, est=3.948947836698523, details={'was_impossible': False}),\n",
       " Prediction(uid=416, iid=327, r_ui=4.0, est=3.7432801751791094, details={'was_impossible': False}),\n",
       " Prediction(uid=846, iid=1029, r_ui=1.0, est=2.6867898703534268, details={'was_impossible': False}),\n",
       " Prediction(uid=775, iid=245, r_ui=3.0, est=3.4724814691865733, details={'was_impossible': False}),\n",
       " Prediction(uid=457, iid=155, r_ui=4.0, est=3.235512400551198, details={'was_impossible': False}),\n",
       " Prediction(uid=661, iid=69, r_ui=4.0, est=4.277968832763407, details={'was_impossible': False}),\n",
       " Prediction(uid=678, iid=1115, r_ui=3.0, est=3.241363033582426, details={'was_impossible': False}),\n",
       " Prediction(uid=712, iid=378, r_ui=4.0, est=3.606658038344168, details={'was_impossible': False}),\n",
       " Prediction(uid=605, iid=269, r_ui=4.0, est=4.266528243992948, details={'was_impossible': False}),\n",
       " Prediction(uid=276, iid=669, r_ui=1.0, est=2.4227568763687013, details={'was_impossible': False}),\n",
       " Prediction(uid=684, iid=692, r_ui=4.0, est=3.707584274008118, details={'was_impossible': False}),\n",
       " Prediction(uid=409, iid=485, r_ui=2.0, est=3.6127055641758723, details={'was_impossible': False}),\n",
       " Prediction(uid=13, iid=789, r_ui=5.0, est=2.960337006831869, details={'was_impossible': False}),\n",
       " Prediction(uid=90, iid=97, r_ui=5.0, est=4.181364930228907, details={'was_impossible': False}),\n",
       " Prediction(uid=288, iid=173, r_ui=3.0, est=3.8636459395753215, details={'was_impossible': False}),\n",
       " Prediction(uid=763, iid=280, r_ui=2.0, est=2.9868663197403444, details={'was_impossible': False}),\n",
       " Prediction(uid=542, iid=479, r_ui=4.0, est=4.020819889472388, details={'was_impossible': False}),\n",
       " Prediction(uid=95, iid=174, r_ui=5.0, est=4.858881758793481, details={'was_impossible': False}),\n",
       " Prediction(uid=804, iid=748, r_ui=4.0, est=3.5707345056981845, details={'was_impossible': False}),\n",
       " Prediction(uid=892, iid=184, r_ui=4.0, est=3.565646388727563, details={'was_impossible': False}),\n",
       " Prediction(uid=416, iid=70, r_ui=5.0, est=4.132227410671231, details={'was_impossible': False}),\n",
       " Prediction(uid=307, iid=71, r_ui=5.0, est=3.7310834472179644, details={'was_impossible': False}),\n",
       " Prediction(uid=908, iid=151, r_ui=3.0, est=3.3962098964292857, details={'was_impossible': False}),\n",
       " Prediction(uid=201, iid=1174, r_ui=5.0, est=2.8336290132319846, details={'was_impossible': False}),\n",
       " Prediction(uid=144, iid=297, r_ui=4.0, est=4.094400734978613, details={'was_impossible': False}),\n",
       " Prediction(uid=491, iid=657, r_ui=5.0, est=4.147334789144119, details={'was_impossible': False}),\n",
       " Prediction(uid=429, iid=273, r_ui=4.0, est=3.52544335821104, details={'was_impossible': False}),\n",
       " Prediction(uid=537, iid=640, r_ui=3.0, est=2.730303275317592, details={'was_impossible': False}),\n",
       " Prediction(uid=405, iid=397, r_ui=4.0, est=1.4183851580760225, details={'was_impossible': False}),\n",
       " Prediction(uid=49, iid=1080, r_ui=4.0, est=3.1201406646546355, details={'was_impossible': False}),\n",
       " Prediction(uid=14, iid=98, r_ui=3.0, est=4.177603119140893, details={'was_impossible': False}),\n",
       " Prediction(uid=551, iid=685, r_ui=1.0, est=3.5605234183975387, details={'was_impossible': False}),\n",
       " Prediction(uid=780, iid=187, r_ui=5.0, est=4.099460607156679, details={'was_impossible': False}),\n",
       " Prediction(uid=42, iid=283, r_ui=3.0, est=3.9188339010711726, details={'was_impossible': False}),\n",
       " Prediction(uid=374, iid=288, r_ui=4.0, est=3.3241379920283034, details={'was_impossible': False}),\n",
       " Prediction(uid=380, iid=414, r_ui=2.0, est=3.081337333523005, details={'was_impossible': False}),\n",
       " Prediction(uid=234, iid=724, r_ui=4.0, est=2.9182867749970463, details={'was_impossible': False}),\n",
       " Prediction(uid=544, iid=325, r_ui=1.0, est=2.1006738617326075, details={'was_impossible': False}),\n",
       " Prediction(uid=782, iid=358, r_ui=4.0, est=2.2002349877143916, details={'was_impossible': False}),\n",
       " Prediction(uid=537, iid=284, r_ui=3.0, est=2.4956751719892316, details={'was_impossible': False}),\n",
       " Prediction(uid=654, iid=462, r_ui=4.0, est=3.7974128006798757, details={'was_impossible': False}),\n",
       " Prediction(uid=828, iid=275, r_ui=3.0, est=2.9942089177721813, details={'was_impossible': False}),\n",
       " Prediction(uid=545, iid=79, r_ui=4.0, est=4.4102515029389115, details={'was_impossible': False}),\n",
       " Prediction(uid=913, iid=202, r_ui=4.0, est=3.5384446696976846, details={'was_impossible': False}),\n",
       " Prediction(uid=497, iid=216, r_ui=3.0, est=3.1553725568584343, details={'was_impossible': False}),\n",
       " Prediction(uid=586, iid=672, r_ui=2.0, est=2.7704623169993052, details={'was_impossible': False}),\n",
       " Prediction(uid=393, iid=577, r_ui=4.0, est=2.5067040310610498, details={'was_impossible': False}),\n",
       " Prediction(uid=409, iid=526, r_ui=3.0, est=3.6271678803543264, details={'was_impossible': False}),\n",
       " Prediction(uid=450, iid=98, r_ui=4.0, est=4.56084249382066, details={'was_impossible': False}),\n",
       " Prediction(uid=804, iid=1079, r_ui=4.0, est=2.6783890356301607, details={'was_impossible': False}),\n",
       " Prediction(uid=445, iid=56, r_ui=5.0, est=2.331508533257116, details={'was_impossible': False}),\n",
       " Prediction(uid=439, iid=1600, r_ui=5.0, est=3.588394655277348, details={'was_impossible': False}),\n",
       " Prediction(uid=890, iid=404, r_ui=4.0, est=3.761767999593323, details={'was_impossible': False}),\n",
       " Prediction(uid=487, iid=727, r_ui=3.0, est=3.5794709332031123, details={'was_impossible': False}),\n",
       " Prediction(uid=357, iid=685, r_ui=3.0, est=4.218169971255416, details={'was_impossible': False}),\n",
       " Prediction(uid=71, iid=50, r_ui=3.0, est=4.203906127169912, details={'was_impossible': False}),\n",
       " Prediction(uid=378, iid=274, r_ui=3.0, est=3.2730579073103474, details={'was_impossible': False}),\n",
       " Prediction(uid=874, iid=748, r_ui=3.0, est=3.143896890157731, details={'was_impossible': False}),\n",
       " Prediction(uid=338, iid=294, r_ui=1.0, est=3.2915801264113598, details={'was_impossible': False}),\n",
       " Prediction(uid=498, iid=410, r_ui=3.0, est=2.521448815949276, details={'was_impossible': False}),\n",
       " Prediction(uid=890, iid=142, r_ui=3.0, est=3.3859878615216656, details={'was_impossible': False}),\n",
       " Prediction(uid=551, iid=100, r_ui=4.0, est=4.599365978444679, details={'was_impossible': False}),\n",
       " Prediction(uid=201, iid=751, r_ui=3.0, est=3.4554513133721927, details={'was_impossible': False}),\n",
       " Prediction(uid=455, iid=1136, r_ui=3.0, est=3.3436212101936786, details={'was_impossible': False}),\n",
       " Prediction(uid=109, iid=55, r_ui=2.0, est=3.748696299719695, details={'was_impossible': False}),\n",
       " Prediction(uid=916, iid=121, r_ui=3.0, est=2.4298155179915564, details={'was_impossible': False}),\n",
       " Prediction(uid=334, iid=675, r_ui=4.0, est=3.426639945746343, details={'was_impossible': False}),\n",
       " Prediction(uid=314, iid=433, r_ui=3.0, est=3.8954163198214147, details={'was_impossible': False}),\n",
       " Prediction(uid=779, iid=471, r_ui=4.0, est=4.280549107787918, details={'was_impossible': False}),\n",
       " Prediction(uid=352, iid=39, r_ui=5.0, est=2.747957810814124, details={'was_impossible': False}),\n",
       " Prediction(uid=532, iid=865, r_ui=2.0, est=4.15626215841272, details={'was_impossible': False}),\n",
       " Prediction(uid=859, iid=1048, r_ui=3.0, est=3.5400873760502938, details={'was_impossible': False}),\n",
       " Prediction(uid=81, iid=432, r_ui=2.0, est=3.53057738812873, details={'was_impossible': False}),\n",
       " Prediction(uid=217, iid=578, r_ui=5.0, est=2.7463651996926854, details={'was_impossible': False}),\n",
       " Prediction(uid=320, iid=976, r_ui=2.0, est=3.1125751698041033, details={'was_impossible': False}),\n",
       " Prediction(uid=425, iid=550, r_ui=4.0, est=2.3608845763260513, details={'was_impossible': False}),\n",
       " Prediction(uid=216, iid=28, r_ui=4.0, est=4.279777953952478, details={'was_impossible': False}),\n",
       " Prediction(uid=709, iid=27, r_ui=3.0, est=3.213149023115497, details={'was_impossible': False}),\n",
       " Prediction(uid=213, iid=213, r_ui=5.0, est=4.480561880416174, details={'was_impossible': False}),\n",
       " Prediction(uid=497, iid=1046, r_ui=3.0, est=2.9849120910428293, details={'was_impossible': False}),\n",
       " Prediction(uid=584, iid=258, r_ui=4.0, est=4.018814070802362, details={'was_impossible': False}),\n",
       " Prediction(uid=505, iid=203, r_ui=4.0, est=3.5626645687889003, details={'was_impossible': False}),\n",
       " Prediction(uid=727, iid=1035, r_ui=2.0, est=3.0878055190690175, details={'was_impossible': False}),\n",
       " Prediction(uid=379, iid=257, r_ui=4.0, est=4.129530833104113, details={'was_impossible': False}),\n",
       " Prediction(uid=190, iid=826, r_ui=3.0, est=2.4055164347578724, details={'was_impossible': False}),\n",
       " Prediction(uid=409, iid=435, r_ui=3.0, est=3.763124609477957, details={'was_impossible': False}),\n",
       " Prediction(uid=82, iid=111, r_ui=4.0, est=3.140719172153296, details={'was_impossible': False}),\n",
       " Prediction(uid=548, iid=283, r_ui=3.0, est=4.090911935922326, details={'was_impossible': False}),\n",
       " Prediction(uid=525, iid=100, r_ui=4.0, est=4.286624106216252, details={'was_impossible': False}),\n",
       " Prediction(uid=889, iid=232, r_ui=3.0, est=3.2027416881260127, details={'was_impossible': False}),\n",
       " Prediction(uid=109, iid=157, r_ui=4.0, est=3.7166631307223073, details={'was_impossible': False}),\n",
       " Prediction(uid=408, iid=310, r_ui=4.0, est=3.613098496151985, details={'was_impossible': False}),\n",
       " Prediction(uid=780, iid=510, r_ui=4.0, est=3.588024957605618, details={'was_impossible': False}),\n",
       " Prediction(uid=460, iid=591, r_ui=2.0, est=3.254833111774345, details={'was_impossible': False}),\n",
       " Prediction(uid=614, iid=235, r_ui=5.0, est=2.5193474136571807, details={'was_impossible': False}),\n",
       " Prediction(uid=768, iid=151, r_ui=2.0, est=2.9082802860102652, details={'was_impossible': False}),\n",
       " Prediction(uid=622, iid=396, r_ui=1.0, est=2.7887534362151865, details={'was_impossible': False}),\n",
       " Prediction(uid=678, iid=100, r_ui=5.0, est=3.599099478235835, details={'was_impossible': False}),\n",
       " Prediction(uid=327, iid=82, r_ui=2.0, est=2.8297196906954123, details={'was_impossible': False}),\n",
       " Prediction(uid=932, iid=576, r_ui=2.0, est=3.0442825387998425, details={'was_impossible': False}),\n",
       " Prediction(uid=414, iid=886, r_ui=4.0, est=3.3064419454264162, details={'was_impossible': False}),\n",
       " Prediction(uid=506, iid=402, r_ui=4.0, est=3.826933820058758, details={'was_impossible': False}),\n",
       " Prediction(uid=497, iid=449, r_ui=2.0, est=2.8940567821033127, details={'was_impossible': False}),\n",
       " Prediction(uid=763, iid=197, r_ui=4.0, est=4.4844447347010075, details={'was_impossible': False}),\n",
       " Prediction(uid=882, iid=173, r_ui=5.0, est=4.531898670707184, details={'was_impossible': False}),\n",
       " Prediction(uid=82, iid=230, r_ui=2.0, est=3.1347188485221245, details={'was_impossible': False}),\n",
       " Prediction(uid=658, iid=8, r_ui=5.0, est=3.9422639243535373, details={'was_impossible': False}),\n",
       " Prediction(uid=451, iid=881, r_ui=4.0, est=2.3781775675416315, details={'was_impossible': False}),\n",
       " Prediction(uid=766, iid=1126, r_ui=4.0, est=3.1399516173873527, details={'was_impossible': False}),\n",
       " Prediction(uid=303, iid=948, r_ui=2.0, est=2.1552686143073423, details={'was_impossible': False}),\n",
       " Prediction(uid=900, iid=136, r_ui=2.0, est=2.906845462897442, details={'was_impossible': False}),\n",
       " Prediction(uid=655, iid=887, r_ui=3.0, est=3.033839731327576, details={'was_impossible': False}),\n",
       " Prediction(uid=321, iid=462, r_ui=4.0, est=3.8295261712390154, details={'was_impossible': False}),\n",
       " Prediction(uid=452, iid=163, r_ui=4.0, est=3.2001543108199564, details={'was_impossible': False}),\n",
       " Prediction(uid=458, iid=234, r_ui=4.0, est=3.461570245665699, details={'was_impossible': False}),\n",
       " Prediction(uid=498, iid=919, r_ui=4.0, est=3.301038865454159, details={'was_impossible': False}),\n",
       " Prediction(uid=100, iid=326, r_ui=3.0, est=3.112320511019543, details={'was_impossible': False}),\n",
       " Prediction(uid=60, iid=208, r_ui=5.0, est=4.331981729206731, details={'was_impossible': False}),\n",
       " Prediction(uid=880, iid=282, r_ui=2.0, est=3.1082047421094194, details={'was_impossible': False}),\n",
       " Prediction(uid=3, iid=348, r_ui=4.0, est=2.5567357192272397, details={'was_impossible': False}),\n",
       " Prediction(uid=409, iid=206, r_ui=4.0, est=3.3534722610894736, details={'was_impossible': False}),\n",
       " Prediction(uid=425, iid=294, r_ui=2.0, est=2.635687197282232, details={'was_impossible': False}),\n",
       " Prediction(uid=643, iid=969, r_ui=4.0, est=3.883815588935751, details={'was_impossible': False}),\n",
       " Prediction(uid=747, iid=949, r_ui=5.0, est=3.418015207125111, details={'was_impossible': False}),\n",
       " Prediction(uid=903, iid=421, r_ui=3.0, est=3.5648728350615504, details={'was_impossible': False}),\n",
       " Prediction(uid=71, iid=175, r_ui=4.0, est=3.8731456610795214, details={'was_impossible': False}),\n",
       " Prediction(uid=301, iid=173, r_ui=4.0, est=4.356583690387508, details={'was_impossible': False}),\n",
       " Prediction(uid=416, iid=330, r_ui=3.0, est=3.6289894518276333, details={'was_impossible': False}),\n",
       " Prediction(uid=379, iid=89, r_ui=4.0, est=4.31549046060304, details={'was_impossible': False}),\n",
       " Prediction(uid=234, iid=1459, r_ui=3.0, est=2.8120701579977787, details={'was_impossible': False}),\n",
       " Prediction(uid=840, iid=428, r_ui=4.0, est=4.0968494266094435, details={'was_impossible': False}),\n",
       " Prediction(uid=456, iid=202, r_ui=3.0, est=3.6500496999958285, details={'was_impossible': False}),\n",
       " Prediction(uid=470, iid=294, r_ui=3.0, est=3.258237139185053, details={'was_impossible': False}),\n",
       " Prediction(uid=572, iid=1137, r_ui=3.0, est=3.984216380210234, details={'was_impossible': False}),\n",
       " Prediction(uid=896, iid=655, r_ui=4.0, est=3.2038484176197555, details={'was_impossible': False}),\n",
       " Prediction(uid=703, iid=118, r_ui=5.0, est=3.03980066033802, details={'was_impossible': False}),\n",
       " Prediction(uid=10, iid=664, r_ui=4.0, est=3.8664848865866124, details={'was_impossible': False}),\n",
       " Prediction(uid=52, iid=22, r_ui=5.0, est=4.435313933053037, details={'was_impossible': False}),\n",
       " Prediction(uid=878, iid=265, r_ui=3.0, est=3.3436732623500047, details={'was_impossible': False}),\n",
       " Prediction(uid=383, iid=180, r_ui=5.0, est=4.607474977672427, details={'was_impossible': False}),\n",
       " Prediction(uid=286, iid=379, r_ui=5.0, est=3.3091085365137687, details={'was_impossible': False}),\n",
       " Prediction(uid=121, iid=86, r_ui=5.0, est=3.9568206283793264, details={'was_impossible': False}),\n",
       " Prediction(uid=80, iid=237, r_ui=4.0, est=3.880918426497627, details={'was_impossible': False}),\n",
       " Prediction(uid=454, iid=498, r_ui=3.0, est=3.20313605076893, details={'was_impossible': False}),\n",
       " Prediction(uid=738, iid=209, r_ui=4.0, est=3.8080090051500175, details={'was_impossible': False}),\n",
       " Prediction(uid=705, iid=227, r_ui=4.0, est=2.7841037051651663, details={'was_impossible': False}),\n",
       " Prediction(uid=474, iid=1028, r_ui=1.0, est=3.3757880888364165, details={'was_impossible': False}),\n",
       " Prediction(uid=711, iid=272, r_ui=5.0, est=4.842898391029316, details={'was_impossible': False}),\n",
       " Prediction(uid=617, iid=1019, r_ui=4.0, est=2.9504063933104847, details={'was_impossible': False}),\n",
       " Prediction(uid=424, iid=172, r_ui=3.0, est=4.407137709113942, details={'was_impossible': False}),\n",
       " Prediction(uid=892, iid=478, r_ui=5.0, est=4.308353020618816, details={'was_impossible': False}),\n",
       " Prediction(uid=429, iid=157, r_ui=4.0, est=3.422323505611429, details={'was_impossible': False}),\n",
       " Prediction(uid=49, iid=179, r_ui=5.0, est=4.241619583520831, details={'was_impossible': False}),\n",
       " Prediction(uid=773, iid=72, r_ui=3.0, est=2.7597104095101748, details={'was_impossible': False}),\n",
       " Prediction(uid=933, iid=410, r_ui=3.0, est=2.225587558911836, details={'was_impossible': False}),\n",
       " Prediction(uid=267, iid=693, r_ui=4.0, est=4.26156083463992, details={'was_impossible': False}),\n",
       " Prediction(uid=312, iid=659, r_ui=5.0, est=4.482952828012019, details={'was_impossible': False}),\n",
       " Prediction(uid=870, iid=328, r_ui=3.0, est=3.283518634384138, details={'was_impossible': False}),\n",
       " Prediction(uid=891, iid=546, r_ui=3.0, est=3.7598480268026915, details={'was_impossible': False}),\n",
       " Prediction(uid=844, iid=418, r_ui=3.0, est=3.3784954431042644, details={'was_impossible': False}),\n",
       " Prediction(uid=97, iid=655, r_ui=5.0, est=3.977691698918735, details={'was_impossible': False}),\n",
       " Prediction(uid=506, iid=855, r_ui=4.0, est=3.8778858296711904, details={'was_impossible': False}),\n",
       " Prediction(uid=313, iid=735, r_ui=3.0, est=3.631359003628486, details={'was_impossible': False}),\n",
       " Prediction(uid=665, iid=405, r_ui=3.0, est=3.3689537877062583, details={'was_impossible': False}),\n",
       " Prediction(uid=535, iid=213, r_ui=5.0, est=4.193651606439081, details={'was_impossible': False}),\n",
       " Prediction(uid=456, iid=56, r_ui=5.0, est=4.081727614542683, details={'was_impossible': False}),\n",
       " Prediction(uid=753, iid=23, r_ui=2.0, est=3.328577074565511, details={'was_impossible': False}),\n",
       " Prediction(uid=94, iid=435, r_ui=4.0, est=4.50902437614143, details={'was_impossible': False}),\n",
       " Prediction(uid=653, iid=403, r_ui=2.0, est=2.9060764102039207, details={'was_impossible': False}),\n",
       " Prediction(uid=13, iid=526, r_ui=3.0, est=3.6469334731703156, details={'was_impossible': False}),\n",
       " Prediction(uid=500, iid=328, r_ui=3.0, est=3.478763725998425, details={'was_impossible': False}),\n",
       " Prediction(uid=407, iid=400, r_ui=1.0, est=3.0342537055510745, details={'was_impossible': False}),\n",
       " Prediction(uid=451, iid=683, r_ui=1.0, est=1.8859962880321364, details={'was_impossible': False}),\n",
       " Prediction(uid=200, iid=228, r_ui=5.0, est=4.533192263157622, details={'was_impossible': False}),\n",
       " Prediction(uid=52, iid=107, r_ui=4.0, est=3.9675408409815462, details={'was_impossible': False}),\n",
       " Prediction(uid=682, iid=476, r_ui=1.0, est=2.9764792150969654, details={'was_impossible': False}),\n",
       " Prediction(uid=87, iid=229, r_ui=4.0, est=3.6595284986978225, details={'was_impossible': False}),\n",
       " Prediction(uid=916, iid=147, r_ui=1.0, est=2.746644074149807, details={'was_impossible': False}),\n",
       " Prediction(uid=234, iid=170, r_ui=5.0, est=3.6277921136397513, details={'was_impossible': False}),\n",
       " Prediction(uid=268, iid=562, r_ui=4.0, est=2.6801404222474705, details={'was_impossible': False}),\n",
       " Prediction(uid=682, iid=716, r_ui=2.0, est=3.0662581150744948, details={'was_impossible': False}),\n",
       " Prediction(uid=126, iid=300, r_ui=4.0, est=4.111669617421946, details={'was_impossible': False}),\n",
       " Prediction(uid=14, iid=14, r_ui=3.0, est=4.233232342344786, details={'was_impossible': False}),\n",
       " Prediction(uid=749, iid=663, r_ui=4.0, est=3.6995083323666376, details={'was_impossible': False}),\n",
       " Prediction(uid=493, iid=59, r_ui=5.0, est=3.983131396069631, details={'was_impossible': False}),\n",
       " Prediction(uid=181, iid=121, r_ui=4.0, est=2.382755393585246, details={'was_impossible': False}),\n",
       " Prediction(uid=83, iid=240, r_ui=1.0, est=2.832873528281825, details={'was_impossible': False}),\n",
       " Prediction(uid=253, iid=15, r_ui=4.0, est=4.106065094504949, details={'was_impossible': False}),\n",
       " Prediction(uid=284, iid=333, r_ui=3.0, est=3.8440462883096, details={'was_impossible': False}),\n",
       " Prediction(uid=429, iid=274, r_ui=3.0, est=3.345167716768288, details={'was_impossible': False}),\n",
       " Prediction(uid=392, iid=285, r_ui=3.0, est=4.466525993542284, details={'was_impossible': False}),\n",
       " Prediction(uid=435, iid=249, r_ui=4.0, est=3.184287165162524, details={'was_impossible': False}),\n",
       " Prediction(uid=59, iid=524, r_ui=3.0, est=4.360250273198942, details={'was_impossible': False}),\n",
       " Prediction(uid=456, iid=402, r_ui=2.0, est=3.1881078284836173, details={'was_impossible': False}),\n",
       " Prediction(uid=181, iid=846, r_ui=3.0, est=1.261136566693966, details={'was_impossible': False}),\n",
       " Prediction(uid=897, iid=1531, r_ui=4.0, est=3.498472643001544, details={'was_impossible': False}),\n",
       " Prediction(uid=373, iid=269, r_ui=5.0, est=3.7831096542035865, details={'was_impossible': False}),\n",
       " Prediction(uid=399, iid=1, r_ui=4.0, est=3.2503471619711495, details={'was_impossible': False}),\n",
       " Prediction(uid=870, iid=566, r_ui=2.0, est=3.5363217291195297, details={'was_impossible': False}),\n",
       " Prediction(uid=292, iid=285, r_ui=4.0, est=4.618069704221693, details={'was_impossible': False}),\n",
       " Prediction(uid=538, iid=289, r_ui=1.0, est=2.7913869771434223, details={'was_impossible': False}),\n",
       " Prediction(uid=842, iid=349, r_ui=3.0, est=2.9896754515697643, details={'was_impossible': False}),\n",
       " Prediction(uid=889, iid=55, r_ui=4.0, est=3.6261700998342827, details={'was_impossible': False}),\n",
       " Prediction(uid=436, iid=327, r_ui=5.0, est=3.575668349588837, details={'was_impossible': False}),\n",
       " Prediction(uid=537, iid=349, r_ui=1.0, est=1.9221748898155329, details={'was_impossible': False}),\n",
       " Prediction(uid=718, iid=744, r_ui=3.0, est=3.9674984202709824, details={'was_impossible': False}),\n",
       " Prediction(uid=639, iid=311, r_ui=3.0, est=3.2472147048643305, details={'was_impossible': False}),\n",
       " Prediction(uid=922, iid=250, r_ui=2.0, est=3.312199523324668, details={'was_impossible': False}),\n",
       " Prediction(uid=655, iid=516, r_ui=2.0, est=3.427621162852931, details={'was_impossible': False}),\n",
       " Prediction(uid=805, iid=88, r_ui=2.0, est=2.8545496476585983, details={'was_impossible': False}),\n",
       " Prediction(uid=507, iid=405, r_ui=5.0, est=4.604611622852078, details={'was_impossible': False}),\n",
       " Prediction(uid=162, iid=237, r_ui=4.0, est=3.621595672543211, details={'was_impossible': False}),\n",
       " Prediction(uid=111, iid=887, r_ui=3.0, est=3.7849204908999394, details={'was_impossible': False}),\n",
       " Prediction(uid=308, iid=1006, r_ui=4.0, est=3.52351381362104, details={'was_impossible': False}),\n",
       " Prediction(uid=25, iid=183, r_ui=4.0, est=4.226409751806914, details={'was_impossible': False}),\n",
       " Prediction(uid=11, iid=745, r_ui=5.0, est=3.4497057117406915, details={'was_impossible': False}),\n",
       " Prediction(uid=280, iid=393, r_ui=4.0, est=3.484736978566623, details={'was_impossible': False}),\n",
       " Prediction(uid=263, iid=482, r_ui=4.0, est=4.12663298707086, details={'was_impossible': False}),\n",
       " Prediction(uid=378, iid=21, r_ui=3.0, est=2.669420851263073, details={'was_impossible': False}),\n",
       " Prediction(uid=88, iid=308, r_ui=4.0, est=3.790969614059739, details={'was_impossible': False}),\n",
       " Prediction(uid=450, iid=131, r_ui=4.0, est=4.377975588989507, details={'was_impossible': False}),\n",
       " Prediction(uid=782, iid=992, r_ui=2.0, est=3.2187168324133317, details={'was_impossible': False}),\n",
       " Prediction(uid=200, iid=1219, r_ui=3.0, est=3.5445967756402905, details={'was_impossible': False}),\n",
       " Prediction(uid=933, iid=179, r_ui=5.0, est=2.9820288057780044, details={'was_impossible': False}),\n",
       " Prediction(uid=159, iid=291, r_ui=4.0, est=3.9147517338533064, details={'was_impossible': False}),\n",
       " Prediction(uid=643, iid=780, r_ui=4.0, est=3.0259908560450324, details={'was_impossible': False}),\n",
       " Prediction(uid=889, iid=483, r_ui=4.0, est=4.4626189738318685, details={'was_impossible': False}),\n",
       " Prediction(uid=606, iid=1016, r_ui=3.0, est=3.6592330450815087, details={'was_impossible': False}),\n",
       " Prediction(uid=452, iid=202, r_ui=3.0, est=3.3595287859056615, details={'was_impossible': False}),\n",
       " Prediction(uid=317, iid=260, r_ui=4.0, est=2.7436132425065747, details={'was_impossible': False}),\n",
       " Prediction(uid=416, iid=754, r_ui=5.0, est=3.992547391669382, details={'was_impossible': False}),\n",
       " Prediction(uid=346, iid=121, r_ui=4.0, est=3.7107404119003604, details={'was_impossible': False}),\n",
       " Prediction(uid=276, iid=225, r_ui=3.0, est=2.7053284318306177, details={'was_impossible': False}),\n",
       " Prediction(uid=893, iid=288, r_ui=3.0, est=3.7805014122306453, details={'was_impossible': False}),\n",
       " Prediction(uid=343, iid=930, r_ui=1.0, est=2.8355648542207526, details={'was_impossible': False}),\n",
       " Prediction(uid=504, iid=162, r_ui=4.0, est=3.957222284727033, details={'was_impossible': False}),\n",
       " Prediction(uid=508, iid=200, r_ui=4.0, est=3.914442746863922, details={'was_impossible': False}),\n",
       " Prediction(uid=314, iid=763, r_ui=5.0, est=3.4242094808898025, details={'was_impossible': False}),\n",
       " Prediction(uid=393, iid=655, r_ui=3.0, est=3.8577157920875385, details={'was_impossible': False}),\n",
       " Prediction(uid=839, iid=321, r_ui=1.0, est=3.075628768717397, details={'was_impossible': False}),\n",
       " Prediction(uid=392, iid=328, r_ui=3.0, est=3.930016377442831, details={'was_impossible': False}),\n",
       " Prediction(uid=16, iid=423, r_ui=5.0, est=4.623634534058736, details={'was_impossible': False}),\n",
       " Prediction(uid=720, iid=887, r_ui=5.0, est=3.799332727828795, details={'was_impossible': False}),\n",
       " Prediction(uid=344, iid=1, r_ui=3.0, est=3.6644249562817515, details={'was_impossible': False}),\n",
       " Prediction(uid=275, iid=132, r_ui=3.0, est=3.729607394351065, details={'was_impossible': False}),\n",
       " Prediction(uid=152, iid=504, r_ui=4.0, est=4.584254621158957, details={'was_impossible': False}),\n",
       " Prediction(uid=314, iid=724, r_ui=2.0, est=3.8292485229747104, details={'was_impossible': False}),\n",
       " Prediction(uid=206, iid=1313, r_ui=1.0, est=2.2292565607809123, details={'was_impossible': False}),\n",
       " Prediction(uid=848, iid=185, r_ui=3.0, est=4.372098271394779, details={'was_impossible': False}),\n",
       " Prediction(uid=478, iid=79, r_ui=4.0, est=3.9305018254521764, details={'was_impossible': False}),\n",
       " Prediction(uid=798, iid=1544, r_ui=3.0, est=3.432699210274466, details={'was_impossible': False}),\n",
       " Prediction(uid=115, iid=1008, r_ui=5.0, est=3.9675499928005076, details={'was_impossible': False}),\n",
       " Prediction(uid=592, iid=151, r_ui=4.0, est=4.448729507310842, details={'was_impossible': False}),\n",
       " Prediction(uid=150, iid=278, r_ui=2.0, est=3.726389420284397, details={'was_impossible': False}),\n",
       " Prediction(uid=469, iid=161, r_ui=3.0, est=4.032213111115407, details={'was_impossible': False}),\n",
       " Prediction(uid=385, iid=940, r_ui=3.0, est=2.1927541682043024, details={'was_impossible': False}),\n",
       " Prediction(uid=463, iid=244, r_ui=4.0, est=2.855596620118904, details={'was_impossible': False}),\n",
       " Prediction(uid=889, iid=684, r_ui=2.0, est=3.4584873807025565, details={'was_impossible': False}),\n",
       " Prediction(uid=913, iid=919, r_ui=4.0, est=3.4491060914094263, details={'was_impossible': False}),\n",
       " Prediction(uid=611, iid=313, r_ui=3.0, est=4.8955744735269295, details={'was_impossible': False}),\n",
       " Prediction(uid=437, iid=955, r_ui=4.0, est=3.6739051157401263, details={'was_impossible': False}),\n",
       " Prediction(uid=648, iid=809, r_ui=3.0, est=2.893709448279858, details={'was_impossible': False}),\n",
       " Prediction(uid=516, iid=191, r_ui=4.0, est=4.67269130744715, details={'was_impossible': False}),\n",
       " Prediction(uid=580, iid=50, r_ui=5.0, est=4.71638778803818, details={'was_impossible': False}),\n",
       " Prediction(uid=537, iid=457, r_ui=1.0, est=1.731205464298909, details={'was_impossible': False}),\n",
       " Prediction(uid=298, iid=546, r_ui=3.0, est=3.51125732233897, details={'was_impossible': False}),\n",
       " Prediction(uid=867, iid=96, r_ui=5.0, est=4.184718203838781, details={'was_impossible': False}),\n",
       " Prediction(uid=301, iid=288, r_ui=4.0, est=3.6935419426862857, details={'was_impossible': False}),\n",
       " Prediction(uid=405, iid=1588, r_ui=1.0, est=1.616614737217629, details={'was_impossible': False}),\n",
       " Prediction(uid=665, iid=307, r_ui=3.0, est=3.4406860623388162, details={'was_impossible': False}),\n",
       " Prediction(uid=744, iid=237, r_ui=4.0, est=3.547366129445283, details={'was_impossible': False}),\n",
       " Prediction(uid=655, iid=869, r_ui=2.0, est=2.4217101636273233, details={'was_impossible': False}),\n",
       " Prediction(uid=916, iid=85, r_ui=2.0, est=2.730453080732309, details={'was_impossible': False}),\n",
       " Prediction(uid=619, iid=327, r_ui=3.0, est=3.529075355866048, details={'was_impossible': False}),\n",
       " Prediction(uid=334, iid=577, r_ui=2.0, est=2.6143119582764993, details={'was_impossible': False}),\n",
       " Prediction(uid=932, iid=566, r_ui=4.0, est=3.5810908664127328, details={'was_impossible': False}),\n",
       " Prediction(uid=144, iid=454, r_ui=3.0, est=3.343538961724143, details={'was_impossible': False}),\n",
       " Prediction(uid=144, iid=461, r_ui=4.0, est=3.6865294356185703, details={'was_impossible': False}),\n",
       " Prediction(uid=815, iid=403, r_ui=4.0, est=3.604926234536988, details={'was_impossible': False}),\n",
       " Prediction(uid=109, iid=944, r_ui=3.0, est=3.1457139894540393, details={'was_impossible': False}),\n",
       " Prediction(uid=11, iid=721, r_ui=3.0, est=3.1108367941388613, details={'was_impossible': False}),\n",
       " Prediction(uid=815, iid=639, r_ui=2.0, est=3.638417909976161, details={'was_impossible': False}),\n",
       " Prediction(uid=13, iid=158, r_ui=1.0, est=2.2944746657258834, details={'was_impossible': False}),\n",
       " Prediction(uid=87, iid=1189, r_ui=5.0, est=4.016741884505417, details={'was_impossible': False}),\n",
       " Prediction(uid=381, iid=94, r_ui=3.0, est=3.1938789514371533, details={'was_impossible': False}),\n",
       " Prediction(uid=429, iid=419, r_ui=4.0, est=3.560873559962548, details={'was_impossible': False}),\n",
       " Prediction(uid=286, iid=208, r_ui=4.0, est=4.179521683811031, details={'was_impossible': False}),\n",
       " Prediction(uid=346, iid=7, r_ui=2.0, est=3.4037513211432993, details={'was_impossible': False}),\n",
       " Prediction(uid=898, iid=309, r_ui=5.0, est=2.977839672947031, details={'was_impossible': False}),\n",
       " Prediction(uid=360, iid=193, r_ui=5.0, est=3.8488437018409996, details={'was_impossible': False}),\n",
       " Prediction(uid=922, iid=252, r_ui=2.0, est=2.57280587689902, details={'was_impossible': False}),\n",
       " Prediction(uid=286, iid=278, r_ui=5.0, est=3.7554656744140953, details={'was_impossible': False}),\n",
       " Prediction(uid=935, iid=118, r_ui=4.0, est=3.986188968665514, details={'was_impossible': False}),\n",
       " Prediction(uid=64, iid=258, r_ui=3.0, est=3.5387641313006286, details={'was_impossible': False}),\n",
       " Prediction(uid=174, iid=623, r_ui=3.0, est=2.935942781748629, details={'was_impossible': False}),\n",
       " Prediction(uid=524, iid=615, r_ui=2.0, est=3.79324973479294, details={'was_impossible': False}),\n",
       " Prediction(uid=181, iid=864, r_ui=2.0, est=1.4238552512196303, details={'was_impossible': False}),\n",
       " Prediction(uid=561, iid=496, r_ui=3.0, est=3.319764512960062, details={'was_impossible': False}),\n",
       " Prediction(uid=642, iid=1037, r_ui=2.0, est=3.3101303150896406, details={'was_impossible': False}),\n",
       " Prediction(uid=843, iid=211, r_ui=2.0, est=3.110843267146443, details={'was_impossible': False}),\n",
       " Prediction(uid=908, iid=192, r_ui=2.0, est=3.7961949871520435, details={'was_impossible': False}),\n",
       " Prediction(uid=778, iid=568, r_ui=3.0, est=2.887122083579001, details={'was_impossible': False}),\n",
       " Prediction(uid=627, iid=1194, r_ui=4.0, est=3.78896760748872, details={'was_impossible': False}),\n",
       " Prediction(uid=661, iid=313, r_ui=4.0, est=4.283697766207543, details={'was_impossible': False}),\n",
       " Prediction(uid=887, iid=69, r_ui=4.0, est=4.5499537537998505, details={'was_impossible': False}),\n",
       " Prediction(uid=666, iid=525, r_ui=4.0, est=4.244462450196152, details={'was_impossible': False}),\n",
       " Prediction(uid=457, iid=476, r_ui=2.0, est=3.4366661373302083, details={'was_impossible': False}),\n",
       " Prediction(uid=507, iid=1237, r_ui=5.0, est=4.655349603610507, details={'was_impossible': False}),\n",
       " Prediction(uid=484, iid=265, r_ui=5.0, est=4.286067351941929, details={'was_impossible': False}),\n",
       " Prediction(uid=447, iid=147, r_ui=4.0, est=3.775264789484094, details={'was_impossible': False}),\n",
       " Prediction(uid=201, iid=215, r_ui=2.0, est=2.8605987495940024, details={'was_impossible': False}),\n",
       " Prediction(uid=299, iid=97, r_ui=4.0, est=3.2076945213980075, details={'was_impossible': False}),\n",
       " Prediction(uid=95, iid=199, r_ui=5.0, est=3.9851811380279782, details={'was_impossible': False}),\n",
       " Prediction(uid=381, iid=485, r_ui=4.0, est=3.9169760769807076, details={'was_impossible': False}),\n",
       " Prediction(uid=653, iid=1188, r_ui=1.0, est=2.0796159910911745, details={'was_impossible': False}),\n",
       " Prediction(uid=919, iid=582, r_ui=5.0, est=3.7850811291358877, details={'was_impossible': False}),\n",
       " Prediction(uid=551, iid=509, r_ui=4.0, est=4.240534742298935, details={'was_impossible': False}),\n",
       " Prediction(uid=535, iid=269, r_ui=4.0, est=4.061637236040871, details={'was_impossible': False}),\n",
       " Prediction(uid=296, iid=289, r_ui=3.0, est=3.4406043593718385, details={'was_impossible': False}),\n",
       " Prediction(uid=888, iid=153, r_ui=4.0, est=4.124057735094251, details={'was_impossible': False}),\n",
       " Prediction(uid=425, iid=183, r_ui=3.0, est=3.5791088592768556, details={'was_impossible': False}),\n",
       " Prediction(uid=454, iid=270, r_ui=4.0, est=3.3875363386455457, details={'was_impossible': False}),\n",
       " Prediction(uid=405, iid=774, r_ui=1.0, est=1.441961598360861, details={'was_impossible': False}),\n",
       " Prediction(uid=500, iid=28, r_ui=3.0, est=3.818471787857522, details={'was_impossible': False}),\n",
       " Prediction(uid=405, iid=429, r_ui=5.0, est=2.619676518336899, details={'was_impossible': False}),\n",
       " Prediction(uid=112, iid=322, r_ui=4.0, est=3.4065956193394387, details={'was_impossible': False}),\n",
       " Prediction(uid=301, iid=12, r_ui=4.0, est=4.429534612387493, details={'was_impossible': False}),\n",
       " Prediction(uid=896, iid=765, r_ui=4.0, est=2.2401843696239574, details={'was_impossible': False}),\n",
       " Prediction(uid=181, iid=831, r_ui=1.0, est=1, details={'was_impossible': False}),\n",
       " Prediction(uid=421, iid=144, r_ui=5.0, est=3.8832934575832843, details={'was_impossible': False}),\n",
       " Prediction(uid=621, iid=7, r_ui=4.0, est=3.99910433812183, details={'was_impossible': False}),\n",
       " Prediction(uid=62, iid=111, r_ui=3.0, est=3.4053119677246313, details={'was_impossible': False}),\n",
       " Prediction(uid=144, iid=182, r_ui=3.0, est=3.9856437285037543, details={'was_impossible': False}),\n",
       " Prediction(uid=221, iid=470, r_ui=3.0, est=3.7879110253072517, details={'was_impossible': False}),\n",
       " Prediction(uid=64, iid=655, r_ui=4.0, est=3.6420097291076647, details={'was_impossible': False}),\n",
       " Prediction(uid=16, iid=161, r_ui=5.0, est=4.033618652326523, details={'was_impossible': False}),\n",
       " Prediction(uid=457, iid=559, r_ui=4.0, est=3.56090631837953, details={'was_impossible': False}),\n",
       " Prediction(uid=598, iid=269, r_ui=3.0, est=4.171565306851045, details={'was_impossible': False}),\n",
       " Prediction(uid=478, iid=318, r_ui=5.0, est=4.1388800179013945, details={'was_impossible': False}),\n",
       " Prediction(uid=886, iid=367, r_ui=4.0, est=3.4352226433584714, details={'was_impossible': False}),\n",
       " Prediction(uid=474, iid=313, r_ui=4.0, est=4.351702047681223, details={'was_impossible': False}),\n",
       " Prediction(uid=506, iid=470, r_ui=4.0, est=3.7390308181719014, details={'was_impossible': False}),\n",
       " Prediction(uid=385, iid=58, r_ui=4.0, est=3.6364697873673446, details={'was_impossible': False}),\n",
       " Prediction(uid=58, iid=200, r_ui=3.0, est=3.7521899436343853, details={'was_impossible': False}),\n",
       " Prediction(uid=271, iid=191, r_ui=5.0, est=4.147478432600362, details={'was_impossible': False}),\n",
       " Prediction(uid=486, iid=181, r_ui=4.0, est=3.6504471960010783, details={'was_impossible': False}),\n",
       " Prediction(uid=520, iid=990, r_ui=4.0, est=3.32993136900201, details={'was_impossible': False}),\n",
       " Prediction(uid=201, iid=160, r_ui=5.0, est=2.9322390478764038, details={'was_impossible': False}),\n",
       " Prediction(uid=566, iid=94, r_ui=2.0, est=2.367332816645905, details={'was_impossible': False}),\n",
       " Prediction(uid=59, iid=498, r_ui=5.0, est=4.349367200473364, details={'was_impossible': False}),\n",
       " Prediction(uid=401, iid=191, r_ui=4.0, est=3.177299761909889, details={'was_impossible': False}),\n",
       " Prediction(uid=904, iid=815, r_ui=4.0, est=3.3667502873628012, details={'was_impossible': False}),\n",
       " Prediction(uid=933, iid=62, r_ui=1.0, est=2.4796032312441887, details={'was_impossible': False}),\n",
       " Prediction(uid=529, iid=991, r_ui=1.0, est=3.0303239877005437, details={'was_impossible': False}),\n",
       " Prediction(uid=918, iid=488, r_ui=3.0, est=3.859464598650645, details={'was_impossible': False}),\n",
       " Prediction(uid=234, iid=451, r_ui=3.0, est=2.8594025811797295, details={'was_impossible': False}),\n",
       " Prediction(uid=201, iid=435, r_ui=4.0, est=3.2282007553492766, details={'was_impossible': False}),\n",
       " Prediction(uid=43, iid=751, r_ui=2.0, est=3.8060078111340867, details={'was_impossible': False}),\n",
       " Prediction(uid=484, iid=463, r_ui=4.0, est=3.9050680066280155, details={'was_impossible': False}),\n",
       " Prediction(uid=567, iid=168, r_ui=5.0, est=4.0389751748001865, details={'was_impossible': False}),\n",
       " Prediction(uid=389, iid=1050, r_ui=4.0, est=3.7897276710897057, details={'was_impossible': False}),\n",
       " Prediction(uid=795, iid=172, r_ui=3.0, est=3.8244868582955913, details={'was_impossible': False}),\n",
       " Prediction(uid=311, iid=216, r_ui=5.0, est=3.834618752866068, details={'was_impossible': False}),\n",
       " Prediction(uid=790, iid=153, r_ui=3.0, est=3.6262126024527106, details={'was_impossible': False}),\n",
       " Prediction(uid=647, iid=554, r_ui=4.0, est=3.0552078700528686, details={'was_impossible': False}),\n",
       " Prediction(uid=828, iid=224, r_ui=3.0, est=3.148007350222071, details={'was_impossible': False}),\n",
       " Prediction(uid=746, iid=62, r_ui=3.0, est=3.303251694082887, details={'was_impossible': False}),\n",
       " Prediction(uid=881, iid=520, r_ui=5.0, est=3.97801856949604, details={'was_impossible': False}),\n",
       " Prediction(uid=276, iid=96, r_ui=5.0, est=4.114977023663351, details={'was_impossible': False}),\n",
       " Prediction(uid=194, iid=173, r_ui=5.0, est=3.671078104423146, details={'was_impossible': False}),\n",
       " Prediction(uid=749, iid=1041, r_ui=4.0, est=3.297328716098577, details={'was_impossible': False}),\n",
       " Prediction(uid=923, iid=1277, r_ui=5.0, est=3.9322426619384094, details={'was_impossible': False}),\n",
       " Prediction(uid=846, iid=738, r_ui=4.0, est=3.1453370190549936, details={'was_impossible': False}),\n",
       " Prediction(uid=882, iid=988, r_ui=5.0, est=2.8761390592655727, details={'was_impossible': False}),\n",
       " Prediction(uid=592, iid=844, r_ui=4.0, est=3.936794058204427, details={'was_impossible': False}),\n",
       " Prediction(uid=474, iid=79, r_ui=5.0, est=4.631859016214345, details={'was_impossible': False}),\n",
       " Prediction(uid=62, iid=512, r_ui=4.0, est=3.824873874600078, details={'was_impossible': False}),\n",
       " Prediction(uid=889, iid=94, r_ui=4.0, est=3.051835906964133, details={'was_impossible': False}),\n",
       " Prediction(uid=535, iid=953, r_ui=5.0, est=3.4796281077639946, details={'was_impossible': False}),\n",
       " Prediction(uid=95, iid=1101, r_ui=2.0, est=3.55711263729931, details={'was_impossible': False}),\n",
       " Prediction(uid=201, iid=231, r_ui=2.0, est=2.7748661389046196, details={'was_impossible': False}),\n",
       " Prediction(uid=521, iid=597, r_ui=2.0, est=2.636216824159276, details={'was_impossible': False}),\n",
       " Prediction(uid=655, iid=89, r_ui=4.0, est=3.690742827081203, details={'was_impossible': False}),\n",
       " Prediction(uid=72, iid=226, r_ui=4.0, est=3.514698668260704, details={'was_impossible': False}),\n",
       " Prediction(uid=532, iid=292, r_ui=4.0, est=4.362318183474069, details={'was_impossible': False}),\n",
       " Prediction(uid=921, iid=328, r_ui=5.0, est=3.976910534375703, details={'was_impossible': False}),\n",
       " Prediction(uid=736, iid=246, r_ui=4.0, est=3.660760144198319, details={'was_impossible': False}),\n",
       " Prediction(uid=60, iid=505, r_ui=4.0, est=4.1828420625768326, details={'was_impossible': False}),\n",
       " Prediction(uid=6, iid=59, r_ui=5.0, est=3.644629745993251, details={'was_impossible': False}),\n",
       " Prediction(uid=434, iid=476, r_ui=4.0, est=3.771489707717054, details={'was_impossible': False}),\n",
       " Prediction(uid=427, iid=292, r_ui=2.0, est=4.77235525849424, details={'was_impossible': False}),\n",
       " Prediction(uid=286, iid=710, r_ui=4.0, est=4.1649215438594736, details={'was_impossible': False}),\n",
       " Prediction(uid=791, iid=319, r_ui=2.0, est=3.8799605542434485, details={'was_impossible': False}),\n",
       " Prediction(uid=546, iid=100, r_ui=3.0, est=4.833956869343168, details={'was_impossible': False}),\n",
       " Prediction(uid=7, iid=498, r_ui=5.0, est=4.569004052438451, details={'was_impossible': False}),\n",
       " Prediction(uid=164, iid=845, r_ui=3.0, est=4.291722753616866, details={'was_impossible': False}),\n",
       " Prediction(uid=426, iid=318, r_ui=5.0, est=4.2494792014693825, details={'was_impossible': False}),\n",
       " Prediction(uid=815, iid=97, r_ui=5.0, est=3.953734299158278, details={'was_impossible': False}),\n",
       " Prediction(uid=712, iid=204, r_ui=4.0, est=4.29960049064971, details={'was_impossible': False}),\n",
       " Prediction(uid=663, iid=928, r_ui=3.0, est=3.2572862151679227, details={'was_impossible': False}),\n",
       " Prediction(uid=586, iid=541, r_ui=3.0, est=2.8241548029320884, details={'was_impossible': False}),\n",
       " Prediction(uid=534, iid=322, r_ui=4.0, est=3.970344881046892, details={'was_impossible': False}),\n",
       " Prediction(uid=393, iid=1048, r_ui=3.0, est=2.9913271404051374, details={'was_impossible': False}),\n",
       " Prediction(uid=524, iid=1129, r_ui=2.0, est=3.6175571137518547, details={'was_impossible': False}),\n",
       " Prediction(uid=351, iid=288, r_ui=3.0, est=3.985377689946673, details={'was_impossible': False}),\n",
       " Prediction(uid=666, iid=429, r_ui=5.0, est=3.7923010352611017, details={'was_impossible': False}),\n",
       " Prediction(uid=328, iid=755, r_ui=3.0, est=3.0801625010468854, details={'was_impossible': False}),\n",
       " Prediction(uid=718, iid=591, r_ui=4.0, est=4.298687050200065, details={'was_impossible': False}),\n",
       " Prediction(uid=537, iid=419, r_ui=2.0, est=2.9373337646256044, details={'was_impossible': False}),\n",
       " Prediction(uid=502, iid=893, r_ui=2.0, est=3.4050557321793415, details={'was_impossible': False}),\n",
       " Prediction(uid=59, iid=427, r_ui=5.0, est=5, details={'was_impossible': False}),\n",
       " Prediction(uid=751, iid=659, r_ui=5.0, est=3.9176736820949443, details={'was_impossible': False}),\n",
       " Prediction(uid=447, iid=258, r_ui=5.0, est=3.862564522849822, details={'was_impossible': False}),\n",
       " Prediction(uid=778, iid=154, r_ui=5.0, est=3.2943263149509114, details={'was_impossible': False}),\n",
       " Prediction(uid=136, iid=19, r_ui=4.0, est=4.652675535088482, details={'was_impossible': False}),\n",
       " Prediction(uid=495, iid=147, r_ui=5.0, est=3.6460571400741575, details={'was_impossible': False}),\n",
       " Prediction(uid=232, iid=921, r_ui=4.0, est=4.0357253636968204, details={'was_impossible': False}),\n",
       " Prediction(uid=387, iid=179, r_ui=5.0, est=4.109740552681255, details={'was_impossible': False}),\n",
       " Prediction(uid=892, iid=188, r_ui=5.0, est=3.9832993641850423, details={'was_impossible': False}),\n",
       " Prediction(uid=381, iid=607, r_ui=4.0, est=4.041034528981957, details={'was_impossible': False}),\n",
       " Prediction(uid=751, iid=480, r_ui=4.0, est=3.8897243956450596, details={'was_impossible': False}),\n",
       " Prediction(uid=405, iid=1556, r_ui=1.0, est=1.8971417478289094, details={'was_impossible': False}),\n",
       " Prediction(uid=60, iid=480, r_ui=4.0, est=4.809882413540541, details={'was_impossible': False}),\n",
       " Prediction(uid=193, iid=174, r_ui=4.0, est=3.622305726069352, details={'was_impossible': False}),\n",
       " Prediction(uid=843, iid=511, r_ui=3.0, est=3.519573700958763, details={'was_impossible': False}),\n",
       " Prediction(uid=330, iid=549, r_ui=5.0, est=4.576630845157239, details={'was_impossible': False}),\n",
       " Prediction(uid=642, iid=210, r_ui=5.0, est=4.19454280983471, details={'was_impossible': False}),\n",
       " Prediction(uid=72, iid=56, r_ui=5.0, est=4.911845490696443, details={'was_impossible': False}),\n",
       " Prediction(uid=532, iid=734, r_ui=3.0, est=3.431878698517257, details={'was_impossible': False}),\n",
       " Prediction(uid=796, iid=333, r_ui=5.0, est=3.6467180754722035, details={'was_impossible': False}),\n",
       " Prediction(uid=405, iid=1445, r_ui=1.0, est=1.4507453486073123, details={'was_impossible': False}),\n",
       " Prediction(uid=895, iid=222, r_ui=3.0, est=3.9785032100316866, details={'was_impossible': False}),\n",
       " Prediction(uid=708, iid=846, r_ui=2.0, est=3.0323917926800803, details={'was_impossible': False}),\n",
       " Prediction(uid=274, iid=742, r_ui=4.0, est=4.1598054471473995, details={'was_impossible': False}),\n",
       " Prediction(uid=197, iid=770, r_ui=3.0, est=3.447044528239643, details={'was_impossible': False}),\n",
       " Prediction(uid=541, iid=1041, r_ui=3.0, est=3.281014023605838, details={'was_impossible': False}),\n",
       " Prediction(uid=406, iid=122, r_ui=3.0, est=1.9848179948811544, details={'was_impossible': False}),\n",
       " Prediction(uid=279, iid=1489, r_ui=3.0, est=2.6524694051287874, details={'was_impossible': False}),\n",
       " Prediction(uid=548, iid=185, r_ui=5.0, est=4.235556879006635, details={'was_impossible': False}),\n",
       " Prediction(uid=766, iid=432, r_ui=3.0, est=3.47263200222495, details={'was_impossible': False}),\n",
       " Prediction(uid=755, iid=881, r_ui=1.0, est=2.700771726968808, details={'was_impossible': False}),\n",
       " Prediction(uid=126, iid=752, r_ui=3.0, est=3.298438814137157, details={'was_impossible': False}),\n",
       " Prediction(uid=378, iid=52, r_ui=5.0, est=3.829169258038591, details={'was_impossible': False}),\n",
       " Prediction(uid=344, iid=285, r_ui=5.0, est=4.186173257932642, details={'was_impossible': False}),\n",
       " Prediction(uid=925, iid=682, r_ui=4.0, est=2.712894639453742, details={'was_impossible': False}),\n",
       " Prediction(uid=600, iid=181, r_ui=4.0, est=4.171758327337021, details={'was_impossible': False}),\n",
       " Prediction(uid=299, iid=91, r_ui=4.0, est=3.2433245677437332, details={'was_impossible': False}),\n",
       " Prediction(uid=896, iid=64, r_ui=4.0, est=4.229084741697784, details={'was_impossible': False}),\n",
       " Prediction(uid=291, iid=204, r_ui=4.0, est=4.004349892154789, details={'was_impossible': False}),\n",
       " Prediction(uid=297, iid=455, r_ui=4.0, est=3.096828969236312, details={'was_impossible': False}),\n",
       " Prediction(uid=474, iid=618, r_ui=4.0, est=3.6981594045732136, details={'was_impossible': False}),\n",
       " Prediction(uid=892, iid=230, r_ui=4.0, est=3.6631543282119745, details={'was_impossible': False}),\n",
       " Prediction(uid=654, iid=56, r_ui=4.0, est=3.5257359988240937, details={'was_impossible': False}),\n",
       " Prediction(uid=790, iid=376, r_ui=2.0, est=2.7090323624516897, details={'was_impossible': False}),\n",
       " Prediction(uid=57, iid=258, r_ui=5.0, est=4.166014509239252, details={'was_impossible': False}),\n",
       " Prediction(uid=875, iid=418, r_ui=4.0, est=3.644285389054592, details={'was_impossible': False}),\n",
       " Prediction(uid=677, iid=14, r_ui=1.0, est=3.7341074420967044, details={'was_impossible': False}),\n",
       " Prediction(uid=893, iid=597, r_ui=4.0, est=3.1915994231831477, details={'was_impossible': False}),\n",
       " ...]"
      ]
     },
     "execution_count": 57,
     "metadata": {
     },
     "output_type": "execute_result"
    }
   ],
   "source": [
    "model.test(testset)"
   ]
  },
  {
   "cell_type": "code",
   "execution_count": 58,
   "metadata": {
    "collapsed": false
   },
   "outputs": [
    {
     "name": "stdout",
     "output_type": "stream",
     "text": [
      "RMSE: 0.9784\n",
      "RMSE: 0.9783642393648695\n"
     ]
    }
   ],
   "source": [
    "predictions = d.test(testset)\n",
    "\n",
    "\n",
    "rmse = accuracy.rmse(predictions)\n",
    "print('RMSE:', rmse)"
   ]
  },
  {
   "cell_type": "code",
   "execution_count": 59,
   "metadata": {
    "collapsed": false
   },
   "outputs": [
    {
     "name": "stdout",
     "output_type": "stream",
     "text": [
      "RMSE: 0.9403\n",
      "RMSE: 0.9402913673799157\n"
     ]
    }
   ],
   "source": [
    "predictions = model.test(testset)\n",
    "\n",
    "\n",
    "rmse = accuracy.rmse(predictions)\n",
    "print('RMSE:', rmse)"
   ]
  },
  {
   "cell_type": "code",
   "execution_count": 60,
   "metadata": {
    "collapsed": false
   },
   "outputs": [
    {
     "data": {
      "image/png": "[encoded data removed]",
      "text/plain": [
       "<Figure size 864x504 with 1 Axes>"
      ]
     },
     "execution_count": 60,
     "metadata": {
      "image/png": {
       "height": 411,
       "width": 687
      },
      "needs_background": "light"
     },
     "output_type": "execute_result"
    }
   ],
   "source": [
    "import seaborn as sns\n",
    "import matplotlib.pyplot as plt\n",
    "\n",
    "# Créer un jeu de données fictif\n",
    "data = [5,10, 15, 20, 25, 30, 35,40,45,50,55,60,65, 100,5,5,5,5,5,10,10,15]\n",
    "\n",
    "# Créer un graphique en boîte à moustaches\n",
    "sns.boxplot(x=data)\n",
    "plt.show()"
   ]
  },
  {
   "cell_type": "code",
   "execution_count": 61,
   "metadata": {
    "collapsed": false
   },
   "outputs": [
    {
     "data": {
      "image/png": "[encoded data removed]",
      "text/plain": [
       "<Figure size 864x504 with 1 Axes>"
      ]
     },
     "execution_count": 61,
     "metadata": {
      "image/png": {
       "height": 411,
       "width": 710
      },
      "needs_background": "light"
     },
     "output_type": "execute_result"
    }
   ],
   "source": [
    "import seaborn as sns\n",
    "import matplotlib.pyplot as plt\n",
    "\n",
    "# Créer un jeu de données fictif avec des valeurs aberrantes\n",
    "data = [1, 2, 3, 4, 100,5,6,7,8,9,4,4,4,3,2]\n",
    "\n",
    "# Créer un diagramme de dispersion\n",
    "sns.scatterplot(x=range(len(data)), y=data)\n",
    "plt.show()\n"
   ]
  },
  {
   "cell_type": "code",
   "execution_count": 62,
   "metadata": {
    "collapsed": false
   },
   "outputs": [
    {
     "data": {
      "image/png": "[encoded data removed]",
      "text/plain": [
       "<Figure size 864x504 with 1 Axes>"
      ]
     },
     "execution_count": 62,
     "metadata": {
      "image/png": {
       "height": 411,
       "width": 720
      },
      "needs_background": "light"
     },
     "output_type": "execute_result"
    }
   ],
   "source": [
    "import seaborn as sns\n",
    "import matplotlib.pyplot as plt\n",
    "\n",
    "# Créer un jeu de données fictif avec des valeurs aberrantes\n",
    "data = [1, 2, 3, 4, 100]\n",
    "\n",
    "# Créer un histogramme\n",
    "sns.histplot(data, kde=True)\n",
    "plt.show()\n"
   ]
  },
  {
   "cell_type": "code",
   "execution_count": 63,
   "metadata": {
    "collapsed": false
   },
   "outputs": [
    {
     "data": {
      "image/png": "[encoded data removed]",
      "text/plain": [
       "<Figure size 864x504 with 2 Axes>"
      ]
     },
     "execution_count": 63,
     "metadata": {
      "image/png": {
       "height": 415,
       "width": 645
      },
      "needs_background": "light"
     },
     "output_type": "execute_result"
    }
   ],
   "source": [
    "import seaborn as sns\n",
    "import matplotlib.pyplot as plt\n",
    "\n",
    "# Créer un jeu de données fictif avec des valeurs aberrantes\n",
    "data = [[1, 2], [3, 4], [100, 5],[40,50]]\n",
    "\n",
    "# Créer une heatmap\n",
    "sns.heatmap(data, annot=True, cmap=\"YlGnBu\")\n",
    "plt.show()\n"
   ]
  },
  {
   "cell_type": "code",
   "execution_count": 0,
   "metadata": {
    "collapsed": false
   },
   "outputs": [
   ],
   "source": [
   ]
  }
 ],
 "metadata": {
  "kernelspec": {
   "argv": [
    "/usr/bin/python3",
    "-m",
    "ipykernel",
    "--HistoryManager.enabled=False",
    "--matplotlib=inline",
    "-c",
    "%config InlineBackend.figure_formats = set(['retina'])\nimport matplotlib; matplotlib.rcParams['figure.figsize'] = (12, 7)",
    "-f",
    "{connection_file}"
   ],
   "display_name": "Python 3 (system-wide)",
   "env": {
   },
   "language": "python",
   "metadata": {
    "cocalc": {
     "description": "Python 3 programming language",
     "priority": 100,
     "url": "https://www.python.org/"
    }
   },
   "name": "python3",
   "resource_dir": "/ext/jupyter/kernels/python3"
  },
  "language_info": {
   "codemirror_mode": {
    "name": "ipython",
    "version": 3
   },
   "file_extension": ".py",
   "mimetype": "text/x-python",
   "name": "python",
   "nbconvert_exporter": "python",
   "pygments_lexer": "ipython3",
   "version": "3.10.12"
  }
 },
 "nbformat": 4,
 "nbformat_minor": 4
}